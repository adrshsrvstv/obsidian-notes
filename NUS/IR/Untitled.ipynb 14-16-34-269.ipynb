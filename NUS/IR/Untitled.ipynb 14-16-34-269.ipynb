{
 "cells": [
  {
   "cell_type": "code",
   "execution_count": 10,
   "id": "0e1f1c99",
   "metadata": {},
   "outputs": [
    {
     "name": "stdout",
     "output_type": "stream",
     "text": [
      "55\n",
      "55\n",
      "3025\n"
     ]
    }
   ],
   "source": [
    "import math\n",
    "padding = 0\n",
    "kernel_size = 1\n",
    "stride = 1\n",
    "H_out = math.floor((55 + 2*padding - kernel_size)/float(stride)) + 1\n",
    "W_out = math.floor((55 + 2*padding - kernel_size)/float(stride)) + 1\n",
    "print(H_out)\n",
    "print(W_out)\n",
    "print(H_out*W_out)"
   ]
  },
  {
   "cell_type": "code",
   "execution_count": 4,
   "id": "29631cb0",
   "metadata": {},
   "outputs": [
    {
     "data": {
      "text/plain": [
       "3969"
      ]
     },
     "execution_count": 4,
     "metadata": {},
     "output_type": "execute_result"
    }
   ],
   "source": [
    "H_out*W_out"
   ]
  },
  {
   "cell_type": "code",
   "execution_count": 8,
   "id": "3b6530ca",
   "metadata": {},
   "outputs": [
    {
     "data": {
      "text/plain": [
       "18432"
      ]
     },
     "execution_count": 8,
     "metadata": {},
     "output_type": "execute_result"
    }
   ],
   "source": [
    "96*96*2"
   ]
  },
  {
   "cell_type": "code",
   "execution_count": 9,
   "id": "329c4c8f",
   "metadata": {},
   "outputs": [
    {
     "data": {
      "text/plain": [
       "131072"
      ]
     },
     "execution_count": 9,
     "metadata": {},
     "output_type": "execute_result"
    }
   ],
   "source": [
    "2*256*256"
   ]
  },
  {
   "cell_type": "code",
   "execution_count": 7,
   "id": "dcd49710",
   "metadata": {},
   "outputs": [
    {
     "name": "stdout",
     "output_type": "stream",
     "text": [
      "55\n",
      "55\n",
      "3025\n"
     ]
    }
   ],
   "source": [
    "k = 1\n",
    "padding = 0\n",
    "kernel_size = 1\n",
    "stride = 1\n",
    "H_out = math.floor((55 + 2*padding - kernel_size)/float(stride)) + 1\n",
    "W_out = math.floor((55 + 2*padding - kernel_size)/float(stride)) + 1\n",
    "print(H_out)\n",
    "print(W_out)\n",
    "print(H_out*W_out)\n"
   ]
  },
  {
   "cell_type": "code",
   "execution_count": null,
   "id": "042f70f4",
   "metadata": {},
   "outputs": [],
   "source": [
    "# number of params = 1*in_channel*out_channel\n",
    "# initially 11*11*3*96\n",
    "#then 1*1*96*96\n",
    "#and 1*1*96*96 params for first convolution\n",
    "\n",
    "###\n",
    "# 1*1*256*256"
   ]
  },
  {
   "cell_type": "code",
   "execution_count": 43,
   "id": "c53d5855",
   "metadata": {},
   "outputs": [
    {
     "name": "stderr",
     "output_type": "stream",
     "text": [
      "/var/folders/9p/4f_fcqf57lx9ck4gqb88rkm80000gn/T/ipykernel_54485/3815728751.py:4: ParserWarning: Falling back to the 'python' engine because the 'c' engine does not support regex separators (separators > 1 char and different from '\\s+' are interpreted as regex); you can avoid this warning by specifying engine='python'.\n",
      "  df = pd.read_csv('train.txt', sep='  ')\n"
     ]
    }
   ],
   "source": [
    "import pandas as pd\n",
    "from PIL import Image\n",
    "img = Image.open('16698.jpg')\n",
    "df = pd.read_csv('train.txt', sep='  ')"
   ]
  },
  {
   "cell_type": "code",
   "execution_count": 30,
   "id": "74997f90",
   "metadata": {},
   "outputs": [
    {
     "data": {
      "image/png": "[encoded data removed]",
      "text/plain": [
       "<PIL.JpegImagePlugin.JpegImageFile image mode=RGB size=160x120>"
      ]
     },
     "execution_count": 30,
     "metadata": {},
     "output_type": "execute_result"
    }
   ],
   "source": [
    "img"
   ]
  },
  {
   "cell_type": "code",
   "execution_count": 31,
   "id": "aa9e62df",
   "metadata": {},
   "outputs": [
    {
     "data": {
      "text/html": [
       "<div>\n",
       "<style scoped>\n",
       "    .dataframe tbody tr th:only-of-type {\n",
       "        vertical-align: middle;\n",
       "    }\n",
       "\n",
       "    .dataframe tbody tr th {\n",
       "        vertical-align: top;\n",
       "    }\n",
       "\n",
       "    .dataframe thead th {\n",
       "        text-align: right;\n",
       "    }\n",
       "</style>\n",
       "<table border=\"1\" class=\"dataframe\">\n",
       "  <thead>\n",
       "    <tr style=\"text-align: right;\">\n",
       "      <th></th>\n",
       "      <th>frame</th>\n",
       "      <th>intention_type</th>\n",
       "      <th>current_velocity</th>\n",
       "      <th>steering_wheel_angle</th>\n",
       "      <th>dlm</th>\n",
       "    </tr>\n",
       "  </thead>\n",
       "  <tbody>\n",
       "    <tr>\n",
       "      <th>0</th>\n",
       "      <td>716928</td>\n",
       "      <td>dlm</td>\n",
       "      <td>0.700000</td>\n",
       "      <td>0.230323</td>\n",
       "      <td>forward</td>\n",
       "    </tr>\n",
       "    <tr>\n",
       "      <th>1</th>\n",
       "      <td>138397</td>\n",
       "      <td>dlm</td>\n",
       "      <td>0.700000</td>\n",
       "      <td>0.360842</td>\n",
       "      <td>left</td>\n",
       "    </tr>\n",
       "    <tr>\n",
       "      <th>2</th>\n",
       "      <td>35065</td>\n",
       "      <td>dlm</td>\n",
       "      <td>0.700000</td>\n",
       "      <td>-0.700000</td>\n",
       "      <td>left</td>\n",
       "    </tr>\n",
       "    <tr>\n",
       "      <th>3</th>\n",
       "      <td>431722</td>\n",
       "      <td>dlm</td>\n",
       "      <td>0.700000</td>\n",
       "      <td>-0.000000</td>\n",
       "      <td>forward</td>\n",
       "    </tr>\n",
       "    <tr>\n",
       "      <th>4</th>\n",
       "      <td>442489</td>\n",
       "      <td>dlm</td>\n",
       "      <td>0.700000</td>\n",
       "      <td>-0.440205</td>\n",
       "      <td>forward</td>\n",
       "    </tr>\n",
       "    <tr>\n",
       "      <th>...</th>\n",
       "      <td>...</td>\n",
       "      <td>...</td>\n",
       "      <td>...</td>\n",
       "      <td>...</td>\n",
       "      <td>...</td>\n",
       "    </tr>\n",
       "    <tr>\n",
       "      <th>96995</th>\n",
       "      <td>180106</td>\n",
       "      <td>dlm</td>\n",
       "      <td>0.433006</td>\n",
       "      <td>0.700000</td>\n",
       "      <td>right</td>\n",
       "    </tr>\n",
       "    <tr>\n",
       "      <th>96996</th>\n",
       "      <td>419358</td>\n",
       "      <td>dlm</td>\n",
       "      <td>-0.000000</td>\n",
       "      <td>-0.000000</td>\n",
       "      <td>forward</td>\n",
       "    </tr>\n",
       "    <tr>\n",
       "      <th>96997</th>\n",
       "      <td>158119</td>\n",
       "      <td>dlm</td>\n",
       "      <td>0.700000</td>\n",
       "      <td>-0.267016</td>\n",
       "      <td>forward</td>\n",
       "    </tr>\n",
       "    <tr>\n",
       "      <th>96998</th>\n",
       "      <td>194361</td>\n",
       "      <td>dlm</td>\n",
       "      <td>0.700000</td>\n",
       "      <td>-0.000000</td>\n",
       "      <td>left</td>\n",
       "    </tr>\n",
       "    <tr>\n",
       "      <th>96999</th>\n",
       "      <td>935026</td>\n",
       "      <td>dlm</td>\n",
       "      <td>0.700000</td>\n",
       "      <td>-0.196978</td>\n",
       "      <td>right</td>\n",
       "    </tr>\n",
       "  </tbody>\n",
       "</table>\n",
       "<p>97000 rows × 5 columns</p>\n",
       "</div>"
      ],
      "text/plain": [
       "        frame intention_type  current_velocity  steering_wheel_angle      dlm\n",
       "0      716928            dlm          0.700000              0.230323  forward\n",
       "1      138397            dlm          0.700000              0.360842     left\n",
       "2       35065            dlm          0.700000             -0.700000     left\n",
       "3      431722            dlm          0.700000             -0.000000  forward\n",
       "4      442489            dlm          0.700000             -0.440205  forward\n",
       "...       ...            ...               ...                   ...      ...\n",
       "96995  180106            dlm          0.433006              0.700000    right\n",
       "96996  419358            dlm         -0.000000             -0.000000  forward\n",
       "96997  158119            dlm          0.700000             -0.267016  forward\n",
       "96998  194361            dlm          0.700000             -0.000000     left\n",
       "96999  935026            dlm          0.700000             -0.196978    right\n",
       "\n",
       "[97000 rows x 5 columns]"
      ]
     },
     "execution_count": 31,
     "metadata": {},
     "output_type": "execute_result"
    }
   ],
   "source": [
    "df"
   ]
  },
  {
   "cell_type": "code",
   "execution_count": 32,
   "id": "b0ff2609",
   "metadata": {},
   "outputs": [],
   "source": []
  },
  {
   "cell_type": "code",
   "execution_count": 33,
   "id": "3eae262c",
   "metadata": {},
   "outputs": [],
   "source": [
    "changed_df= df.copy()\n",
    "changed_df['frame'] = changed_df['frame'].astype(str)+'_flipped'\n",
    "changed_df['steering_wheel_angle'] = changed_df['steering_wheel_angle']*-1\n",
    "changed_df['dlm'] = df['dlm'].apply(lambda x: flip(x))"
   ]
  },
  {
   "cell_type": "code",
   "execution_count": 59,
   "id": "cc337078",
   "metadata": {},
   "outputs": [
    {
     "data": {
      "text/html": [
       "<div>\n",
       "<style scoped>\n",
       "    .dataframe tbody tr th:only-of-type {\n",
       "        vertical-align: middle;\n",
       "    }\n",
       "\n",
       "    .dataframe tbody tr th {\n",
       "        vertical-align: top;\n",
       "    }\n",
       "\n",
       "    .dataframe thead th {\n",
       "        text-align: right;\n",
       "    }\n",
       "</style>\n",
       "<table border=\"1\" class=\"dataframe\">\n",
       "  <thead>\n",
       "    <tr style=\"text-align: right;\">\n",
       "      <th></th>\n",
       "      <th>frame</th>\n",
       "      <th>intention_type</th>\n",
       "      <th>current_velocity</th>\n",
       "      <th>steering_wheel_angle</th>\n",
       "      <th>dlm</th>\n",
       "    </tr>\n",
       "  </thead>\n",
       "  <tbody>\n",
       "    <tr>\n",
       "      <th>0</th>\n",
       "      <td>716928_flipped</td>\n",
       "      <td>dlm</td>\n",
       "      <td>0.700000</td>\n",
       "      <td>-0.230323</td>\n",
       "      <td>forward</td>\n",
       "    </tr>\n",
       "    <tr>\n",
       "      <th>1</th>\n",
       "      <td>138397_flipped</td>\n",
       "      <td>dlm</td>\n",
       "      <td>0.700000</td>\n",
       "      <td>-0.360842</td>\n",
       "      <td>right</td>\n",
       "    </tr>\n",
       "    <tr>\n",
       "      <th>2</th>\n",
       "      <td>35065_flipped</td>\n",
       "      <td>dlm</td>\n",
       "      <td>0.700000</td>\n",
       "      <td>0.700000</td>\n",
       "      <td>right</td>\n",
       "    </tr>\n",
       "    <tr>\n",
       "      <th>3</th>\n",
       "      <td>431722_flipped</td>\n",
       "      <td>dlm</td>\n",
       "      <td>0.700000</td>\n",
       "      <td>0.000000</td>\n",
       "      <td>forward</td>\n",
       "    </tr>\n",
       "    <tr>\n",
       "      <th>4</th>\n",
       "      <td>442489_flipped</td>\n",
       "      <td>dlm</td>\n",
       "      <td>0.700000</td>\n",
       "      <td>0.440205</td>\n",
       "      <td>forward</td>\n",
       "    </tr>\n",
       "    <tr>\n",
       "      <th>...</th>\n",
       "      <td>...</td>\n",
       "      <td>...</td>\n",
       "      <td>...</td>\n",
       "      <td>...</td>\n",
       "      <td>...</td>\n",
       "    </tr>\n",
       "    <tr>\n",
       "      <th>96995</th>\n",
       "      <td>180106_flipped</td>\n",
       "      <td>dlm</td>\n",
       "      <td>0.433006</td>\n",
       "      <td>-0.700000</td>\n",
       "      <td>left</td>\n",
       "    </tr>\n",
       "    <tr>\n",
       "      <th>96996</th>\n",
       "      <td>419358_flipped</td>\n",
       "      <td>dlm</td>\n",
       "      <td>-0.000000</td>\n",
       "      <td>0.000000</td>\n",
       "      <td>forward</td>\n",
       "    </tr>\n",
       "    <tr>\n",
       "      <th>96997</th>\n",
       "      <td>158119_flipped</td>\n",
       "      <td>dlm</td>\n",
       "      <td>0.700000</td>\n",
       "      <td>0.267016</td>\n",
       "      <td>forward</td>\n",
       "    </tr>\n",
       "    <tr>\n",
       "      <th>96998</th>\n",
       "      <td>194361_flipped</td>\n",
       "      <td>dlm</td>\n",
       "      <td>0.700000</td>\n",
       "      <td>0.000000</td>\n",
       "      <td>right</td>\n",
       "    </tr>\n",
       "    <tr>\n",
       "      <th>96999</th>\n",
       "      <td>935026_flipped</td>\n",
       "      <td>dlm</td>\n",
       "      <td>0.700000</td>\n",
       "      <td>0.196978</td>\n",
       "      <td>left</td>\n",
       "    </tr>\n",
       "  </tbody>\n",
       "</table>\n",
       "<p>97000 rows × 5 columns</p>\n",
       "</div>"
      ],
      "text/plain": [
       "                frame intention_type  current_velocity  steering_wheel_angle  \\\n",
       "0      716928_flipped            dlm          0.700000             -0.230323   \n",
       "1      138397_flipped            dlm          0.700000             -0.360842   \n",
       "2       35065_flipped            dlm          0.700000              0.700000   \n",
       "3      431722_flipped            dlm          0.700000              0.000000   \n",
       "4      442489_flipped            dlm          0.700000              0.440205   \n",
       "...               ...            ...               ...                   ...   \n",
       "96995  180106_flipped            dlm          0.433006             -0.700000   \n",
       "96996  419358_flipped            dlm         -0.000000              0.000000   \n",
       "96997  158119_flipped            dlm          0.700000              0.267016   \n",
       "96998  194361_flipped            dlm          0.700000              0.000000   \n",
       "96999  935026_flipped            dlm          0.700000              0.196978   \n",
       "\n",
       "           dlm  \n",
       "0      forward  \n",
       "1        right  \n",
       "2        right  \n",
       "3      forward  \n",
       "4      forward  \n",
       "...        ...  \n",
       "96995     left  \n",
       "96996  forward  \n",
       "96997  forward  \n",
       "96998    right  \n",
       "96999     left  \n",
       "\n",
       "[97000 rows x 5 columns]"
      ]
     },
     "execution_count": 59,
     "metadata": {},
     "output_type": "execute_result"
    }
   ],
   "source": [
    "changed_df"
   ]
  },
  {
   "cell_type": "code",
   "execution_count": 35,
   "id": "27aeb2dc",
   "metadata": {},
   "outputs": [],
   "source": [
    "df_merged = pd.concat([df, changed_df], ignore_index=True)"
   ]
  },
  {
   "cell_type": "code",
   "execution_count": 61,
   "id": "98d50a79",
   "metadata": {},
   "outputs": [],
   "source": [
    "\n",
    "changed_df.to_csv(os.path.join('.', 'train.txt'), header=None, index=None, sep=' ', mode='a')"
   ]
  },
  {
   "cell_type": "code",
   "execution_count": 62,
   "id": "a98402dc",
   "metadata": {},
   "outputs": [
    {
     "name": "stderr",
     "output_type": "stream",
     "text": [
      "/var/folders/9p/4f_fcqf57lx9ck4gqb88rkm80000gn/T/ipykernel_54485/1032858824.py:1: DeprecationWarning: FLIP_LEFT_RIGHT is deprecated and will be removed in Pillow 10 (2023-07-01). Use Transpose.FLIP_LEFT_RIGHT instead.\n",
      "  out = img.transpose(Image.FLIP_LEFT_RIGHT)\n"
     ]
    }
   ],
   "source": [
    "\n",
    "out = img.transpose(Image.FLIP_LEFT_RIGHT)"
   ]
  },
  {
   "cell_type": "code",
   "execution_count": 45,
   "id": "9c6072e6",
   "metadata": {},
   "outputs": [
    {
     "data": {
      "image/png": "[encoded data removed]",
      "text/plain": [
       "<PIL.Image.Image image mode=RGB size=160x120>"
      ]
     },
     "execution_count": 45,
     "metadata": {},
     "output_type": "execute_result"
    }
   ],
   "source": [
    "out.save('transpose-output.png')"
   ]
  },
  {
   "cell_type": "code",
   "execution_count": 55,
   "id": "0932a2ee",
   "metadata": {},
   "outputs": [],
   "source": [
    "def augment_data(path):\n",
    "    df = pd.read_csv(os.path.join(path, 'train.txt'), sep='  ')\n",
    "    changed_df= df.copy()\n",
    "    changed_df['frame'] = changed_df['frame'].astype(str)+'_flipped'\n",
    "    changed_df['steering_wheel_angle'] = changed_df['steering_wheel_angle']*-1\n",
    "    changed_df['dlm'] = df['dlm'].apply(lambda x: flip(x))\n",
    "    df['frame'].apply(lambda x: save_flipped_copy(path, x))\n",
    "    "
   ]
  },
  {
   "cell_type": "code",
   "execution_count": 56,
   "id": "489c52ed",
   "metadata": {},
   "outputs": [],
   "source": [
    "import os\n",
    "\n",
    "def flip(s):\n",
    "    if s == 'left':\n",
    "        s = 'right'\n",
    "    elif s== 'right':\n",
    "        s = 'left'\n",
    "    return s\n",
    "\n",
    "def save_flipped_copy(path, frame):\n",
    "    im = Image.open(os.path.join(path, f'{frame}.jpg'))\n",
    "    out = im.transpose(Image.Transpose.FLIP_LEFT_RIGHT)\n",
    "    out.save(os.path.join(path, 'images', f'{frame}_flipped.jpg'))"
   ]
  },
  {
   "cell_type": "code",
   "execution_count": 53,
   "id": "cc427fd1",
   "metadata": {},
   "outputs": [],
   "source": [
    "save_flipped_copy('.', 16698)"
   ]
  },
  {
   "cell_type": "code",
   "execution_count": 57,
   "id": "14c30969",
   "metadata": {},
   "outputs": [
    {
     "name": "stderr",
     "output_type": "stream",
     "text": [
      "/var/folders/9p/4f_fcqf57lx9ck4gqb88rkm80000gn/T/ipykernel_54485/3876929699.py:2: ParserWarning: Falling back to the 'python' engine because the 'c' engine does not support regex separators (separators > 1 char and different from '\\s+' are interpreted as regex); you can avoid this warning by specifying engine='python'.\n",
      "  df = pd.read_csv(os.path.join(path, 'train.txt'), sep='  ')\n"
     ]
    },
    {
     "ename": "FileNotFoundError",
     "evalue": "[Errno 2] No such file or directory: './716928.jpg'",
     "output_type": "error",
     "traceback": [
      "\u001b[0;31m---------------------------------------------------------------------------\u001b[0m",
      "\u001b[0;31mFileNotFoundError\u001b[0m                         Traceback (most recent call last)",
      "Input \u001b[0;32mIn [57]\u001b[0m, in \u001b[0;36m<cell line: 1>\u001b[0;34m()\u001b[0m\n\u001b[0;32m----> 1\u001b[0m \u001b[43maugment_data\u001b[49m\u001b[43m(\u001b[49m\u001b[38;5;124;43m'\u001b[39;49m\u001b[38;5;124;43m.\u001b[39;49m\u001b[38;5;124;43m'\u001b[39;49m\u001b[43m)\u001b[49m\n",
      "Input \u001b[0;32mIn [55]\u001b[0m, in \u001b[0;36maugment_data\u001b[0;34m(path)\u001b[0m\n\u001b[1;32m      5\u001b[0m changed_df[\u001b[38;5;124m'\u001b[39m\u001b[38;5;124msteering_wheel_angle\u001b[39m\u001b[38;5;124m'\u001b[39m] \u001b[38;5;241m=\u001b[39m changed_df[\u001b[38;5;124m'\u001b[39m\u001b[38;5;124msteering_wheel_angle\u001b[39m\u001b[38;5;124m'\u001b[39m]\u001b[38;5;241m*\u001b[39m\u001b[38;5;241m-\u001b[39m\u001b[38;5;241m1\u001b[39m\n\u001b[1;32m      6\u001b[0m changed_df[\u001b[38;5;124m'\u001b[39m\u001b[38;5;124mdlm\u001b[39m\u001b[38;5;124m'\u001b[39m] \u001b[38;5;241m=\u001b[39m df[\u001b[38;5;124m'\u001b[39m\u001b[38;5;124mdlm\u001b[39m\u001b[38;5;124m'\u001b[39m]\u001b[38;5;241m.\u001b[39mapply(\u001b[38;5;28;01mlambda\u001b[39;00m x: flip(x))\n\u001b[0;32m----> 7\u001b[0m \u001b[43mdf\u001b[49m\u001b[43m[\u001b[49m\u001b[38;5;124;43m'\u001b[39;49m\u001b[38;5;124;43mframe\u001b[39;49m\u001b[38;5;124;43m'\u001b[39;49m\u001b[43m]\u001b[49m\u001b[38;5;241;43m.\u001b[39;49m\u001b[43mapply\u001b[49m\u001b[43m(\u001b[49m\u001b[38;5;28;43;01mlambda\u001b[39;49;00m\u001b[43m \u001b[49m\u001b[43mx\u001b[49m\u001b[43m:\u001b[49m\u001b[43m \u001b[49m\u001b[43msave_flipped_copy\u001b[49m\u001b[43m(\u001b[49m\u001b[43mpath\u001b[49m\u001b[43m,\u001b[49m\u001b[43m \u001b[49m\u001b[43mx\u001b[49m\u001b[43m)\u001b[49m\u001b[43m)\u001b[49m\n",
      "File \u001b[0;32m~/python_envs/nndl/lib/python3.10/site-packages/pandas/core/series.py:4433\u001b[0m, in \u001b[0;36mSeries.apply\u001b[0;34m(self, func, convert_dtype, args, **kwargs)\u001b[0m\n\u001b[1;32m   4323\u001b[0m \u001b[38;5;28;01mdef\u001b[39;00m \u001b[38;5;21mapply\u001b[39m(\n\u001b[1;32m   4324\u001b[0m     \u001b[38;5;28mself\u001b[39m,\n\u001b[1;32m   4325\u001b[0m     func: AggFuncType,\n\u001b[0;32m   (...)\u001b[0m\n\u001b[1;32m   4328\u001b[0m     \u001b[38;5;241m*\u001b[39m\u001b[38;5;241m*\u001b[39mkwargs,\n\u001b[1;32m   4329\u001b[0m ) \u001b[38;5;241m-\u001b[39m\u001b[38;5;241m>\u001b[39m DataFrame \u001b[38;5;241m|\u001b[39m Series:\n\u001b[1;32m   4330\u001b[0m     \u001b[38;5;124;03m\"\"\"\u001b[39;00m\n\u001b[1;32m   4331\u001b[0m \u001b[38;5;124;03m    Invoke function on values of Series.\u001b[39;00m\n\u001b[1;32m   4332\u001b[0m \n\u001b[0;32m   (...)\u001b[0m\n\u001b[1;32m   4431\u001b[0m \u001b[38;5;124;03m    dtype: float64\u001b[39;00m\n\u001b[1;32m   4432\u001b[0m \u001b[38;5;124;03m    \"\"\"\u001b[39;00m\n\u001b[0;32m-> 4433\u001b[0m     \u001b[38;5;28;01mreturn\u001b[39;00m \u001b[43mSeriesApply\u001b[49m\u001b[43m(\u001b[49m\u001b[38;5;28;43mself\u001b[39;49m\u001b[43m,\u001b[49m\u001b[43m \u001b[49m\u001b[43mfunc\u001b[49m\u001b[43m,\u001b[49m\u001b[43m \u001b[49m\u001b[43mconvert_dtype\u001b[49m\u001b[43m,\u001b[49m\u001b[43m \u001b[49m\u001b[43margs\u001b[49m\u001b[43m,\u001b[49m\u001b[43m \u001b[49m\u001b[43mkwargs\u001b[49m\u001b[43m)\u001b[49m\u001b[38;5;241;43m.\u001b[39;49m\u001b[43mapply\u001b[49m\u001b[43m(\u001b[49m\u001b[43m)\u001b[49m\n",
      "File \u001b[0;32m~/python_envs/nndl/lib/python3.10/site-packages/pandas/core/apply.py:1088\u001b[0m, in \u001b[0;36mSeriesApply.apply\u001b[0;34m(self)\u001b[0m\n\u001b[1;32m   1084\u001b[0m \u001b[38;5;28;01mif\u001b[39;00m \u001b[38;5;28misinstance\u001b[39m(\u001b[38;5;28mself\u001b[39m\u001b[38;5;241m.\u001b[39mf, \u001b[38;5;28mstr\u001b[39m):\n\u001b[1;32m   1085\u001b[0m     \u001b[38;5;66;03m# if we are a string, try to dispatch\u001b[39;00m\n\u001b[1;32m   1086\u001b[0m     \u001b[38;5;28;01mreturn\u001b[39;00m \u001b[38;5;28mself\u001b[39m\u001b[38;5;241m.\u001b[39mapply_str()\n\u001b[0;32m-> 1088\u001b[0m \u001b[38;5;28;01mreturn\u001b[39;00m \u001b[38;5;28;43mself\u001b[39;49m\u001b[38;5;241;43m.\u001b[39;49m\u001b[43mapply_standard\u001b[49m\u001b[43m(\u001b[49m\u001b[43m)\u001b[49m\n",
      "File \u001b[0;32m~/python_envs/nndl/lib/python3.10/site-packages/pandas/core/apply.py:1143\u001b[0m, in \u001b[0;36mSeriesApply.apply_standard\u001b[0;34m(self)\u001b[0m\n\u001b[1;32m   1137\u001b[0m         values \u001b[38;5;241m=\u001b[39m obj\u001b[38;5;241m.\u001b[39mastype(\u001b[38;5;28mobject\u001b[39m)\u001b[38;5;241m.\u001b[39m_values\n\u001b[1;32m   1138\u001b[0m         \u001b[38;5;66;03m# error: Argument 2 to \"map_infer\" has incompatible type\u001b[39;00m\n\u001b[1;32m   1139\u001b[0m         \u001b[38;5;66;03m# \"Union[Callable[..., Any], str, List[Union[Callable[..., Any], str]],\u001b[39;00m\n\u001b[1;32m   1140\u001b[0m         \u001b[38;5;66;03m# Dict[Hashable, Union[Union[Callable[..., Any], str],\u001b[39;00m\n\u001b[1;32m   1141\u001b[0m         \u001b[38;5;66;03m# List[Union[Callable[..., Any], str]]]]]\"; expected\u001b[39;00m\n\u001b[1;32m   1142\u001b[0m         \u001b[38;5;66;03m# \"Callable[[Any], Any]\"\u001b[39;00m\n\u001b[0;32m-> 1143\u001b[0m         mapped \u001b[38;5;241m=\u001b[39m \u001b[43mlib\u001b[49m\u001b[38;5;241;43m.\u001b[39;49m\u001b[43mmap_infer\u001b[49m\u001b[43m(\u001b[49m\n\u001b[1;32m   1144\u001b[0m \u001b[43m            \u001b[49m\u001b[43mvalues\u001b[49m\u001b[43m,\u001b[49m\n\u001b[1;32m   1145\u001b[0m \u001b[43m            \u001b[49m\u001b[43mf\u001b[49m\u001b[43m,\u001b[49m\u001b[43m  \u001b[49m\u001b[38;5;66;43;03m# type: ignore[arg-type]\u001b[39;49;00m\n\u001b[1;32m   1146\u001b[0m \u001b[43m            \u001b[49m\u001b[43mconvert\u001b[49m\u001b[38;5;241;43m=\u001b[39;49m\u001b[38;5;28;43mself\u001b[39;49m\u001b[38;5;241;43m.\u001b[39;49m\u001b[43mconvert_dtype\u001b[49m\u001b[43m,\u001b[49m\n\u001b[1;32m   1147\u001b[0m \u001b[43m        \u001b[49m\u001b[43m)\u001b[49m\n\u001b[1;32m   1149\u001b[0m \u001b[38;5;28;01mif\u001b[39;00m \u001b[38;5;28mlen\u001b[39m(mapped) \u001b[38;5;129;01mand\u001b[39;00m \u001b[38;5;28misinstance\u001b[39m(mapped[\u001b[38;5;241m0\u001b[39m], ABCSeries):\n\u001b[1;32m   1150\u001b[0m     \u001b[38;5;66;03m# GH#43986 Need to do list(mapped) in order to get treated as nested\u001b[39;00m\n\u001b[1;32m   1151\u001b[0m     \u001b[38;5;66;03m#  See also GH#25959 regarding EA support\u001b[39;00m\n\u001b[1;32m   1152\u001b[0m     \u001b[38;5;28;01mreturn\u001b[39;00m obj\u001b[38;5;241m.\u001b[39m_constructor_expanddim(\u001b[38;5;28mlist\u001b[39m(mapped), index\u001b[38;5;241m=\u001b[39mobj\u001b[38;5;241m.\u001b[39mindex)\n",
      "File \u001b[0;32m~/python_envs/nndl/lib/python3.10/site-packages/pandas/_libs/lib.pyx:2870\u001b[0m, in \u001b[0;36mpandas._libs.lib.map_infer\u001b[0;34m()\u001b[0m\n",
      "Input \u001b[0;32mIn [55]\u001b[0m, in \u001b[0;36maugment_data.<locals>.<lambda>\u001b[0;34m(x)\u001b[0m\n\u001b[1;32m      5\u001b[0m changed_df[\u001b[38;5;124m'\u001b[39m\u001b[38;5;124msteering_wheel_angle\u001b[39m\u001b[38;5;124m'\u001b[39m] \u001b[38;5;241m=\u001b[39m changed_df[\u001b[38;5;124m'\u001b[39m\u001b[38;5;124msteering_wheel_angle\u001b[39m\u001b[38;5;124m'\u001b[39m]\u001b[38;5;241m*\u001b[39m\u001b[38;5;241m-\u001b[39m\u001b[38;5;241m1\u001b[39m\n\u001b[1;32m      6\u001b[0m changed_df[\u001b[38;5;124m'\u001b[39m\u001b[38;5;124mdlm\u001b[39m\u001b[38;5;124m'\u001b[39m] \u001b[38;5;241m=\u001b[39m df[\u001b[38;5;124m'\u001b[39m\u001b[38;5;124mdlm\u001b[39m\u001b[38;5;124m'\u001b[39m]\u001b[38;5;241m.\u001b[39mapply(\u001b[38;5;28;01mlambda\u001b[39;00m x: flip(x))\n\u001b[0;32m----> 7\u001b[0m df[\u001b[38;5;124m'\u001b[39m\u001b[38;5;124mframe\u001b[39m\u001b[38;5;124m'\u001b[39m]\u001b[38;5;241m.\u001b[39mapply(\u001b[38;5;28;01mlambda\u001b[39;00m x: \u001b[43msave_flipped_copy\u001b[49m\u001b[43m(\u001b[49m\u001b[43mpath\u001b[49m\u001b[43m,\u001b[49m\u001b[43m \u001b[49m\u001b[43mx\u001b[49m\u001b[43m)\u001b[49m)\n",
      "Input \u001b[0;32mIn [56]\u001b[0m, in \u001b[0;36msave_flipped_copy\u001b[0;34m(path, frame)\u001b[0m\n\u001b[1;32m     10\u001b[0m \u001b[38;5;28;01mdef\u001b[39;00m \u001b[38;5;21msave_flipped_copy\u001b[39m(path, frame):\n\u001b[0;32m---> 11\u001b[0m     im \u001b[38;5;241m=\u001b[39m \u001b[43mImage\u001b[49m\u001b[38;5;241;43m.\u001b[39;49m\u001b[43mopen\u001b[49m\u001b[43m(\u001b[49m\u001b[43mos\u001b[49m\u001b[38;5;241;43m.\u001b[39;49m\u001b[43mpath\u001b[49m\u001b[38;5;241;43m.\u001b[39;49m\u001b[43mjoin\u001b[49m\u001b[43m(\u001b[49m\u001b[43mpath\u001b[49m\u001b[43m,\u001b[49m\u001b[43m \u001b[49m\u001b[38;5;124;43mf\u001b[39;49m\u001b[38;5;124;43m'\u001b[39;49m\u001b[38;5;132;43;01m{\u001b[39;49;00m\u001b[43mframe\u001b[49m\u001b[38;5;132;43;01m}\u001b[39;49;00m\u001b[38;5;124;43m.jpg\u001b[39;49m\u001b[38;5;124;43m'\u001b[39;49m\u001b[43m)\u001b[49m\u001b[43m)\u001b[49m\n\u001b[1;32m     12\u001b[0m     out \u001b[38;5;241m=\u001b[39m im\u001b[38;5;241m.\u001b[39mtranspose(Image\u001b[38;5;241m.\u001b[39mTranspose\u001b[38;5;241m.\u001b[39mFLIP_LEFT_RIGHT)\n\u001b[1;32m     13\u001b[0m     out\u001b[38;5;241m.\u001b[39msave(os\u001b[38;5;241m.\u001b[39mpath\u001b[38;5;241m.\u001b[39mjoin(path, \u001b[38;5;124m'\u001b[39m\u001b[38;5;124mimages\u001b[39m\u001b[38;5;124m'\u001b[39m, \u001b[38;5;124mf\u001b[39m\u001b[38;5;124m'\u001b[39m\u001b[38;5;132;01m{\u001b[39;00mframe\u001b[38;5;132;01m}\u001b[39;00m\u001b[38;5;124m_flipped.jpg\u001b[39m\u001b[38;5;124m'\u001b[39m))\n",
      "File \u001b[0;32m~/python_envs/nndl/lib/python3.10/site-packages/PIL/Image.py:3092\u001b[0m, in \u001b[0;36mopen\u001b[0;34m(fp, mode, formats)\u001b[0m\n\u001b[1;32m   3089\u001b[0m     filename \u001b[38;5;241m=\u001b[39m fp\n\u001b[1;32m   3091\u001b[0m \u001b[38;5;28;01mif\u001b[39;00m filename:\n\u001b[0;32m-> 3092\u001b[0m     fp \u001b[38;5;241m=\u001b[39m \u001b[43mbuiltins\u001b[49m\u001b[38;5;241;43m.\u001b[39;49m\u001b[43mopen\u001b[49m\u001b[43m(\u001b[49m\u001b[43mfilename\u001b[49m\u001b[43m,\u001b[49m\u001b[43m \u001b[49m\u001b[38;5;124;43m\"\u001b[39;49m\u001b[38;5;124;43mrb\u001b[39;49m\u001b[38;5;124;43m\"\u001b[39;49m\u001b[43m)\u001b[49m\n\u001b[1;32m   3093\u001b[0m     exclusive_fp \u001b[38;5;241m=\u001b[39m \u001b[38;5;28;01mTrue\u001b[39;00m\n\u001b[1;32m   3095\u001b[0m \u001b[38;5;28;01mtry\u001b[39;00m:\n",
      "\u001b[0;31mFileNotFoundError\u001b[0m: [Errno 2] No such file or directory: './716928.jpg'"
     ]
    }
   ],
   "source": [
    "augment_data('.')"
   ]
  },
  {
   "cell_type": "code",
   "execution_count": 7,
   "id": "78dbbad3",
   "metadata": {},
   "outputs": [],
   "source": [
    "df = pd.read_csv(os.path.join('.', 'train.txt'), delim_whitespace=True)"
   ]
  },
  {
   "cell_type": "code",
   "execution_count": 3,
   "id": "61ee5152",
   "metadata": {},
   "outputs": [],
   "source": [
    "import pandas as pd\n",
    "from PIL import Image\n",
    "import os"
   ]
  },
  {
   "cell_type": "code",
   "execution_count": 8,
   "id": "1e7f69af",
   "metadata": {},
   "outputs": [
    {
     "data": {
      "text/html": [
       "<div>\n",
       "<style scoped>\n",
       "    .dataframe tbody tr th:only-of-type {\n",
       "        vertical-align: middle;\n",
       "    }\n",
       "\n",
       "    .dataframe tbody tr th {\n",
       "        vertical-align: top;\n",
       "    }\n",
       "\n",
       "    .dataframe thead th {\n",
       "        text-align: right;\n",
       "    }\n",
       "</style>\n",
       "<table border=\"1\" class=\"dataframe\">\n",
       "  <thead>\n",
       "    <tr style=\"text-align: right;\">\n",
       "      <th></th>\n",
       "      <th>frame</th>\n",
       "      <th>intention_type</th>\n",
       "      <th>current_velocity</th>\n",
       "      <th>steering_wheel_angle</th>\n",
       "      <th>dlm</th>\n",
       "    </tr>\n",
       "  </thead>\n",
       "  <tbody>\n",
       "    <tr>\n",
       "      <th>0</th>\n",
       "      <td>716928</td>\n",
       "      <td>dlm</td>\n",
       "      <td>0.700000</td>\n",
       "      <td>0.230323</td>\n",
       "      <td>forward</td>\n",
       "    </tr>\n",
       "    <tr>\n",
       "      <th>1</th>\n",
       "      <td>138397</td>\n",
       "      <td>dlm</td>\n",
       "      <td>0.700000</td>\n",
       "      <td>0.360842</td>\n",
       "      <td>left</td>\n",
       "    </tr>\n",
       "    <tr>\n",
       "      <th>2</th>\n",
       "      <td>35065</td>\n",
       "      <td>dlm</td>\n",
       "      <td>0.700000</td>\n",
       "      <td>-0.700000</td>\n",
       "      <td>left</td>\n",
       "    </tr>\n",
       "    <tr>\n",
       "      <th>3</th>\n",
       "      <td>431722</td>\n",
       "      <td>dlm</td>\n",
       "      <td>0.700000</td>\n",
       "      <td>-0.000000</td>\n",
       "      <td>forward</td>\n",
       "    </tr>\n",
       "    <tr>\n",
       "      <th>4</th>\n",
       "      <td>442489</td>\n",
       "      <td>dlm</td>\n",
       "      <td>0.700000</td>\n",
       "      <td>-0.440205</td>\n",
       "      <td>forward</td>\n",
       "    </tr>\n",
       "    <tr>\n",
       "      <th>...</th>\n",
       "      <td>...</td>\n",
       "      <td>...</td>\n",
       "      <td>...</td>\n",
       "      <td>...</td>\n",
       "      <td>...</td>\n",
       "    </tr>\n",
       "    <tr>\n",
       "      <th>193995</th>\n",
       "      <td>180106_flipped</td>\n",
       "      <td>dlm</td>\n",
       "      <td>0.433006</td>\n",
       "      <td>-0.700000</td>\n",
       "      <td>left</td>\n",
       "    </tr>\n",
       "    <tr>\n",
       "      <th>193996</th>\n",
       "      <td>419358_flipped</td>\n",
       "      <td>dlm</td>\n",
       "      <td>-0.000000</td>\n",
       "      <td>0.000000</td>\n",
       "      <td>forward</td>\n",
       "    </tr>\n",
       "    <tr>\n",
       "      <th>193997</th>\n",
       "      <td>158119_flipped</td>\n",
       "      <td>dlm</td>\n",
       "      <td>0.700000</td>\n",
       "      <td>0.267016</td>\n",
       "      <td>forward</td>\n",
       "    </tr>\n",
       "    <tr>\n",
       "      <th>193998</th>\n",
       "      <td>194361_flipped</td>\n",
       "      <td>dlm</td>\n",
       "      <td>0.700000</td>\n",
       "      <td>0.000000</td>\n",
       "      <td>right</td>\n",
       "    </tr>\n",
       "    <tr>\n",
       "      <th>193999</th>\n",
       "      <td>935026_flipped</td>\n",
       "      <td>dlm</td>\n",
       "      <td>0.700000</td>\n",
       "      <td>0.196978</td>\n",
       "      <td>left</td>\n",
       "    </tr>\n",
       "  </tbody>\n",
       "</table>\n",
       "<p>194000 rows × 5 columns</p>\n",
       "</div>"
      ],
      "text/plain": [
       "                 frame intention_type  current_velocity  steering_wheel_angle  \\\n",
       "0               716928            dlm          0.700000              0.230323   \n",
       "1               138397            dlm          0.700000              0.360842   \n",
       "2                35065            dlm          0.700000             -0.700000   \n",
       "3               431722            dlm          0.700000             -0.000000   \n",
       "4               442489            dlm          0.700000             -0.440205   \n",
       "...                ...            ...               ...                   ...   \n",
       "193995  180106_flipped            dlm          0.433006             -0.700000   \n",
       "193996  419358_flipped            dlm         -0.000000              0.000000   \n",
       "193997  158119_flipped            dlm          0.700000              0.267016   \n",
       "193998  194361_flipped            dlm          0.700000              0.000000   \n",
       "193999  935026_flipped            dlm          0.700000              0.196978   \n",
       "\n",
       "            dlm  \n",
       "0       forward  \n",
       "1          left  \n",
       "2          left  \n",
       "3       forward  \n",
       "4       forward  \n",
       "...         ...  \n",
       "193995     left  \n",
       "193996  forward  \n",
       "193997  forward  \n",
       "193998    right  \n",
       "193999     left  \n",
       "\n",
       "[194000 rows x 5 columns]"
      ]
     },
     "execution_count": 8,
     "metadata": {},
     "output_type": "execute_result"
    }
   ],
   "source": [
    "df"
   ]
  },
  {
   "cell_type": "code",
   "execution_count": null,
   "id": "7efa5cbc",
   "metadata": {},
   "outputs": [],
   "source": []
  }
 ],
 "metadata": {
  "kernelspec": {
   "display_name": "Python 3 (ipykernel)",
   "language": "python",
   "name": "python3"
  },
  "language_info": {
   "codemirror_mode": {
    "name": "ipython",
    "version": 3
   },
   "file_extension": ".py",
   "mimetype": "text/x-python",
   "name": "python",
   "nbconvert_exporter": "python",
   "pygments_lexer": "ipython3",
   "version": "3.10.9"
  }
 },
 "nbformat": 4,
 "nbformat_minor": 5
}
