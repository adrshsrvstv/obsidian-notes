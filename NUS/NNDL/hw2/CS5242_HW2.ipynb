{
 "cells": [
  {
   "cell_type": "markdown",
   "metadata": {
    "id": "GXMX8yuAyl55"
   },
   "source": [
    "# Welcome to CS 5242 **Homework 2**\n",
    "\n",
    "ASSIGNMENT DEADLINE ⏰ : **05 Sept 2022** \n",
    "\n",
    "In this assignment, the task is to implement Multi-Layer Perceptron (MLP) for handwritten digit classification from scratch.\n",
    "\n",
    "Colab is a hosted Jupyter notebook service that requires no setup to use, while providing access free of charge to computing resources including GPUs. In this semester, we will use Colab to run our experiments.\n",
    "\n",
    "> In this assignment, there is no need to use GPU.\n",
    "\n",
    "### **Grades Policy**\n",
    "\n",
    "We have 10 points for this homework. 15% off per day late, 0 scores if you submit it 7 days after the deadline.\n",
    "\n",
    "### **Cautions**\n",
    "\n",
    "**DO NOT** use external libraries like PyTorch or TensorFlow in your implementation.\n",
    "\n",
    "**DO NOT** copy the code from the internet, e.g. GitHub.\n",
    "\n",
    "---\n",
    "\n",
    "### **Contact**\n",
    "\n",
    "Please feel free to contact us if you have any question about this homework or need any further information.\n",
    "\n",
    "Slack (Recommend): Shenggan Cheng\n",
    "\n",
    "TA Email: shenggan@comp.nus.edu.sg\n",
    "\n",
    "> If you have not join the slack group, you can click [here](https://join.slack.com/t/cs5242ay20222-oiw1784/shared_invite/zt-1eiv24k1t-0J9EI7vz3uQmAHa68qU0aw)"
   ]
  },
  {
   "cell_type": "markdown",
   "metadata": {
    "id": "oLeZHcOVBp4U"
   },
   "source": [
    "## Setup\n",
    "\n",
    "Start by running the cell below to set up all required software."
   ]
  },
  {
   "cell_type": "code",
   "execution_count": 1,
   "metadata": {
    "colab": {
     "base_uri": "https://localhost:8080/"
    },
    "id": "HIgu_q2HBg-E",
    "outputId": "2abb09b3-dd29-488b-9d28-7335d7bdaef4"
   },
   "outputs": [
    {
     "name": "stdout",
     "output_type": "stream",
     "text": [
      "Looking in indexes: https://pypi.org/simple, https://us-python.pkg.dev/colab-wheels/public/simple/\n",
      "Requirement already satisfied: numpy in /usr/local/lib/python3.7/dist-packages (1.21.6)\n",
      "Requirement already satisfied: matplotlib in /usr/local/lib/python3.7/dist-packages (3.2.2)\n",
      "Requirement already satisfied: python-dateutil>=2.1 in /usr/local/lib/python3.7/dist-packages (from matplotlib) (2.8.2)\n",
      "Requirement already satisfied: pyparsing!=2.0.4,!=2.1.2,!=2.1.6,>=2.0.1 in /usr/local/lib/python3.7/dist-packages (from matplotlib) (3.0.9)\n",
      "Requirement already satisfied: kiwisolver>=1.0.1 in /usr/local/lib/python3.7/dist-packages (from matplotlib) (1.4.4)\n",
      "Requirement already satisfied: cycler>=0.10 in /usr/local/lib/python3.7/dist-packages (from matplotlib) (0.11.0)\n",
      "Requirement already satisfied: typing-extensions in /usr/local/lib/python3.7/dist-packages (from kiwisolver>=1.0.1->matplotlib) (4.1.1)\n",
      "Requirement already satisfied: six>=1.5 in /usr/local/lib/python3.7/dist-packages (from python-dateutil>=2.1->matplotlib) (1.15.0)\n"
     ]
    }
   ],
   "source": [
    "!pip install numpy matplotlib"
   ]
  },
  {
   "cell_type": "markdown",
   "metadata": {
    "id": "bqkIbfgfE1oB"
   },
   "source": [
    "Download and extract MNIST Dataset."
   ]
  },
  {
   "cell_type": "code",
   "execution_count": 2,
   "metadata": {
    "colab": {
     "base_uri": "https://localhost:8080/"
    },
    "id": "hSoSnxC4EzzJ",
    "outputId": "8cc67e4f-cee7-43bf-fa57-fd3754345466"
   },
   "outputs": [
    {
     "name": "stdout",
     "output_type": "stream",
     "text": [
      "total 124872\n",
      "-rw-r--r-- 1 1000 1000  18289443 Jul 15  2019 mnist_test.csv\n",
      "-rw-r--r-- 1 1000 1000 109575994 Jul 15  2019 mnist_train.csv\n"
     ]
    }
   ],
   "source": [
    "!mkdir -p data \\\n",
    "    && wget -q https://raw.githubusercontent.com/Shenggan/cs5242_resource/main/homework2/mnist_data.tar.gz -O ./data/mnist_data.tar.gz \\\n",
    "    && tar xf data/mnist_data.tar.gz -C ./data \\\n",
    "    && rm -rf ./data/mnist_data.tar.gz \\\n",
    "    && ls -l ./data/"
   ]
  },
  {
   "cell_type": "markdown",
   "metadata": {
    "id": "vtXcchT5H2PH"
   },
   "source": [
    "Import the neccesary library."
   ]
  },
  {
   "cell_type": "code",
   "execution_count": 3,
   "metadata": {
    "id": "I2Yodsn4H6CB"
   },
   "outputs": [],
   "source": [
    "import time\n",
    "\n",
    "import numpy as np\n",
    "import matplotlib.pyplot as plt"
   ]
  },
  {
   "cell_type": "markdown",
   "metadata": {
    "id": "3yrZD7DDExF4"
   },
   "source": [
    "Everything is ready, you can move on and ***Good Luck !*** 😃"
   ]
  },
  {
   "cell_type": "markdown",
   "metadata": {
    "id": "7DwqHhL9CSxs"
   },
   "source": [
    "## Explore MNIST Dataset\n",
    "\n",
    "One of the first steps when working with a new data set is exploring.Our data here is from the [MNIST dataset](http://yann.lecun.com/exdb/mnist/) of `28x28` pixel images of handwritten digits from `0-9`, which has an important place in the history of machine learning.\n",
    "\n",
    "Our data have been downloaded in the directory `data`: `mnist_train.csv` and `mnist_test.csv`, so the complete file path (from the main directory) are `data/mnist_train.csv` and `data/mnist_test.csv`. \n",
    "\n",
    "With that in mind, let's define a helper function `load_data` that we can use to quickly in our data.\n"
   ]
  },
  {
   "cell_type": "code",
   "execution_count": 4,
   "metadata": {
    "id": "DIHIpxpaHyOo"
   },
   "outputs": [],
   "source": [
    "def load_data(dir_name):\n",
    "    \"\"\"\n",
    "    Function for loading MNIST data stored in comma delimited files. Labels for \n",
    "    each image are the first entry in each row.\n",
    "\n",
    "    Parameters\n",
    "    ----------\n",
    "    dit_name : str\n",
    "         Path to where data is contained\n",
    "\n",
    "    Returns\n",
    "    -------\n",
    "    X : np.array, np.float32\n",
    "        A (N x 784) matrix of samples\n",
    "    Y : np.array, np.float32\n",
    "        A (N x 1) matrix of labels for each sample\n",
    "    \"\"\"\n",
    "    X, Y = None, None\n",
    "\n",
    "    # Hint:\n",
    "    # 1) open the file and iterate through each line\n",
    "    # 2) in every line, split with ',' and you can get 785 elements\n",
    "    # 3) as the first number in each sample is the label (0-9), extract that from the rest and return\n",
    "\n",
    "    # Some numpy function you maybe need to use: `np.array`, `numpy.ndarray.astype`, `numpy.asarray`\n",
    "    # A kindly example, \n",
    "    # tmp_str = \"1,2,3,4\"\n",
    "    # array = np.array(line.split(',')).astype(np.float32)\n",
    "    # print(array)\n",
    "\n",
    "    # === Complete the code (1')\n",
    "\n",
    "    # === Complete the code\n",
    "    return X, Y\n",
    "  "
   ]
  },
  {
   "cell_type": "code",
   "execution_count": 12,
   "metadata": {
    "id": "m4HSdfdqIPeN"
   },
   "outputs": [],
   "source": [
    "X_train, Y_train = load_data(\"./data/mnist_train.csv\")\n",
    "X_test, Y_test = load_data(\"./data/mnist_test.csv\")"
   ]
  },
  {
   "cell_type": "markdown",
   "metadata": {
    "id": "4aH3JKg3I2bZ"
   },
   "source": [
    "An easy to quickly get an idea for how your data looks is to examine the shape of the matrix it's stored using the `.shape` attribute of numpy arrays. We see that the shape of `X_train` is `60000 x 784`, which tells us there are `60000` samples (images) each with dimension `784`. Each sample, typically presented as a 28 x 28 image, is unrolled into a 1-dimensional vector 28 x 28 = 784 contained within each row of `X_train`."
   ]
  },
  {
   "cell_type": "code",
   "execution_count": 13,
   "metadata": {
    "colab": {
     "base_uri": "https://localhost:8080/"
    },
    "id": "FNCf79ShI6H9",
    "outputId": "e0328f8a-47b4-4c23-dbe3-378783857162"
   },
   "outputs": [
    {
     "name": "stdout",
     "output_type": "stream",
     "text": [
      "The shape of the training set is: 60000 x 784\n",
      "The shape of the test set is: 10000 x 784\n"
     ]
    }
   ],
   "source": [
    "print(f\"The shape of the training set is: {X_train.shape[0]} x {X_train.shape[1]}\")\n",
    "print(f\"The shape of the test set is: {X_test.shape[0]} x {X_test.shape[1]}\")"
   ]
  },
  {
   "cell_type": "markdown",
   "metadata": {
    "id": "bf5GmYOTzvVI"
   },
   "source": [
    "Now lets take a look at how the samples are represented, we can do this by calling `Y_train[index]` and `X_train[index]` (here I choose `index=0` to look at the very first sample). We first notice `Y_train[0]=5.0`, meaning this entry is the digit `5`. We will confirm this shortly by visualizing some of these samples. We then notice each entry is an integer (cast into `np.float32` in our `load_data` function) ranging from `0-255`. This representation is common when working with images. The numerical entries are interpreted as pixel intensities typically shown in gray-scale ranging between `0` (black) and `255` (white). "
   ]
  },
  {
   "cell_type": "code",
   "execution_count": 14,
   "metadata": {
    "colab": {
     "base_uri": "https://localhost:8080/"
    },
    "id": "8ZWVJHTXzzp2",
    "outputId": "3e4c30a2-4421-4235-af87-49126225907a"
   },
   "outputs": [
    {
     "name": "stdout",
     "output_type": "stream",
     "text": [
      "Y_train[0]: 5.0\n",
      "X_train[0] range from 0.0 to 255.0.\n"
     ]
    }
   ],
   "source": [
    "index = 0\n",
    "print(f\"Y_train[{index}]: {Y_train[index]}\")\n",
    "print(f\"X_train[{index}] range from {min(X_train[index])} to {max(X_train[index])}.\")"
   ]
  },
  {
   "cell_type": "code",
   "execution_count": 15,
   "metadata": {
    "id": "b6KGKdP7JCmc"
   },
   "outputs": [],
   "source": [
    "# rescale data between 0 - 1.0\n",
    "def scale_data(X):\n",
    "    X_scaled = None\n",
    "    # === Complete the code (0.5')\n",
    "\n",
    "    # === Complete the code\n",
    "    return X_scaled\n",
    "\n",
    "X_train = scale_data(X_train)\n",
    "X_test = scale_data(X_test)"
   ]
  },
  {
   "cell_type": "code",
   "execution_count": 16,
   "metadata": {
    "colab": {
     "base_uri": "https://localhost:8080/",
     "height": 246
    },
    "id": "2G0EUVRs2DCh",
    "outputId": "d7c483e7-a16c-4481-bd46-747348bd1a39"
   },
   "outputs": [
    {
     "data": {
      "image/png": "[encoded data removed]",
      "text/plain": [
       "<Figure size 1080x720 with 4 Axes>"
      ]
     },
     "metadata": {
      "needs_background": "light"
     },
     "output_type": "display_data"
    }
   ],
   "source": [
    "y_train_onehot = np.zeros((Y_train.size, int(Y_train.max()) + 1))\n",
    "y_test_onehot = np.zeros((Y_test.size, int(Y_test.max()) + 1))\n",
    "\n",
    "# one-hot encode train (y_train) and test (y_test) set labels\n",
    "# === Complete the code (0.5')\n",
    "\n",
    "# === Complete the code\n",
    "\n",
    "num_images = 4\n",
    "fig, axes = plt.subplots(1, num_images, figsize=(15, 10))\n",
    "for image, label, ax in zip(X_train[:num_images], y_train_onehot[:num_images], axes):\n",
    "    ax.imshow(image.reshape(28, 28), cmap='gray', vmin=0, vmax=1.0)\n",
    "    ax.set_title(f\"Label: {label}\")"
   ]
  },
  {
   "cell_type": "markdown",
   "metadata": {
    "id": "LTHgDB8MCguR"
   },
   "source": [
    "## Implementation of Multilayer perceptron"
   ]
  },
  {
   "cell_type": "markdown",
   "metadata": {
    "id": "PS0HX6A_o5mL"
   },
   "source": [
    "We'll first go through and write the code for each piece of an MLP (**without bias**) in generic Python functions. We'll then wrap everything in an `MLP` class, which will allow us to easily access all the MLP functionality in a user friendly manner."
   ]
  },
  {
   "cell_type": "markdown",
   "metadata": {
    "id": "C4Wa7cQBpEql"
   },
   "source": [
    "### Feed Forward"
   ]
  },
  {
   "cell_type": "markdown",
   "metadata": {
    "id": "t7V2F14ppBdi"
   },
   "source": [
    "Implementing the forward pass of the neural network is relatively simply as everything is basically just a series of matrix multiplicaitons and activation functions. A two-layer MLP example we looked at when working through the math had a forward pass which mathematically took the form:\n",
    "$$\\sigma(\\mathbf{x}W^{(1)})W^{(2)}$$\n",
    "\n",
    "We'll of course want to make things a bit more modular by allowing the user to choose some of the neural network paramters, such as the number of hidden layers `L` and the nunber of neurons per layer `N_l`. For simplicity we'll restrict that all the hidden layers are treated with **sigmoid** activaitons."
   ]
  },
  {
   "cell_type": "markdown",
   "metadata": {
    "id": "5nFN2g3MrXWw"
   },
   "source": [
    "The last step of process for classification tasks is actually producing a prediction from these numbers in the output layer. Typically, in the case of multi-label classification, this is done using a *softmax* activation function which effectively converts the output neurons into probabilities for each label. This has the mathematical form, $$\\text{softmax}(\\mathbf{z})_j = \\frac{\\exp(z_j)}{\\sum_{k=0}^{K=9}\\exp{(z_k)}}$$.\n",
    "\n",
    "The softmax activation function has the property of the outputs summing to 1 $\\sum_{k=1}^{K=9}\\text{softmax}(\\mathbf{z}^{(2)})_k = 1$, allowing each output $\\mathbf{a}^{(2)}_i = \\text{softmax}(\\mathbf{z}^{(2)})_i$ to be interpreted as the probability that the input is actually a digit `0-9`. Note, the output of a MLP does not need to have a softmax activation, for example in a regression setting a softmax activation would not make much sense. When evaluating the classification accuracy of the neural network, the input is typically classified according to the output label with the highest probability, \n",
    "\n",
    "$$\\text{prediction}(\\mathbf{x}) = \\text{argmax}\\  \\text{softmax}(\\mathbf{z}^{(2)}) = \\text{argmax}\\  \\text{softmax}((\\sigma(\\mathbf{x}W^{(1)})W^{(2)}))$$."
   ]
  },
  {
   "cell_type": "markdown",
   "metadata": {
    "id": "dF57FyDHJ2zl"
   },
   "source": [
    "We can start by simply defining our activation functions:"
   ]
  },
  {
   "cell_type": "code",
   "execution_count": 17,
   "metadata": {
    "id": "eRZKTMJqJ2LQ"
   },
   "outputs": [],
   "source": [
    "def sigmoid(x):\n",
    "    \"\"\"\n",
    "    Compute the sigmoid of `x`, calculated element-wise\n",
    "\n",
    "    Parameters\n",
    "    ----------\n",
    "    x : float or array_like\n",
    "        input\n",
    "\n",
    "    Returns\n",
    "    -------\n",
    "    sigmoid(x) : float or array_like\n",
    "        sigmoid applied to `x` element-wise\n",
    "    \"\"\"\n",
    "    result = None\n",
    "    # === Complete the code (0.5')\n",
    "\n",
    "    # === Complete the code\n",
    "    return result"
   ]
  },
  {
   "cell_type": "code",
   "execution_count": 18,
   "metadata": {
    "id": "FAhoW7rfI1s-"
   },
   "outputs": [],
   "source": [
    "def softmax(x):\n",
    "    \"\"\"\n",
    "    Compute the softmax of `x`,\n",
    "\n",
    "    Parameters\n",
    "    ----------\n",
    "    x : array_like\n",
    "        (N x dim) array with N samples by p dimensions. dim=10 for MNIST classification. \n",
    "\n",
    "    Returns\n",
    "    -------\n",
    "    softmax(x) : float or array_like\n",
    "        softmax applied to `x` along the first axis.\n",
    "    \"\"\"\n",
    "    result = None\n",
    "    # === Complete the code (0.5')\n",
    "\n",
    "    # === Complete the code\n",
    "    return result"
   ]
  },
  {
   "cell_type": "markdown",
   "metadata": {
    "id": "IJO2LaDmsmXq"
   },
   "source": [
    "The inputs `x`, weight matricies `w`, and activations are in principle all we need to define the forward pass; however, for efficency reasons we'll want to store the outputs of the hidden layer neurons when performing the forward pass. Storing these values will help us later more quickly calculate the gradients during the backward pass. The `init_layers` functions will initalize these hidden layers as NumPy arrays, doing this before we begin training will help us save some overhead we would otherwise inccur reinitalizing these hidden layers before each forward pass. These hidden layer values will be stored in multi-dimensional matricies, called *tensors*. One dimension of these tensors will be the `batch size` which will indicate the number of samples simultaneously passed to MLP during one training loop (feed forward + backpropagation)."
   ]
  },
  {
   "cell_type": "code",
   "execution_count": 19,
   "metadata": {
    "id": "0M-gOFpTsl3N"
   },
   "outputs": [],
   "source": [
    "def init_layers(batch_size, layer_sizes):\n",
    "    \"\"\"\n",
    "    Initalize arrays to store the hidden layer ouputs.\n",
    "\n",
    "    Parameters\n",
    "    ----------\n",
    "    batch_size : int\n",
    "        Number of samples to concurrently feed through the network.\n",
    "    layer_sizes : array_like\n",
    "        Array of length `N_l`. Each entry is the number of neurons in each layer.\n",
    "\n",
    "    Returns\n",
    "    -------\n",
    "    hidden_layers : list\n",
    "        List of empty arrays used to hold hidden layer outputs. \n",
    "    \"\"\"\n",
    "    hidden_layers = [np.empty((batch_size, layer_size)) for layer_size in layer_sizes]\n",
    "    return hidden_layers"
   ]
  },
  {
   "cell_type": "markdown",
   "metadata": {
    "id": "iiNL3Ubcsq8N"
   },
   "source": [
    "In order to perform a forward pass our input `x` is consequtively multiplied by weight matricies passed into the associated activaiton functions. The paramters in these weight matricies will ultimately be learned through backpropagation, but each weight matrix must first be initalized to random values. There are a number of different methods for doing this initalization, but for the moment we'll use a simple approach of just drawing the numerical values from a normal distribution with mean zero and standard deviation 1. We could have also reasonably choosen to simply draw from a uniform distribution on the range `[-1,1]`. "
   ]
  },
  {
   "cell_type": "code",
   "execution_count": 20,
   "metadata": {
    "id": "2ojQ3Hl1svff"
   },
   "outputs": [],
   "source": [
    "def init_weights(layer_sizes):\n",
    "    \"\"\"\n",
    "    Initalize the paramters of the weight matricies.\n",
    "\n",
    "    Parameters\n",
    "    ----------\n",
    "    layer_sizes : array_like\n",
    "        Array of length `N_l`. Each entry is the number of neurons in each layer.\n",
    "\n",
    "    Returns\n",
    "    -------\n",
    "    weights : array_like\n",
    "        Randomly initalized weight matricies based on the layer sizes. \n",
    "    \"\"\"\n",
    "    weights = list()\n",
    "    for i in range(layer_sizes.shape[0] - 1):\n",
    "        weights.append(np.random.uniform(-1, 1, size=[layer_sizes[i], layer_sizes[i + 1]]))\n",
    "    return weights"
   ]
  },
  {
   "cell_type": "markdown",
   "metadata": {
    "id": "DHnQDrnMpSFL"
   },
   "source": [
    "### Backpropagation"
   ]
  },
  {
   "cell_type": "markdown",
   "metadata": {
    "id": "b7ek23WJOGHs"
   },
   "source": [
    "Initalizing all the weights, layers, and activations prior to the forward pass makes much of the backward pass implimentation actually quite simple. For convinience we'll define a `sigmoid_derivative` function, which simply computes the derivative of the sigmoid activation $\\sigma^{\\prime}$. We'll use this when computing the gradients during the backward pass."
   ]
  },
  {
   "cell_type": "code",
   "execution_count": 21,
   "metadata": {
    "id": "ZxfTWU_6oeE7"
   },
   "outputs": [],
   "source": [
    "def sigmoid_derivative(sigmoid_out):\n",
    "    \"\"\"\n",
    "    Calculate derivative of sigmoid activation based on sigmoid output.\n",
    "\n",
    "    Parameters\n",
    "    ----------\n",
    "    sigmoid_out : array_like\n",
    "        Output values processed by a sigmoid function.\n",
    "    \n",
    "    Returns\n",
    "    -------\n",
    "    sigmoid_derivative(h) : array_like\n",
    "        Derivative of sigmoid, based on value of sigmoid.\n",
    "    \"\"\"\n",
    "    result = None\n",
    "    # === Complete the code (0.5')\n",
    "\n",
    "    # === Complete the code\n",
    "    return result"
   ]
  },
  {
   "cell_type": "markdown",
   "metadata": {
    "id": "p9XZokeNpnUf"
   },
   "source": [
    "### Training"
   ]
  },
  {
   "cell_type": "markdown",
   "metadata": {
    "id": "yA9w06GhtWxt"
   },
   "source": [
    "You have **three tasks** in this section.\n",
    "\n",
    "1. You need to implement `__feed_forward` function.\n",
    "2. You need to implement `__back_prop` function.\n",
    "3. You need to implement the main loop of `train` function."
   ]
  },
  {
   "cell_type": "code",
   "execution_count": 22,
   "metadata": {
    "id": "_-ERNpYWpYc4"
   },
   "outputs": [],
   "source": [
    "def to_categorical(x, class_num):\n",
    "    # Transform probabilities into categorical predictions row-wise, by simply taking the max probability\n",
    "    categorical = np.zeros((x.shape[0], class_num))\n",
    "    categorical[np.arange(x.shape[0]), x.argmax(axis=1)] = 1\n",
    "    return categorical\n",
    "\n",
    "def accuracy(y_pred, y):\n",
    "    # Compute the accuracy along the rows, averaging along the number of samples\n",
    "    return np.all(y_pred == y, axis=1).mean()\n",
    "\n",
    "def loss(y_pred, y):\n",
    "    # Compute the loss along the rows, averaging along the number of samples\n",
    "    loss_ = ((-np.log(y_pred)) * y).sum(axis=1).mean()\n",
    "    return loss_\n",
    "\n",
    "class MLP():\n",
    "\n",
    "    def __init__(self, X, Y, X_val, Y_val, L=1, N_l=128):\n",
    "        self.X = X\n",
    "        self.Y = np.squeeze(np.eye(10)[Y.astype(int).reshape(-1)])\n",
    "        self.X_val = X_val\n",
    "        self.Y_val = np.squeeze(np.eye(10)[Y_val.astype(int).reshape(-1)])\n",
    "        self.L = L\n",
    "        self.N_l = N_l\n",
    "        self.n_samples = self.X.shape[0]\n",
    "        self.layer_sizes = np.array([self.X.shape[1]] + [N_l] * L + [self.Y.shape[1]])\n",
    "        self.__init_weights()\n",
    "        self.train_loss = list()\n",
    "        self.train_acc = list()\n",
    "        self.val_loss = list()\n",
    "        self.val_acc = list()\n",
    "        self.train_time = list()\n",
    "        self.tot_time = list()\n",
    "        self.metrics = [\n",
    "            self.train_loss, self.train_acc, self.val_loss, self.val_acc, self.train_time,\n",
    "            self.tot_time\n",
    "        ]\n",
    "\n",
    "        self.class_num = self.Y.shape[1]\n",
    "\n",
    "    def __init_weights(self):\n",
    "        # Initialize the weights of the network given the sizes of the layers\n",
    "        self.weights = list()\n",
    "        for i in range(self.layer_sizes.shape[0] - 1):\n",
    "            self.weights.append(\n",
    "                np.random.uniform(-1, 1, size=[self.layer_sizes[i], self.layer_sizes[i + 1]]))\n",
    "        self.weights = np.asarray(self.weights)\n",
    "\n",
    "    def __init_layers(self, batch_size):\n",
    "        # Initialize and allocate arrays for the hidden layer activations\n",
    "        self.__h = [np.empty((batch_size, layer)) for layer in self.layer_sizes]\n",
    "\n",
    "    def __feed_forward(self, batch):\n",
    "        # Perform a forward pass of `batch` samples (N_samples x N_features)\n",
    "        out_ = None\n",
    "        h_l = batch\n",
    "        self.__h[0] = h_l\n",
    "        # === Complete the code (1.5')\n",
    "\n",
    "        # === Complete the code\n",
    "        self.__out = out_\n",
    "\n",
    "    def __back_prop(self, batch_y):\n",
    "        # Update the weights of the network through back-propagation\n",
    "        # === Complete the code (1.5')\n",
    "\n",
    "        # === Complete the code\n",
    "\n",
    "    def predict(self, X):\n",
    "        # Generate a categorical, one-hot, prediction given an input X\n",
    "        self.__init_layers(X.shape[0])\n",
    "        self.__feed_forward(X)\n",
    "        return to_categorical(self.__out, self.class_num)\n",
    "\n",
    "    def evaluate(self, X, Y):\n",
    "        # Evaluate the performance (accuracy) predicting on X with true labels Y\n",
    "        prediction = self.predict(X)\n",
    "        return accuracy(prediction, Y)\n",
    "\n",
    "    def train(self, batch_size=8, epochs=25, lr=1.0):\n",
    "        # Train the model with a given batch size, epochs, and learning rate. Store and print relevant metrics.\n",
    "        self.lr = lr\n",
    "        self.batch_size = batch_size\n",
    "        for epoch in range(epochs):\n",
    "            start = time.time()\n",
    "\n",
    "            self.__init_layers(self.batch_size)\n",
    "            shuffle = np.random.permutation(self.n_samples)\n",
    "            train_loss = 0\n",
    "            train_acc = 0\n",
    "            X_batches = np.array_split(self.X[shuffle], self.n_samples / self.batch_size)\n",
    "            Y_batches = np.array_split(self.Y[shuffle], self.n_samples / self.batch_size)\n",
    "            for batch_x, batch_y in zip(X_batches, Y_batches):\n",
    "                # === Complete the code (1.5')\n",
    "\n",
    "                # === Complete the code\n",
    "\n",
    "            train_loss = (train_loss / len(X_batches))\n",
    "            train_acc = (train_acc / len(X_batches))\n",
    "            self.train_loss.append(train_loss)\n",
    "            self.train_acc.append(train_acc)\n",
    "\n",
    "            train_time = round(time.time() - start, 3)\n",
    "            self.train_time.append(train_time)\n",
    "\n",
    "            self.__init_layers(self.X_val.shape[0])\n",
    "            self.__feed_forward(self.X_val)\n",
    "            val_loss = loss(self.__out, self.Y_val)\n",
    "            val_acc = accuracy(to_categorical(self.__out, self.class_num), self.Y_val)\n",
    "            self.val_loss.append(val_loss)\n",
    "            self.val_acc.append(val_acc)\n",
    "\n",
    "            tot_time = round(time.time() - start, 3)\n",
    "            self.tot_time.append(tot_time)\n",
    "\n",
    "            print(\n",
    "                f\"Epoch {epoch+1}: loss = {train_loss.round(3)} | acc = {train_acc.round(3)} | val_loss = {val_loss.round(3)} | val_acc = {val_acc.round(3)} | train_time = {train_time} | tot_time = {tot_time}\"\n",
    "            )\n"
   ]
  },
  {
   "cell_type": "markdown",
   "metadata": {
    "id": "VrUiDpPynrLF"
   },
   "source": [
    "Great, now let's give this a try. Let's create a really simple MLP with only a single hidden layer `L=2` with 64 neurons `N_l=64`. We'll train with a `batch_size=8` for `epochs=20` and a learning rate `lr=0.2`."
   ]
  },
  {
   "cell_type": "code",
   "execution_count": 23,
   "metadata": {
    "colab": {
     "base_uri": "https://localhost:8080/"
    },
    "id": "fkkmE_mQpb4j",
    "outputId": "f8c21883-1491-4db1-d1f9-9dda546dbbb1"
   },
   "outputs": [
    {
     "name": "stderr",
     "output_type": "stream",
     "text": [
      "/usr/local/lib/python3.7/dist-packages/ipykernel_launcher.py:47: VisibleDeprecationWarning: Creating an ndarray from ragged nested sequences (which is a list-or-tuple of lists-or-tuples-or ndarrays with different lengths or shapes) is deprecated. If you meant to do this, you must specify 'dtype=object' when creating the ndarray.\n"
     ]
    },
    {
     "name": "stdout",
     "output_type": "stream",
     "text": [
      "Epoch 1: loss = 0.395 | acc = 0.878 | val_loss = 0.235 | val_acc = 0.928 | train_time = 7.467 | tot_time = 7.587\n",
      "Epoch 2: loss = 0.206 | acc = 0.937 | val_loss = 0.202 | val_acc = 0.937 | train_time = 7.279 | tot_time = 7.392\n",
      "Epoch 3: loss = 0.157 | acc = 0.953 | val_loss = 0.167 | val_acc = 0.95 | train_time = 7.247 | tot_time = 7.36\n",
      "Epoch 4: loss = 0.13 | acc = 0.96 | val_loss = 0.151 | val_acc = 0.953 | train_time = 7.232 | tot_time = 7.345\n",
      "Epoch 5: loss = 0.111 | acc = 0.966 | val_loss = 0.158 | val_acc = 0.954 | train_time = 7.228 | tot_time = 7.341\n",
      "Epoch 6: loss = 0.096 | acc = 0.97 | val_loss = 0.142 | val_acc = 0.958 | train_time = 7.29 | tot_time = 7.41\n",
      "Epoch 7: loss = 0.085 | acc = 0.973 | val_loss = 0.142 | val_acc = 0.959 | train_time = 7.774 | tot_time = 7.889\n",
      "Epoch 8: loss = 0.073 | acc = 0.977 | val_loss = 0.157 | val_acc = 0.958 | train_time = 7.282 | tot_time = 7.396\n",
      "Epoch 9: loss = 0.066 | acc = 0.979 | val_loss = 0.137 | val_acc = 0.961 | train_time = 7.241 | tot_time = 7.355\n",
      "Epoch 10: loss = 0.059 | acc = 0.981 | val_loss = 0.144 | val_acc = 0.962 | train_time = 7.327 | tot_time = 7.445\n",
      "Epoch 11: loss = 0.052 | acc = 0.983 | val_loss = 0.152 | val_acc = 0.959 | train_time = 7.244 | tot_time = 7.356\n",
      "Epoch 12: loss = 0.045 | acc = 0.986 | val_loss = 0.18 | val_acc = 0.953 | train_time = 7.291 | tot_time = 7.405\n",
      "Epoch 13: loss = 0.041 | acc = 0.987 | val_loss = 0.13 | val_acc = 0.967 | train_time = 7.259 | tot_time = 7.372\n",
      "Epoch 14: loss = 0.037 | acc = 0.988 | val_loss = 0.139 | val_acc = 0.966 | train_time = 8.884 | tot_time = 9.001\n",
      "Epoch 15: loss = 0.033 | acc = 0.99 | val_loss = 0.139 | val_acc = 0.965 | train_time = 10.353 | tot_time = 10.465\n",
      "Epoch 16: loss = 0.03 | acc = 0.991 | val_loss = 0.141 | val_acc = 0.963 | train_time = 7.262 | tot_time = 7.394\n",
      "Epoch 17: loss = 0.026 | acc = 0.992 | val_loss = 0.147 | val_acc = 0.966 | train_time = 10.427 | tot_time = 10.544\n",
      "Epoch 18: loss = 0.022 | acc = 0.994 | val_loss = 0.152 | val_acc = 0.964 | train_time = 8.377 | tot_time = 8.491\n",
      "Epoch 19: loss = 0.019 | acc = 0.995 | val_loss = 0.162 | val_acc = 0.961 | train_time = 7.381 | tot_time = 7.506\n",
      "Epoch 20: loss = 0.017 | acc = 0.995 | val_loss = 0.154 | val_acc = 0.965 | train_time = 7.313 | tot_time = 7.431\n"
     ]
    }
   ],
   "source": [
    "model = MLP(X_train, Y_train, X_test, Y_test, L=2, N_l=64)\n",
    "model.train(batch_size=8, epochs=20, lr=0.2)"
   ]
  },
  {
   "cell_type": "code",
   "execution_count": 24,
   "metadata": {
    "colab": {
     "base_uri": "https://localhost:8080/",
     "height": 353
    },
    "id": "b8IawSzBSRNI",
    "outputId": "39adb76d-01be-4f08-e982-2d31285844b1"
   },
   "outputs": [
    {
     "data": {
      "text/plain": [
       "Text(0, 0.5, 'Accuracy')"
      ]
     },
     "execution_count": 24,
     "metadata": {},
     "output_type": "execute_result"
    },
    {
     "data": {
      "image/png": "[encoded data removed]",
      "text/plain": [
       "<Figure size 1080x360 with 2 Axes>"
      ]
     },
     "metadata": {
      "needs_background": "light"
     },
     "output_type": "display_data"
    }
   ],
   "source": [
    "fig,ax = plt.subplots(1,2,figsize=(15,5))\n",
    "ax[0].plot(model.train_loss,label=\"Train loss\")\n",
    "ax[0].plot(model.val_loss,label=\"Val loss\")\n",
    "ax[0].legend()\n",
    "ax[0].set_xlabel(\"Epoch\")\n",
    "ax[0].set_ylabel(\"Loss\")\n",
    "\n",
    "ax[1].plot(model.train_acc,label=\"Train acc\")\n",
    "ax[1].plot(model.val_acc,label=\"Val acc\")\n",
    "ax[1].legend()\n",
    "ax[1].set_xlabel(\"Epoch\")\n",
    "ax[1].set_ylabel(\"Accuracy\")"
   ]
  },
  {
   "cell_type": "markdown",
   "metadata": {
    "id": "i9rgEKrTCseN"
   },
   "source": [
    "## Discussion (2 points)\n",
    "\n",
    "In this section, you are free to choose some of the following directions to explore, and try to summarize some patterns and conclusions.\n",
    "\n",
    "* Try to use different learning rates and generalize the impact of learning rate on training.\n",
    "* Try to use different number of layers of MLPs or different number of neurons of MLPs (including different ways of weight initialization) and explore the impact on the final classification performance.\n",
    "* Try to use a portion of the data for training (e.g., 10%, 20%, 50%) to explore the training convergence and final classification performance with different amounts of data.\n",
    "\n",
    "> **NOTE:** *Good Disscusion* include experimental setup, presentation of experimental results including visualization, analysis and interpretation of phenomena, and summary of conclusions"
   ]
  },
  {
   "cell_type": "code",
   "execution_count": null,
   "metadata": {
    "id": "IpuUw__XX2BE"
   },
   "outputs": [],
   "source": [
    "# === Complete the code (2')\n",
    "\n",
    "# === Complete the code"
   ]
  },
  {
   "cell_type": "markdown",
   "metadata": {
    "id": "hq6eF7KSX7oS"
   },
   "source": [
    "Write down your analysis and conclusions:\n",
    "\n"
   ]
  },
  {
   "cell_type": "code",
   "execution_count": null,
   "metadata": {
    "id": "Voo4eCfvcyKO"
   },
   "outputs": [],
   "source": []
  }
 ],
 "metadata": {
  "colab": {
   "collapsed_sections": [
    "oLeZHcOVBp4U"
   ],
   "name": "CS5242_HW2.ipynb",
   "provenance": []
  },
  "kernelspec": {
   "display_name": "Python 3 (ipykernel)",
   "language": "python",
   "name": "python3"
  },
  "language_info": {
   "codemirror_mode": {
    "name": "ipython",
    "version": 3
   },
   "file_extension": ".py",
   "mimetype": "text/x-python",
   "name": "python",
   "nbconvert_exporter": "python",
   "pygments_lexer": "ipython3",
   "version": "3.10.6"
  }
 },
 "nbformat": 4,
 "nbformat_minor": 1
}
