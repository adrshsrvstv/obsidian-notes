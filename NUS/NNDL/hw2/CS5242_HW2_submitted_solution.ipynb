{
 "cells": [
  {
   "cell_type": "markdown",
   "metadata": {
    "id": "GXMX8yuAyl55"
   },
   "source": [
    "# Welcome to CS 5242 **Homework 2**\n",
    "\n",
    "ASSIGNMENT DEADLINE ⏰ : **05 Sept 2022** \n",
    "\n",
    "In this assignment, the task is to implement Multi-Layer Perceptron (MLP) for handwritten digit classification from scratch.\n",
    "\n",
    "Colab is a hosted Jupyter notebook service that requires no setup to use, while providing access free of charge to computing resources including GPUs. In this semester, we will use Colab to run our experiments.\n",
    "\n",
    "> In this assignment, there is no need to use GPU.\n",
    "\n",
    "### **Grades Policy**\n",
    "\n",
    "We have 10 points for this homework. 15% off per day late, 0 scores if you submit it 7 days after the deadline.\n",
    "\n",
    "### **Cautions**\n",
    "\n",
    "**DO NOT** use external libraries like PyTorch or TensorFlow in your implementation.\n",
    "\n",
    "**DO NOT** copy the code from the internet, e.g. GitHub.\n",
    "\n",
    "---\n",
    "\n",
    "### **Contact**\n",
    "\n",
    "Please feel free to contact us if you have any question about this homework or need any further information.\n",
    "\n",
    "Slack (Recommend): Shenggan Cheng\n",
    "\n",
    "TA Email: shenggan@comp.nus.edu.sg\n",
    "\n",
    "> If you have not join the slack group, you can click [here](https://join.slack.com/t/cs5242ay20222-oiw1784/shared_invite/zt-1eiv24k1t-0J9EI7vz3uQmAHa68qU0aw)"
   ]
  },
  {
   "cell_type": "markdown",
   "metadata": {
    "id": "oLeZHcOVBp4U"
   },
   "source": [
    "## Setup\n",
    "\n",
    "Start by running the cell below to set up all required software."
   ]
  },
  {
   "cell_type": "code",
   "execution_count": 1,
   "metadata": {
    "colab": {
     "base_uri": "https://localhost:8080/"
    },
    "id": "HIgu_q2HBg-E",
    "outputId": "2abb09b3-dd29-488b-9d28-7335d7bdaef4"
   },
   "outputs": [
    {
     "name": "stdout",
     "output_type": "stream",
     "text": [
      "Requirement already satisfied: numpy in /Users/adrshsrvstv/python_envs/nndl/lib/python3.10/site-packages (1.23.2)\n",
      "Requirement already satisfied: matplotlib in /Users/adrshsrvstv/python_envs/nndl/lib/python3.10/site-packages (3.5.3)\n",
      "Requirement already satisfied: kiwisolver>=1.0.1 in /Users/adrshsrvstv/python_envs/nndl/lib/python3.10/site-packages (from matplotlib) (1.4.4)\n",
      "Requirement already satisfied: python-dateutil>=2.7 in /Users/adrshsrvstv/python_envs/nndl/lib/python3.10/site-packages (from matplotlib) (2.8.2)\n",
      "Requirement already satisfied: pillow>=6.2.0 in /Users/adrshsrvstv/python_envs/nndl/lib/python3.10/site-packages (from matplotlib) (9.2.0)\n",
      "Requirement already satisfied: fonttools>=4.22.0 in /Users/adrshsrvstv/python_envs/nndl/lib/python3.10/site-packages (from matplotlib) (4.36.0)\n",
      "Requirement already satisfied: packaging>=20.0 in /Users/adrshsrvstv/python_envs/nndl/lib/python3.10/site-packages (from matplotlib) (21.3)\n",
      "Requirement already satisfied: pyparsing>=2.2.1 in /Users/adrshsrvstv/python_envs/nndl/lib/python3.10/site-packages (from matplotlib) (3.0.9)\n",
      "Requirement already satisfied: cycler>=0.10 in /Users/adrshsrvstv/python_envs/nndl/lib/python3.10/site-packages (from matplotlib) (0.11.0)\n",
      "Requirement already satisfied: six>=1.5 in /Users/adrshsrvstv/python_envs/nndl/lib/python3.10/site-packages (from python-dateutil>=2.7->matplotlib) (1.16.0)\n"
     ]
    }
   ],
   "source": [
    "!pip install numpy matplotlib"
   ]
  },
  {
   "cell_type": "markdown",
   "metadata": {
    "id": "bqkIbfgfE1oB"
   },
   "source": [
    "Download and extract MNIST Dataset."
   ]
  },
  {
   "cell_type": "code",
   "execution_count": 2,
   "metadata": {
    "colab": {
     "base_uri": "https://localhost:8080/"
    },
    "id": "hSoSnxC4EzzJ",
    "outputId": "8cc67e4f-cee7-43bf-fa57-fd3754345466"
   },
   "outputs": [
    {
     "name": "stdout",
     "output_type": "stream",
     "text": [
      "total 249744\r\n",
      "-rw-r--r--  1 adrshsrvstv  staff   18289443 Jul 16  2019 mnist_test.csv\r\n",
      "-rw-r--r--  1 adrshsrvstv  staff  109575994 Jul 16  2019 mnist_train.csv\r\n"
     ]
    }
   ],
   "source": [
    "!mkdir -p data \\\n",
    "    && wget -q https://raw.githubusercontent.com/Shenggan/cs5242_resource/main/homework2/mnist_data.tar.gz -O ./data/mnist_data.tar.gz \\\n",
    "    && tar xf data/mnist_data.tar.gz -C ./data \\\n",
    "    && rm -rf ./data/mnist_data.tar.gz \\\n",
    "    && ls -l ./data/"
   ]
  },
  {
   "cell_type": "markdown",
   "metadata": {
    "id": "vtXcchT5H2PH"
   },
   "source": [
    "Import the neccesary library."
   ]
  },
  {
   "cell_type": "code",
   "execution_count": 220,
   "metadata": {
    "id": "I2Yodsn4H6CB"
   },
   "outputs": [],
   "source": [
    "import time\n",
    "\n",
    "import numpy as np\n",
    "import matplotlib.pyplot as plt"
   ]
  },
  {
   "cell_type": "markdown",
   "metadata": {
    "id": "3yrZD7DDExF4"
   },
   "source": [
    "Everything is ready, you can move on and ***Good Luck !*** 😃"
   ]
  },
  {
   "cell_type": "markdown",
   "metadata": {
    "id": "7DwqHhL9CSxs"
   },
   "source": [
    "## Explore MNIST Dataset\n",
    "\n",
    "One of the first steps when working with a new data set is exploring.Our data here is from the [MNIST dataset](http://yann.lecun.com/exdb/mnist/) of `28x28` pixel images of handwritten digits from `0-9`, which has an important place in the history of machine learning.\n",
    "\n",
    "Our data have been downloaded in the directory `data`: `mnist_train.csv` and `mnist_test.csv`, so the complete file path (from the main directory) are `data/mnist_train.csv` and `data/mnist_test.csv`. \n",
    "\n",
    "With that in mind, let's define a helper function `load_data` that we can use to quickly in our data.\n"
   ]
  },
  {
   "cell_type": "code",
   "execution_count": 221,
   "metadata": {
    "id": "DIHIpxpaHyOo"
   },
   "outputs": [],
   "source": [
    "def load_data(dir_name):\n",
    "    \"\"\"\n",
    "    Function for loading MNIST data stored in comma delimited files. Labels for \n",
    "    each image are the first entry in each row.\n",
    "\n",
    "    Parameters\n",
    "    ----------\n",
    "    dit_name : str\n",
    "         Path to where data is contained\n",
    "\n",
    "    Returns\n",
    "    -------\n",
    "    X : np.array, np.float32\n",
    "        A (N x 784) matrix of samples\n",
    "    Y : np.array, np.float32\n",
    "        A (N x 1) matrix of labels for each sample\n",
    "    \"\"\"\n",
    "    X, Y = None, None\n",
    "    \n",
    "    # Hint:\n",
    "    # 1) open the file and iterate through each line\n",
    "    # 2) in every line, split with ',' and you can get 785 elements\n",
    "    # 3) as the first number in each sample is the label (0-9), extract that from the rest and return\n",
    "\n",
    "    # Some numpy function you maybe need to use: `np.array`, `numpy.ndarray.astype`, `numpy.asarray`\n",
    "    # A kindly example, \n",
    "    # tmp_str = \"1,2,3,4\"\n",
    "    # array = np.array(line.split(',')).astype(np.float32)\n",
    "    # print(array)\n",
    "\n",
    "    # === Complete the code (1')\n",
    "    \n",
    "    with open(dir_name) as f:\n",
    "        lines = [line.rstrip().split(\",\") for line in f]\n",
    "    \n",
    "    Y = np.array([i[0] for i in lines], dtype=np.float32)\n",
    "    X = np.array([i[1:] for i in lines], dtype=np.float32)\n",
    "\n",
    "    # === Complete the code\n",
    "    return X, Y\n",
    "  "
   ]
  },
  {
   "cell_type": "code",
   "execution_count": 222,
   "metadata": {
    "id": "m4HSdfdqIPeN"
   },
   "outputs": [],
   "source": [
    "X_train, Y_train = load_data(\"./data/mnist_train.csv\")\n",
    "X_test, Y_test = load_data(\"./data/mnist_test.csv\")"
   ]
  },
  {
   "cell_type": "markdown",
   "metadata": {
    "id": "4aH3JKg3I2bZ"
   },
   "source": [
    "An easy to quickly get an idea for how your data looks is to examine the shape of the matrix it's stored using the `.shape` attribute of numpy arrays. We see that the shape of `X_train` is `60000 x 784`, which tells us there are `60000` samples (images) each with dimension `784`. Each sample, typically presented as a 28 x 28 image, is unrolled into a 1-dimensional vector 28 x 28 = 784 contained within each row of `X_train`."
   ]
  },
  {
   "cell_type": "code",
   "execution_count": 223,
   "metadata": {
    "colab": {
     "base_uri": "https://localhost:8080/"
    },
    "id": "FNCf79ShI6H9",
    "outputId": "e0328f8a-47b4-4c23-dbe3-378783857162"
   },
   "outputs": [
    {
     "name": "stdout",
     "output_type": "stream",
     "text": [
      "The shape of the training set is: 60000 x 784\n",
      "The shape of the test set is: 10000 x 784\n"
     ]
    }
   ],
   "source": [
    "print(f\"The shape of the training set is: {X_train.shape[0]} x {X_train.shape[1]}\")\n",
    "print(f\"The shape of the test set is: {X_test.shape[0]} x {X_test.shape[1]}\")"
   ]
  },
  {
   "cell_type": "markdown",
   "metadata": {
    "id": "bf5GmYOTzvVI"
   },
   "source": [
    "Now lets take a look at how the samples are represented, we can do this by calling `Y_train[index]` and `X_train[index]` (here I choose `index=0` to look at the very first sample). We first notice `Y_train[0]=5.0`, meaning this entry is the digit `5`. We will confirm this shortly by visualizing some of these samples. We then notice each entry is an integer (cast into `np.float32` in our `load_data` function) ranging from `0-255`. This representation is common when working with images. The numerical entries are interpreted as pixel intensities typically shown in gray-scale ranging between `0` (black) and `255` (white). "
   ]
  },
  {
   "cell_type": "code",
   "execution_count": 224,
   "metadata": {
    "colab": {
     "base_uri": "https://localhost:8080/"
    },
    "id": "8ZWVJHTXzzp2",
    "outputId": "3e4c30a2-4421-4235-af87-49126225907a"
   },
   "outputs": [
    {
     "name": "stdout",
     "output_type": "stream",
     "text": [
      "Y_train[0]: 5.0\n",
      "X_train[0] range from 0.0 to 255.0.\n"
     ]
    }
   ],
   "source": [
    "index = 0\n",
    "print(f\"Y_train[{index}]: {Y_train[index]}\")\n",
    "print(f\"X_train[{index}] range from {min(X_train[index])} to {max(X_train[index])}.\")"
   ]
  },
  {
   "cell_type": "code",
   "execution_count": 225,
   "metadata": {
    "id": "b6KGKdP7JCmc"
   },
   "outputs": [],
   "source": [
    "# rescale data between 0 - 1.0\n",
    "def scale_data(X):\n",
    "    \n",
    "    # === Complete the code (0.5')\n",
    "    X_scaled = X/255.0\n",
    "    # === Complete the code\n",
    "    return X_scaled\n",
    "\n",
    "X_train = scale_data(X_train)\n",
    "X_test = scale_data(X_test)"
   ]
  },
  {
   "cell_type": "code",
   "execution_count": 226,
   "metadata": {},
   "outputs": [
    {
     "name": "stdout",
     "output_type": "stream",
     "text": [
      "(60000, 10)\n",
      "(10000, 10)\n"
     ]
    }
   ],
   "source": [
    "y_train_onehot = np.zeros((Y_train.size, int(Y_train.max()) + 1))\n",
    "y_test_onehot = np.zeros((Y_test.size, int(Y_test.max()) + 1))\n",
    "print(y_train_onehot.shape)\n",
    "print(y_test_onehot.shape)"
   ]
  },
  {
   "cell_type": "code",
   "execution_count": 227,
   "metadata": {
    "colab": {
     "base_uri": "https://localhost:8080/",
     "height": 246
    },
    "id": "2G0EUVRs2DCh",
    "outputId": "d7c483e7-a16c-4481-bd46-747348bd1a39"
   },
   "outputs": [
    {
     "data": {
      "image/png": "[encoded data removed]",
      "text/plain": [
       "<Figure size 1500x1000 with 4 Axes>"
      ]
     },
     "metadata": {},
     "output_type": "display_data"
    }
   ],
   "source": [
    "y_train_onehot = np.zeros((Y_train.size, int(Y_train.max()) + 1))\n",
    "y_test_onehot = np.zeros((Y_test.size, int(Y_test.max()) + 1))\n",
    "\n",
    "# one-hot encode train (y_train) and test (y_test) set labels\n",
    "# === Complete the code (0.5')\n",
    "for i,n in enumerate(Y_train):\n",
    "    y_train_onehot[i][int(n)]=1.\n",
    "\n",
    "for i,n in enumerate(Y_test):\n",
    "    y_test_onehot[i][int(n)]=1.\n",
    "    \n",
    "# === Complete the code\n",
    "\n",
    "num_images = 4\n",
    "fig, axes = plt.subplots(1, num_images, figsize=(15, 10))\n",
    "for image, label, ax in zip(X_train[:num_images], y_train_onehot[:num_images], axes):\n",
    "    ax.imshow(image.reshape(28, 28), cmap='gray', vmin=0, vmax=1.0)\n",
    "    ax.set_title(f\"Label: {label}\")"
   ]
  },
  {
   "cell_type": "markdown",
   "metadata": {
    "id": "LTHgDB8MCguR"
   },
   "source": [
    "## Implementation of Multilayer perceptron"
   ]
  },
  {
   "cell_type": "markdown",
   "metadata": {
    "id": "PS0HX6A_o5mL"
   },
   "source": [
    "We'll first go through and write the code for each piece of an MLP (**without bias**) in generic Python functions. We'll then wrap everything in an `MLP` class, which will allow us to easily access all the MLP functionality in a user friendly manner."
   ]
  },
  {
   "cell_type": "markdown",
   "metadata": {
    "id": "C4Wa7cQBpEql"
   },
   "source": [
    "### Feed Forward"
   ]
  },
  {
   "cell_type": "markdown",
   "metadata": {
    "id": "t7V2F14ppBdi"
   },
   "source": [
    "Implementing the forward pass of the neural network is relatively simply as everything is basically just a series of matrix multiplicaitons and activation functions. A two-layer MLP example we looked at when working through the math had a forward pass which mathematically took the form:\n",
    "$$\\sigma(\\mathbf{x}W^{(1)})W^{(2)}$$\n",
    "\n",
    "We'll of course want to make things a bit more modular by allowing the user to choose some of the neural network paramters, such as the number of hidden layers `L` and the nunber of neurons per layer `N_l`. For simplicity we'll restrict that all the hidden layers are treated with **sigmoid** activaitons."
   ]
  },
  {
   "cell_type": "markdown",
   "metadata": {
    "id": "5nFN2g3MrXWw"
   },
   "source": [
    "The last step of process for classification tasks is actually producing a prediction from these numbers in the output layer. Typically, in the case of multi-label classification, this is done using a *softmax* activation function which effectively converts the output neurons into probabilities for each label. This has the mathematical form, $$\\text{softmax}(\\mathbf{z})_j = \\frac{\\exp(z_j)}{\\sum_{k=0}^{K=9}\\exp{(z_k)}}$$.\n",
    "\n",
    "The softmax activation function has the property of the outputs summing to 1 $\\sum_{k=1}^{K=9}\\text{softmax}(\\mathbf{z}^{(2)})_k = 1$, allowing each output $\\mathbf{a}^{(2)}_i = \\text{softmax}(\\mathbf{z}^{(2)})_i$ to be interpreted as the probability that the input is actually a digit `0-9`. Note, the output of a MLP does not need to have a softmax activation, for example in a regression setting a softmax activation would not make much sense. When evaluating the classification accuracy of the neural network, the input is typically classified according to the output label with the highest probability, \n",
    "\n",
    "$$\\text{prediction}(\\mathbf{x}) = \\text{argmax}\\  \\text{softmax}(\\mathbf{z}^{(2)}) = \\text{argmax}\\  \\text{softmax}((\\sigma(\\mathbf{x}W^{(1)})W^{(2)}))$$."
   ]
  },
  {
   "cell_type": "markdown",
   "metadata": {
    "id": "dF57FyDHJ2zl"
   },
   "source": [
    "We can start by simply defining our activation functions:"
   ]
  },
  {
   "cell_type": "code",
   "execution_count": 245,
   "metadata": {
    "id": "eRZKTMJqJ2LQ"
   },
   "outputs": [],
   "source": [
    "def sigmoid(x):\n",
    "    \"\"\"\n",
    "    Compute the sigmoid of `x`, calculated element-wise\n",
    "\n",
    "    Parameters\n",
    "    ----------\n",
    "    x : float or array_like\n",
    "        input\n",
    "\n",
    "    Returns\n",
    "    -------\n",
    "    sigmoid(x) : float or array_like\n",
    "        sigmoid applied to `x` element-wise\n",
    "    \"\"\"\n",
    "    result = None\n",
    "    # === Complete the code (0.5')\n",
    "    result = 1.0 / (1.0 + np.exp(-x))\n",
    "    # === Complete the code\n",
    "    return result"
   ]
  },
  {
   "cell_type": "code",
   "execution_count": 246,
   "metadata": {
    "id": "FAhoW7rfI1s-"
   },
   "outputs": [],
   "source": [
    "def softmax(x):\n",
    "    \"\"\"\n",
    "    Compute the softmax of `x`,\n",
    "\n",
    "    Parameters\n",
    "    ----------\n",
    "    x : array_like\n",
    "        (N x dim) array with N samples by p dimensions. dim=10 for MNIST classification. \n",
    "\n",
    "    Returns\n",
    "    -------\n",
    "    softmax(x) : float or array_like\n",
    "        softmax applied to `x` along the first axis.\n",
    "    \"\"\"\n",
    "    result = None\n",
    "    # === Complete the code (0.5')\n",
    "    x = x - np.broadcast_to(np.max(x, axis=1, keepdims=True), x.shape)\n",
    "    result = np.exp(x)/np.sum(np.exp(x), axis=1, keepdims=True)\n",
    "    # === Complete the code\n",
    "    return result"
   ]
  },
  {
   "cell_type": "markdown",
   "metadata": {
    "id": "IJO2LaDmsmXq"
   },
   "source": [
    "The inputs `x`, weight matricies `w`, and activations are in principle all we need to define the forward pass; however, for efficency reasons we'll want to store the outputs of the hidden layer neurons when performing the forward pass. Storing these values will help us later more quickly calculate the gradients during the backward pass. The `init_layers` functions will initalize these hidden layers as NumPy arrays, doing this before we begin training will help us save some overhead we would otherwise inccur reinitalizing these hidden layers before each forward pass. These hidden layer values will be stored in multi-dimensional matricies, called *tensors*. One dimension of these tensors will be the `batch size` which will indicate the number of samples simultaneously passed to MLP during one training loop (feed forward + backpropagation)."
   ]
  },
  {
   "cell_type": "code",
   "execution_count": 247,
   "metadata": {
    "id": "0M-gOFpTsl3N"
   },
   "outputs": [],
   "source": [
    "def init_layers(batch_size, layer_sizes):\n",
    "    \"\"\"\n",
    "    Initalize arrays to store the hidden layer ouputs.\n",
    "\n",
    "    Parameters\n",
    "    ----------\n",
    "    batch_size : int\n",
    "        Number of samples to concurrently feed through the network.\n",
    "    layer_sizes : array_like\n",
    "        Array of length `N_l`. Each entry is the number of neurons in each layer.\n",
    "\n",
    "    Returns\n",
    "    -------\n",
    "    hidden_layers : list\n",
    "        List of empty arrays used to hold hidden layer outputs. \n",
    "    \"\"\"\n",
    "    hidden_layers = [np.empty((batch_size, layer_size)) for layer_size in layer_sizes]\n",
    "    return hidden_layers"
   ]
  },
  {
   "cell_type": "markdown",
   "metadata": {
    "id": "iiNL3Ubcsq8N"
   },
   "source": [
    "In order to perform a forward pass our input `x` is consequtively multiplied by weight matricies passed into the associated activaiton functions. The paramters in these weight matricies will ultimately be learned through backpropagation, but each weight matrix must first be initalized to random values. There are a number of different methods for doing this initalization, but for the moment we'll use a simple approach of just drawing the numerical values from a normal distribution with mean zero and standard deviation 1. We could have also reasonably choosen to simply draw from a uniform distribution on the range `[-1,1]`. "
   ]
  },
  {
   "cell_type": "code",
   "execution_count": 248,
   "metadata": {
    "id": "2ojQ3Hl1svff"
   },
   "outputs": [],
   "source": [
    "def init_weights(layer_sizes):\n",
    "    \"\"\"\n",
    "    Initalize the paramters of the weight matricies.\n",
    "\n",
    "    Parameters\n",
    "    ----------\n",
    "    layer_sizes : array_like\n",
    "        Array of length `N_l`. Each entry is the number of neurons in each layer.\n",
    "\n",
    "    Returns\n",
    "    -------\n",
    "    weights : array_like\n",
    "        Randomly initalized weight matricies based on the layer sizes. \n",
    "    \"\"\"\n",
    "    weights = list()\n",
    "    for i in range(layer_sizes.shape[0] - 1):\n",
    "        weights.append(np.random.uniform(-1, 1, size=[layer_sizes[i], layer_sizes[i + 1]]))\n",
    "    return weights"
   ]
  },
  {
   "cell_type": "markdown",
   "metadata": {
    "id": "DHnQDrnMpSFL"
   },
   "source": [
    "### Backpropagation"
   ]
  },
  {
   "cell_type": "markdown",
   "metadata": {
    "id": "b7ek23WJOGHs"
   },
   "source": [
    "Initalizing all the weights, layers, and activations prior to the forward pass makes much of the backward pass implimentation actually quite simple. For convinience we'll define a `sigmoid_derivative` function, which simply computes the derivative of the sigmoid activation $\\sigma^{\\prime}$. We'll use this when computing the gradients during the backward pass."
   ]
  },
  {
   "cell_type": "code",
   "execution_count": 249,
   "metadata": {
    "id": "ZxfTWU_6oeE7"
   },
   "outputs": [],
   "source": [
    "def sigmoid_derivative(sigmoid_out):\n",
    "    \"\"\"\n",
    "    Calculate derivative of sigmoid activation based on sigmoid output.\n",
    "\n",
    "    Parameters\n",
    "    ----------\n",
    "    sigmoid_out : array_like\n",
    "        Output values processed by a sigmoid function.\n",
    "    \n",
    "    Returns\n",
    "    -------\n",
    "    sigmoid_derivative(h) : array_like\n",
    "        Derivative of sigmoid, based on value of sigmoid.\n",
    "    \"\"\"\n",
    "    result = None\n",
    "    # === Complete the code (0.5')\n",
    "    result = np.multiply(sigmoid_out, (1.0-sigmoid_out))\n",
    "\n",
    "    # === Complete the code\n",
    "    return result"
   ]
  },
  {
   "cell_type": "markdown",
   "metadata": {
    "id": "p9XZokeNpnUf"
   },
   "source": [
    "### Training"
   ]
  },
  {
   "cell_type": "markdown",
   "metadata": {
    "id": "yA9w06GhtWxt"
   },
   "source": [
    "You have **three tasks** in this section.\n",
    "\n",
    "1. You need to implement `__feed_forward` function.\n",
    "2. You need to implement `__back_prop` function.\n",
    "3. You need to implement the main loop of `train` function."
   ]
  },
  {
   "cell_type": "code",
   "execution_count": 258,
   "metadata": {
    "id": "_-ERNpYWpYc4"
   },
   "outputs": [],
   "source": [
    "def to_categorical(x, class_num):\n",
    "    # Transform probabilities into categorical predictions row-wise, by simply taking the max probability\n",
    "    categorical = np.zeros((x.shape[0], class_num))\n",
    "    categorical[np.arange(x.shape[0]), x.argmax(axis=1)] = 1\n",
    "    return categorical\n",
    "\n",
    "def accuracy(y_pred, y):\n",
    "    # Compute the accuracy along the rows, averaging along the number of samples\n",
    "    return np.all(y_pred == y, axis=1).mean()\n",
    "\n",
    "def loss(y_pred, y):\n",
    "    # Compute the loss along the rows, averaging along the number of samples\n",
    "    loss_ = ((-np.log(y_pred)) * y).sum(axis=1).mean()\n",
    "    return loss_\n",
    "\n",
    "class MLP():\n",
    "\n",
    "    def __init__(self, X, Y, X_val, Y_val, L=1, N_l=128):\n",
    "        self.X = X\n",
    "        self.Y = np.squeeze(np.eye(10)[Y.astype(int).reshape(-1)])\n",
    "        self.X_val = X_val\n",
    "        self.Y_val = np.squeeze(np.eye(10)[Y_val.astype(int).reshape(-1)])\n",
    "        self.L = L\n",
    "        self.N_l = N_l\n",
    "        self.n_samples = self.X.shape[0]\n",
    "        self.layer_sizes = np.array([self.X.shape[1]] + [N_l] * L + [self.Y.shape[1]])\n",
    "        self.__init_weights()\n",
    "        self.train_loss = list()\n",
    "        self.train_acc = list()\n",
    "        self.val_loss = list()\n",
    "        self.val_acc = list()\n",
    "        self.train_time = list()\n",
    "        self.tot_time = list()\n",
    "        self.metrics = [\n",
    "            self.train_loss, self.train_acc, self.val_loss, self.val_acc, self.train_time,\n",
    "            self.tot_time\n",
    "        ]\n",
    "\n",
    "        self.class_num = self.Y.shape[1]\n",
    "\n",
    "    def __init_weights(self):\n",
    "        # Initialize the weights of the network given the sizes of the layers\n",
    "        self.weights = list()\n",
    "        for i in range(self.layer_sizes.shape[0] - 1):\n",
    "            self.weights.append(\n",
    "                np.random.uniform(-1, 1, size=[self.layer_sizes[i], self.layer_sizes[i + 1]]))\n",
    "        self.weights = np.asarray(self.weights)\n",
    "\n",
    "    def __init_layers(self, batch_size):\n",
    "        # Initialize and allocate arrays for the hidden layer activations\n",
    "        self.__h = [np.empty((batch_size, layer)) for layer in self.layer_sizes]\n",
    "\n",
    "    def __feed_forward(self, batch):\n",
    "        # Perform a forward pass of `batch` samples (N_samples x N_features)\n",
    "        out_ = None\n",
    "        h_l = batch\n",
    "        self.__h[0] = h_l\n",
    "        # === Complete the code (1.5')\n",
    "        for i in range(1, len(self.__h)-1):\n",
    "            self.__h[i] = sigmoid( np.matmul( self.__h[i-1], self.weights[i-1]))\n",
    "        self.__h[i+1] = softmax( np.matmul( self.__h[i], self.weights[i]))\n",
    "        out_= self.__h[i+1]\n",
    "        # === Complete the code\n",
    "        self.__out = out_\n",
    "        \n",
    "    def __back_prop(self, batch_y):\n",
    "        # Update the weights of the network through back-propagation\n",
    "        # === Complete the code (1.5')\n",
    "        grads = [np.zeros_like(w) for w in self.weights] #initialized grads to zero\n",
    "        last_pre_grad = None # to store last pre grad term for chain rule\n",
    "        \n",
    "        # compute softmax-cel gradients for the last layer\n",
    "        softmax_ce_pre_grad = softmax( np.matmul( self.__h[self.L], self.weights[self.L])) - batch_y #for last layer linear output\n",
    "        grads[self.L] = np.matmul( np.transpose(self.__h[self.L]), softmax_ce_pre_grad)\n",
    "        last_pre_grad = softmax_ce_pre_grad\n",
    "        \n",
    "        for i in range(self.L-1, -1, -1):\n",
    "            sig_dash = sigmoid_derivative(sigmoid( np.matmul( self.__h[i], self.weights[i])))\n",
    "            last_pre_grad = np.multiply(sig_dash ,np.matmul(last_pre_grad, np.transpose(self.weights[i+1])))\n",
    "            grads[i] = np.matmul( np.transpose(self.__h[i]), last_pre_grad)\n",
    "        \n",
    "        #update the gradient matrices for each grad[i]\n",
    "        for i in range(0, self.L+1):\n",
    "            self.weights[i] -= self.lr * grads[i]\n",
    "        \n",
    "        # === Complete the code\n",
    "\n",
    "    def predict(self, X):\n",
    "        # Generate a categorical, one-hot, prediction given an input X\n",
    "        self.__init_layers(X.shape[0])\n",
    "        self.__feed_forward(X)\n",
    "        return to_categorical(self.__out, self.class_num)\n",
    "\n",
    "    def evaluate(self, X, Y):\n",
    "        # Evaluate the performance (accuracy) predicting on X with true labels Y\n",
    "        prediction = self.predict(X)\n",
    "        return accuracy(prediction, Y)\n",
    "\n",
    "    def train(self, batch_size=8, epochs=25, lr=0.2):\n",
    "        # Train the model with a given batch size, epochs, and learning rate. Store and print relevant metrics.\n",
    "        self.lr = lr\n",
    "        self.batch_size = batch_size\n",
    "        for epoch in range(epochs):\n",
    "            start = time.time()\n",
    "\n",
    "            self.__init_layers(self.batch_size)\n",
    "            shuffle = np.random.permutation(self.n_samples)\n",
    "            train_loss = 0\n",
    "            train_acc = 0\n",
    "            X_batches = np.array_split(self.X[shuffle], self.n_samples / self.batch_size)\n",
    "            Y_batches = np.array_split(self.Y[shuffle], self.n_samples / self.batch_size)\n",
    "            for batch_x, batch_y in zip(X_batches, Y_batches):\n",
    "                # === Complete the code (1.5')\n",
    "                self.__feed_forward(batch_x)\n",
    "                self.__back_prop(batch_y)\n",
    "                train_loss  += loss(self.__out, batch_y)\n",
    "                train_acc += accuracy(to_categorical(self.__out, self.class_num), batch_y)\n",
    "                # === Complete the code\n",
    "\n",
    "            \n",
    "            train_loss = (train_loss / len(X_batches))\n",
    "            train_acc = (train_acc / len(X_batches))\n",
    "            self.train_loss.append(train_loss)\n",
    "            self.train_acc.append(train_acc)\n",
    "\n",
    "            train_time = round(time.time() - start, 3)\n",
    "            self.train_time.append(train_time)\n",
    "\n",
    "            self.__init_layers(self.X_val.shape[0])\n",
    "            self.__feed_forward(self.X_val)\n",
    "            val_loss = loss(self.__out, self.Y_val)\n",
    "            val_acc = accuracy(to_categorical(self.__out, self.class_num), self.Y_val)\n",
    "            self.val_loss.append(val_loss)\n",
    "            self.val_acc.append(val_acc)\n",
    "\n",
    "            tot_time = round(time.time() - start, 3)\n",
    "            self.tot_time.append(tot_time)\n",
    "\n",
    "            print(\n",
    "                f\"Epoch {epoch+1}: loss = {train_loss.round(3)} | acc = {train_acc.round(3)} | val_loss = {val_loss.round(3)} | val_acc = {val_acc.round(3)} | train_time = {train_time} | tot_time = {tot_time}\"\n",
    "            )\n"
   ]
  },
  {
   "cell_type": "markdown",
   "metadata": {
    "id": "VrUiDpPynrLF"
   },
   "source": [
    "Great, now let's give this a try. Let's create a really simple MLP with only a single hidden layer `L=2` with 64 neurons `N_l=64`. We'll train with a `batch_size=8` for `epochs=20` and a learning rate `lr=0.2`."
   ]
  },
  {
   "cell_type": "code",
   "execution_count": 259,
   "metadata": {
    "colab": {
     "base_uri": "https://localhost:8080/"
    },
    "id": "fkkmE_mQpb4j",
    "outputId": "f8c21883-1491-4db1-d1f9-9dda546dbbb1"
   },
   "outputs": [
    {
     "name": "stderr",
     "output_type": "stream",
     "text": [
      "/var/folders/9p/4f_fcqf57lx9ck4gqb88rkm80000gn/T/ipykernel_21860/3256340227.py:47: VisibleDeprecationWarning: Creating an ndarray from ragged nested sequences (which is a list-or-tuple of lists-or-tuples-or ndarrays with different lengths or shapes) is deprecated. If you meant to do this, you must specify 'dtype=object' when creating the ndarray.\n",
      "  self.weights = np.asarray(self.weights)\n"
     ]
    },
    {
     "name": "stdout",
     "output_type": "stream",
     "text": [
      "Epoch 1: loss = 0.353 | acc = 0.894 | val_loss = 0.251 | val_acc = 0.921 | train_time = 4.413 | tot_time = 4.452\n",
      "Epoch 2: loss = 0.211 | acc = 0.938 | val_loss = 0.199 | val_acc = 0.943 | train_time = 4.192 | tot_time = 4.23\n",
      "Epoch 3: loss = 0.174 | acc = 0.948 | val_loss = 0.163 | val_acc = 0.949 | train_time = 4.343 | tot_time = 4.382\n",
      "Epoch 4: loss = 0.158 | acc = 0.953 | val_loss = 0.183 | val_acc = 0.945 | train_time = 4.249 | tot_time = 4.292\n",
      "Epoch 5: loss = 0.145 | acc = 0.957 | val_loss = 0.161 | val_acc = 0.953 | train_time = 5.741 | tot_time = 5.789\n",
      "Epoch 6: loss = 0.135 | acc = 0.96 | val_loss = 0.172 | val_acc = 0.95 | train_time = 4.278 | tot_time = 4.319\n",
      "Epoch 7: loss = 0.135 | acc = 0.959 | val_loss = 0.147 | val_acc = 0.955 | train_time = 4.365 | tot_time = 4.4\n",
      "Epoch 8: loss = 0.124 | acc = 0.963 | val_loss = 0.149 | val_acc = 0.957 | train_time = 4.197 | tot_time = 4.234\n",
      "Epoch 9: loss = 0.12 | acc = 0.964 | val_loss = 0.154 | val_acc = 0.958 | train_time = 3.911 | tot_time = 3.951\n",
      "Epoch 10: loss = 0.108 | acc = 0.967 | val_loss = 0.145 | val_acc = 0.961 | train_time = 4.233 | tot_time = 4.278\n",
      "Epoch 11: loss = 0.114 | acc = 0.966 | val_loss = 0.151 | val_acc = 0.959 | train_time = 4.456 | tot_time = 4.497\n",
      "Epoch 12: loss = 0.107 | acc = 0.968 | val_loss = 0.131 | val_acc = 0.965 | train_time = 4.362 | tot_time = 4.4\n",
      "Epoch 13: loss = 0.105 | acc = 0.968 | val_loss = 0.15 | val_acc = 0.956 | train_time = 4.086 | tot_time = 4.124\n",
      "Epoch 14: loss = 0.095 | acc = 0.972 | val_loss = 0.146 | val_acc = 0.962 | train_time = 4.025 | tot_time = 4.066\n",
      "Epoch 15: loss = 0.102 | acc = 0.969 | val_loss = 0.145 | val_acc = 0.961 | train_time = 4.384 | tot_time = 4.425\n",
      "Epoch 16: loss = 0.102 | acc = 0.969 | val_loss = 0.145 | val_acc = 0.958 | train_time = 4.251 | tot_time = 4.297\n",
      "Epoch 17: loss = 0.094 | acc = 0.971 | val_loss = 0.146 | val_acc = 0.959 | train_time = 4.007 | tot_time = 4.058\n",
      "Epoch 18: loss = 0.09 | acc = 0.973 | val_loss = 0.127 | val_acc = 0.963 | train_time = 4.078 | tot_time = 4.12\n",
      "Epoch 19: loss = 0.087 | acc = 0.973 | val_loss = 0.149 | val_acc = 0.96 | train_time = 4.185 | tot_time = 4.224\n",
      "Epoch 20: loss = 0.083 | acc = 0.974 | val_loss = 0.132 | val_acc = 0.966 | train_time = 4.159 | tot_time = 4.194\n"
     ]
    }
   ],
   "source": [
    "model = MLP(X_train, Y_train, X_test, Y_test, L=2, N_l=64)\n",
    "model.train(batch_size=8, epochs=20, lr=0.2)"
   ]
  },
  {
   "cell_type": "code",
   "execution_count": 260,
   "metadata": {
    "colab": {
     "base_uri": "https://localhost:8080/",
     "height": 353
    },
    "id": "b8IawSzBSRNI",
    "outputId": "39adb76d-01be-4f08-e982-2d31285844b1"
   },
   "outputs": [
    {
     "data": {
      "text/plain": [
       "Text(0, 0.5, 'Accuracy')"
      ]
     },
     "execution_count": 260,
     "metadata": {},
     "output_type": "execute_result"
    },
    {
     "data": {
      "image/png": "[encoded data removed]",
      "text/plain": [
       "<Figure size 1500x500 with 2 Axes>"
      ]
     },
     "metadata": {},
     "output_type": "display_data"
    }
   ],
   "source": [
    "fig,ax = plt.subplots(1,2,figsize=(15,5))\n",
    "ax[0].plot(model.train_loss,label=\"Train loss\")\n",
    "ax[0].plot(model.val_loss,label=\"Val loss\")\n",
    "ax[0].legend()\n",
    "ax[0].set_xlabel(\"Epoch\")\n",
    "ax[0].set_ylabel(\"Loss\")\n",
    "\n",
    "ax[1].plot(model.train_acc,label=\"Train acc\")\n",
    "ax[1].plot(model.val_acc,label=\"Val acc\")\n",
    "ax[1].legend()\n",
    "ax[1].set_xlabel(\"Epoch\")\n",
    "ax[1].set_ylabel(\"Accuracy\")"
   ]
  },
  {
   "cell_type": "markdown",
   "metadata": {
    "id": "i9rgEKrTCseN"
   },
   "source": [
    "## Discussion (2 points)\n",
    "\n",
    "In this section, you are free to choose some of the following directions to explore, and try to summarize some patterns and conclusions.\n",
    "\n",
    "* Try to use different learning rates and generalize the impact of learning rate on training.\n",
    "* Try to use different number of layers of MLPs or different number of neurons of MLPs (including different ways of weight initialization) and explore the impact on the final classification performance.\n",
    "* Try to use a portion of the data for training (e.g., 10%, 20%, 50%) to explore the training convergence and final classification performance with different amounts of data.\n",
    "\n",
    "> **NOTE:** *Good Disscusion* include experimental setup, presentation of experimental results including visualization, analysis and interpretation of phenomena, and summary of conclusions"
   ]
  },
  {
   "cell_type": "code",
   "execution_count": null,
   "metadata": {
    "id": "IpuUw__XX2BE"
   },
   "outputs": [],
   "source": [
    "# === Complete the code (2')\n",
    "\n",
    "# === Complete the code"
   ]
  },
  {
   "cell_type": "markdown",
   "metadata": {
    "id": "hq6eF7KSX7oS"
   },
   "source": [
    "Write down your analysis and conclusions:\n",
    "\n"
   ]
  },
  {
   "cell_type": "code",
   "execution_count": 261,
   "metadata": {
    "id": "Voo4eCfvcyKO"
   },
   "outputs": [
    {
     "name": "stderr",
     "output_type": "stream",
     "text": [
      "/var/folders/9p/4f_fcqf57lx9ck4gqb88rkm80000gn/T/ipykernel_21860/3256340227.py:47: VisibleDeprecationWarning: Creating an ndarray from ragged nested sequences (which is a list-or-tuple of lists-or-tuples-or ndarrays with different lengths or shapes) is deprecated. If you meant to do this, you must specify 'dtype=object' when creating the ndarray.\n",
      "  self.weights = np.asarray(self.weights)\n"
     ]
    },
    {
     "name": "stdout",
     "output_type": "stream",
     "text": [
      "Epoch 1: loss = 22.85 | acc = 0.099 | val_loss = 23.637 | val_acc = 0.098 | train_time = 4.799 | tot_time = 4.839\n",
      "Epoch 2: loss = 20.771 | acc = 0.101 | val_loss = 19.843 | val_acc = 0.101 | train_time = 3.955 | tot_time = 3.993\n",
      "Epoch 3: loss = 17.077 | acc = 0.099 | val_loss = 15.733 | val_acc = 0.098 | train_time = 3.763 | tot_time = 3.804\n",
      "Epoch 4: loss = 17.128 | acc = 0.1 | val_loss = 13.643 | val_acc = 0.103 | train_time = 3.939 | tot_time = 3.977\n",
      "Epoch 5: loss = 17.189 | acc = 0.1 | val_loss = 21.056 | val_acc = 0.097 | train_time = 3.627 | tot_time = 3.666\n",
      "Epoch 6: loss = 16.965 | acc = 0.102 | val_loss = 13.256 | val_acc = 0.101 | train_time = 3.96 | tot_time = 3.998\n",
      "Epoch 7: loss = 18.615 | acc = 0.1 | val_loss = 13.192 | val_acc = 0.114 | train_time = 3.786 | tot_time = 3.828\n",
      "Epoch 8: loss = 19.675 | acc = 0.1 | val_loss = 14.876 | val_acc = 0.101 | train_time = 3.936 | tot_time = 3.969\n",
      "Epoch 9: loss = 21.202 | acc = 0.1 | val_loss = 27.144 | val_acc = 0.101 | train_time = 4.264 | tot_time = 4.298\n",
      "Epoch 10: loss = 21.187 | acc = 0.1 | val_loss = 15.976 | val_acc = 0.103 | train_time = 4.02 | tot_time = 4.057\n",
      "Epoch 11: loss = 21.195 | acc = 0.1 | val_loss = 24.573 | val_acc = 0.103 | train_time = 3.906 | tot_time = 3.947\n",
      "Epoch 12: loss = 21.215 | acc = 0.098 | val_loss = 22.91 | val_acc = 0.098 | train_time = 4.014 | tot_time = 4.052\n",
      "Epoch 13: loss = 21.029 | acc = 0.102 | val_loss = 16.635 | val_acc = 0.103 | train_time = 4.323 | tot_time = 4.365\n",
      "Epoch 14: loss = 21.303 | acc = 0.098 | val_loss = 17.642 | val_acc = 0.114 | train_time = 3.964 | tot_time = 4.0\n",
      "Epoch 15: loss = 21.166 | acc = 0.099 | val_loss = 17.901 | val_acc = 0.103 | train_time = 4.107 | tot_time = 4.15\n",
      "Epoch 16: loss = 17.38 | acc = 0.102 | val_loss = 16.966 | val_acc = 0.089 | train_time = 4.569 | tot_time = 4.607\n",
      "Epoch 17: loss = 17.003 | acc = 0.102 | val_loss = 13.666 | val_acc = 0.098 | train_time = 4.058 | tot_time = 4.09\n",
      "Epoch 18: loss = 17.142 | acc = 0.1 | val_loss = 10.508 | val_acc = 0.098 | train_time = 5.355 | tot_time = 5.402\n",
      "Epoch 19: loss = 17.091 | acc = 0.101 | val_loss = 15.57 | val_acc = 0.103 | train_time = 3.98 | tot_time = 4.018\n",
      "Epoch 20: loss = 20.949 | acc = 0.099 | val_loss = 16.147 | val_acc = 0.096 | train_time = 3.755 | tot_time = 3.786\n"
     ]
    }
   ],
   "source": [
    "# trying to explore impact of different learning rates\n",
    "model = MLP(X_train, Y_train, X_test, Y_test, L=2, N_l=64)\n",
    "model.train(batch_size=8, epochs=20, lr=1)"
   ]
  },
  {
   "cell_type": "markdown",
   "metadata": {},
   "source": [
    " We see this yields very poor performance and the loss also oscillates"
   ]
  },
  {
   "cell_type": "code",
   "execution_count": 272,
   "metadata": {},
   "outputs": [],
   "source": [
    "#setting a range of learning rates and running model.train on them, while recording metrics\n",
    "rates = [ 0.5, 0.4, 0.3, 0.2, 0.16, 0.12, 0.08, 0.04, 0.02, 0.01 ]\n",
    "metrics = list()"
   ]
  },
  {
   "cell_type": "code",
   "execution_count": null,
   "metadata": {},
   "outputs": [
    {
     "name": "stderr",
     "output_type": "stream",
     "text": [
      "/var/folders/9p/4f_fcqf57lx9ck4gqb88rkm80000gn/T/ipykernel_21860/3256340227.py:47: VisibleDeprecationWarning: Creating an ndarray from ragged nested sequences (which is a list-or-tuple of lists-or-tuples-or ndarrays with different lengths or shapes) is deprecated. If you meant to do this, you must specify 'dtype=object' when creating the ndarray.\n",
      "  self.weights = np.asarray(self.weights)\n"
     ]
    },
    {
     "name": "stdout",
     "output_type": "stream",
     "text": [
      "Epoch 1: loss = 0.774 | acc = 0.768 | val_loss = 0.754 | val_acc = 0.793 | train_time = 4.318 | tot_time = 4.361\n",
      "Epoch 2: loss = 0.521 | acc = 0.852 | val_loss = 0.49 | val_acc = 0.861 | train_time = 3.972 | tot_time = 4.027\n",
      "Epoch 3: loss = 0.488 | acc = 0.861 | val_loss = 0.394 | val_acc = 0.888 | train_time = 4.375 | tot_time = 4.42\n",
      "Epoch 4: loss = 0.506 | acc = 0.857 | val_loss = 0.433 | val_acc = 0.881 | train_time = 3.803 | tot_time = 3.854\n",
      "Epoch 5: loss = 0.467 | acc = 0.87 | val_loss = 0.466 | val_acc = 0.876 | train_time = 3.848 | tot_time = 3.889\n",
      "Epoch 6: loss = 0.462 | acc = 0.871 | val_loss = 0.407 | val_acc = 0.891 | train_time = 5.288 | tot_time = 5.347\n",
      "Epoch 7: loss = 0.482 | acc = 0.863 | val_loss = 0.408 | val_acc = 0.886 | train_time = 5.032 | tot_time = 5.069\n",
      "Epoch 8: loss = 0.438 | acc = 0.877 | val_loss = 0.479 | val_acc = 0.87 | train_time = 6.317 | tot_time = 6.37\n",
      "Epoch 9: loss = 0.444 | acc = 0.875 | val_loss = 0.472 | val_acc = 0.87 | train_time = 5.064 | tot_time = 5.109\n",
      "Epoch 10: loss = 0.406 | acc = 0.887 | val_loss = 0.422 | val_acc = 0.882 | train_time = 4.626 | tot_time = 4.675\n"
     ]
    },
    {
     "name": "stderr",
     "output_type": "stream",
     "text": [
      "/var/folders/9p/4f_fcqf57lx9ck4gqb88rkm80000gn/T/ipykernel_21860/329785058.py:17: RuntimeWarning: overflow encountered in exp\n",
      "  result = 1.0 / (1.0 + np.exp(-x))\n"
     ]
    },
    {
     "name": "stdout",
     "output_type": "stream",
     "text": [
      "Epoch 11: loss = 0.405 | acc = 0.887 | val_loss = 0.384 | val_acc = 0.897 | train_time = 5.813 | tot_time = 5.858\n",
      "Epoch 12: loss = 0.39 | acc = 0.892 | val_loss = 0.401 | val_acc = 0.893 | train_time = 4.71 | tot_time = 4.752\n",
      "Epoch 13: loss = 0.393 | acc = 0.893 | val_loss = 0.417 | val_acc = 0.883 | train_time = 3.843 | tot_time = 3.877\n",
      "Epoch 14: loss = 0.407 | acc = 0.889 | val_loss = 0.424 | val_acc = 0.87 | train_time = 3.931 | tot_time = 3.986\n",
      "Epoch 15: loss = 0.372 | acc = 0.895 | val_loss = 0.345 | val_acc = 0.907 | train_time = 4.394 | tot_time = 4.436\n",
      "Epoch 16: loss = 0.373 | acc = 0.899 | val_loss = 0.403 | val_acc = 0.897 | train_time = 3.9 | tot_time = 3.937\n",
      "Epoch 17: loss = 0.401 | acc = 0.886 | val_loss = 0.356 | val_acc = 0.894 | train_time = 4.491 | tot_time = 4.531\n",
      "Epoch 18: loss = 0.347 | acc = 0.905 | val_loss = 0.371 | val_acc = 0.906 | train_time = 4.841 | tot_time = 4.899\n",
      "Epoch 19: loss = 0.353 | acc = 0.902 | val_loss = 0.385 | val_acc = 0.897 | train_time = 4.938 | tot_time = 5.003\n",
      "Epoch 20: loss = 0.373 | acc = 0.896 | val_loss = 0.349 | val_acc = 0.908 | train_time = 4.218 | tot_time = 4.257\n",
      "Epoch 1: loss = 0.649 | acc = 0.817 | val_loss = 0.395 | val_acc = 0.892 | train_time = 5.67 | tot_time = 5.71\n",
      "Epoch 2: loss = 0.406 | acc = 0.884 | val_loss = 0.449 | val_acc = 0.871 | train_time = 4.609 | tot_time = 4.647\n",
      "Epoch 3: loss = 0.352 | acc = 0.9 | val_loss = 0.357 | val_acc = 0.897 | train_time = 5.803 | tot_time = 5.849\n",
      "Epoch 4: loss = 0.322 | acc = 0.91 | val_loss = 0.311 | val_acc = 0.913 | train_time = 5.316 | tot_time = 5.355\n",
      "Epoch 5: loss = 0.304 | acc = 0.915 | val_loss = 0.317 | val_acc = 0.912 | train_time = 4.623 | tot_time = 4.675\n",
      "Epoch 6: loss = 0.29 | acc = 0.918 | val_loss = 0.285 | val_acc = 0.918 | train_time = 5.27 | tot_time = 5.313\n",
      "Epoch 7: loss = 0.304 | acc = 0.915 | val_loss = 0.31 | val_acc = 0.91 | train_time = 5.543 | tot_time = 5.591\n",
      "Epoch 8: loss = 0.297 | acc = 0.917 | val_loss = 0.261 | val_acc = 0.929 | train_time = 5.273 | tot_time = 5.314\n",
      "Epoch 9: loss = 0.289 | acc = 0.92 | val_loss = 0.301 | val_acc = 0.914 | train_time = 5.307 | tot_time = 5.351\n",
      "Epoch 10: loss = 0.27 | acc = 0.924 | val_loss = 0.266 | val_acc = 0.929 | train_time = 3.835 | tot_time = 3.871\n",
      "Epoch 11: loss = 0.257 | acc = 0.928 | val_loss = 0.233 | val_acc = 0.934 | train_time = 4.069 | tot_time = 4.123\n",
      "Epoch 12: loss = 0.249 | acc = 0.93 | val_loss = 0.239 | val_acc = 0.936 | train_time = 3.893 | tot_time = 3.931\n",
      "Epoch 13: loss = 0.244 | acc = 0.93 | val_loss = 0.261 | val_acc = 0.93 | train_time = 4.094 | tot_time = 4.132\n",
      "Epoch 14: loss = 0.247 | acc = 0.93 | val_loss = 0.227 | val_acc = 0.936 | train_time = 3.891 | tot_time = 3.933\n",
      "Epoch 15: loss = 0.248 | acc = 0.93 | val_loss = 0.255 | val_acc = 0.93 | train_time = 3.87 | tot_time = 3.922\n",
      "Epoch 16: loss = 0.24 | acc = 0.932 | val_loss = 0.266 | val_acc = 0.928 | train_time = 3.954 | tot_time = 3.993\n",
      "Epoch 17: loss = 0.241 | acc = 0.933 | val_loss = 0.222 | val_acc = 0.935 | train_time = 4.183 | tot_time = 4.22\n",
      "Epoch 18: loss = 0.235 | acc = 0.934 | val_loss = 0.245 | val_acc = 0.932 | train_time = 3.839 | tot_time = 3.875\n",
      "Epoch 19: loss = 0.226 | acc = 0.937 | val_loss = 0.229 | val_acc = 0.936 | train_time = 3.795 | tot_time = 3.842\n",
      "Epoch 20: loss = 0.23 | acc = 0.935 | val_loss = 0.232 | val_acc = 0.935 | train_time = 3.78 | tot_time = 3.82\n",
      "Epoch 1: loss = 0.439 | acc = 0.87 | val_loss = 0.283 | val_acc = 0.907 | train_time = 3.707 | tot_time = 3.743\n",
      "Epoch 2: loss = 0.273 | acc = 0.92 | val_loss = 0.277 | val_acc = 0.919 | train_time = 3.938 | tot_time = 3.984\n",
      "Epoch 3: loss = 0.245 | acc = 0.927 | val_loss = 0.245 | val_acc = 0.931 | train_time = 3.982 | tot_time = 4.016\n",
      "Epoch 4: loss = 0.239 | acc = 0.93 | val_loss = 0.227 | val_acc = 0.937 | train_time = 4.722 | tot_time = 4.761\n",
      "Epoch 5: loss = 0.223 | acc = 0.936 | val_loss = 0.207 | val_acc = 0.939 | train_time = 3.814 | tot_time = 3.856\n",
      "Epoch 6: loss = 0.214 | acc = 0.937 | val_loss = 0.224 | val_acc = 0.933 | train_time = 3.898 | tot_time = 3.971\n",
      "Epoch 7: loss = 0.196 | acc = 0.943 | val_loss = 0.187 | val_acc = 0.95 | train_time = 3.89 | tot_time = 3.931\n",
      "Epoch 8: loss = 0.192 | acc = 0.944 | val_loss = 0.213 | val_acc = 0.937 | train_time = 5.754 | tot_time = 5.794\n",
      "Epoch 9: loss = 0.187 | acc = 0.946 | val_loss = 0.196 | val_acc = 0.944 | train_time = 4.827 | tot_time = 4.865\n",
      "Epoch 10: loss = 0.184 | acc = 0.946 | val_loss = 0.209 | val_acc = 0.942 | train_time = 5.069 | tot_time = 5.109\n",
      "Epoch 11: loss = 0.172 | acc = 0.95 | val_loss = 0.196 | val_acc = 0.942 | train_time = 3.938 | tot_time = 3.976\n",
      "Epoch 12: loss = 0.174 | acc = 0.95 | val_loss = 0.189 | val_acc = 0.948 | train_time = 4.077 | tot_time = 4.115\n",
      "Epoch 13: loss = 0.167 | acc = 0.951 | val_loss = 0.182 | val_acc = 0.949 | train_time = 4.004 | tot_time = 4.044\n",
      "Epoch 14: loss = 0.167 | acc = 0.951 | val_loss = 0.218 | val_acc = 0.937 | train_time = 3.919 | tot_time = 3.954\n",
      "Epoch 15: loss = 0.166 | acc = 0.952 | val_loss = 0.222 | val_acc = 0.934 | train_time = 4.408 | tot_time = 4.445\n",
      "Epoch 16: loss = 0.16 | acc = 0.953 | val_loss = 0.18 | val_acc = 0.949 | train_time = 3.991 | tot_time = 4.039\n",
      "Epoch 17: loss = 0.151 | acc = 0.956 | val_loss = 0.175 | val_acc = 0.951 | train_time = 3.92 | tot_time = 3.98\n",
      "Epoch 18: loss = 0.141 | acc = 0.959 | val_loss = 0.172 | val_acc = 0.951 | train_time = 3.938 | tot_time = 3.977\n",
      "Epoch 19: loss = 0.149 | acc = 0.957 | val_loss = 0.184 | val_acc = 0.95 | train_time = 4.253 | tot_time = 4.29\n",
      "Epoch 20: loss = 0.153 | acc = 0.955 | val_loss = 0.185 | val_acc = 0.95 | train_time = 4.319 | tot_time = 4.362\n",
      "Epoch 1: loss = 0.361 | acc = 0.892 | val_loss = 0.216 | val_acc = 0.935 | train_time = 6.27 | tot_time = 6.317\n",
      "Epoch 2: loss = 0.211 | acc = 0.936 | val_loss = 0.207 | val_acc = 0.939 | train_time = 5.785 | tot_time = 5.824\n",
      "Epoch 3: loss = 0.175 | acc = 0.948 | val_loss = 0.175 | val_acc = 0.949 | train_time = 4.193 | tot_time = 4.231\n",
      "Epoch 4: loss = 0.161 | acc = 0.952 | val_loss = 0.188 | val_acc = 0.946 | train_time = 5.491 | tot_time = 5.536\n",
      "Epoch 5: loss = 0.151 | acc = 0.954 | val_loss = 0.149 | val_acc = 0.955 | train_time = 6.591 | tot_time = 6.629\n",
      "Epoch 6: loss = 0.132 | acc = 0.96 | val_loss = 0.168 | val_acc = 0.953 | train_time = 8.442 | tot_time = 8.493\n",
      "Epoch 7: loss = 0.132 | acc = 0.962 | val_loss = 0.144 | val_acc = 0.956 | train_time = 6.416 | tot_time = 6.454\n",
      "Epoch 8: loss = 0.127 | acc = 0.962 | val_loss = 0.16 | val_acc = 0.953 | train_time = 5.659 | tot_time = 5.699\n",
      "Epoch 9: loss = 0.118 | acc = 0.964 | val_loss = 0.159 | val_acc = 0.955 | train_time = 4.273 | tot_time = 4.31\n",
      "Epoch 10: loss = 0.114 | acc = 0.965 | val_loss = 0.139 | val_acc = 0.96 | train_time = 4.46 | tot_time = 4.515\n",
      "Epoch 11: loss = 0.105 | acc = 0.968 | val_loss = 0.134 | val_acc = 0.961 | train_time = 4.85 | tot_time = 4.888\n",
      "Epoch 12: loss = 0.114 | acc = 0.965 | val_loss = 0.154 | val_acc = 0.957 | train_time = 5.092 | tot_time = 5.147\n",
      "Epoch 13: loss = 0.101 | acc = 0.969 | val_loss = 0.139 | val_acc = 0.962 | train_time = 4.452 | tot_time = 4.486\n",
      "Epoch 14: loss = 0.103 | acc = 0.968 | val_loss = 0.163 | val_acc = 0.952 | train_time = 5.007 | tot_time = 5.044\n",
      "Epoch 15: loss = 0.098 | acc = 0.971 | val_loss = 0.137 | val_acc = 0.962 | train_time = 6.129 | tot_time = 6.174\n",
      "Epoch 16: loss = 0.087 | acc = 0.974 | val_loss = 0.147 | val_acc = 0.96 | train_time = 4.613 | tot_time = 4.645\n",
      "Epoch 17: loss = 0.094 | acc = 0.971 | val_loss = 0.127 | val_acc = 0.964 | train_time = 6.169 | tot_time = 6.213\n",
      "Epoch 18: loss = 0.086 | acc = 0.974 | val_loss = 0.148 | val_acc = 0.96 | train_time = 5.543 | tot_time = 5.594\n",
      "Epoch 19: loss = 0.089 | acc = 0.972 | val_loss = 0.14 | val_acc = 0.963 | train_time = 4.184 | tot_time = 4.224\n",
      "Epoch 20: loss = 0.085 | acc = 0.974 | val_loss = 0.13 | val_acc = 0.963 | train_time = 4.842 | tot_time = 4.876\n",
      "Epoch 1: loss = 0.34 | acc = 0.897 | val_loss = 0.215 | val_acc = 0.935 | train_time = 5.403 | tot_time = 5.446\n",
      "Epoch 2: loss = 0.187 | acc = 0.944 | val_loss = 0.186 | val_acc = 0.946 | train_time = 6.493 | tot_time = 6.53\n",
      "Epoch 3: loss = 0.154 | acc = 0.954 | val_loss = 0.179 | val_acc = 0.949 | train_time = 5.264 | tot_time = 5.302\n"
     ]
    },
    {
     "name": "stdout",
     "output_type": "stream",
     "text": [
      "Epoch 4: loss = 0.136 | acc = 0.958 | val_loss = 0.148 | val_acc = 0.96 | train_time = 4.692 | tot_time = 4.729\n",
      "Epoch 5: loss = 0.128 | acc = 0.961 | val_loss = 0.151 | val_acc = 0.957 | train_time = 5.333 | tot_time = 5.372\n",
      "Epoch 6: loss = 0.116 | acc = 0.964 | val_loss = 0.137 | val_acc = 0.96 | train_time = 7.602 | tot_time = 7.648\n",
      "Epoch 7: loss = 0.106 | acc = 0.967 | val_loss = 0.142 | val_acc = 0.96 | train_time = 9.256 | tot_time = 9.302\n",
      "Epoch 8: loss = 0.106 | acc = 0.967 | val_loss = 0.137 | val_acc = 0.961 | train_time = 6.672 | tot_time = 6.713\n",
      "Epoch 9: loss = 0.098 | acc = 0.97 | val_loss = 0.135 | val_acc = 0.962 | train_time = 6.207 | tot_time = 6.245\n",
      "Epoch 10: loss = 0.087 | acc = 0.974 | val_loss = 0.14 | val_acc = 0.962 | train_time = 5.548 | tot_time = 5.601\n",
      "Epoch 11: loss = 0.086 | acc = 0.974 | val_loss = 0.148 | val_acc = 0.96 | train_time = 5.431 | tot_time = 5.47\n",
      "Epoch 12: loss = 0.079 | acc = 0.975 | val_loss = 0.138 | val_acc = 0.963 | train_time = 5.466 | tot_time = 5.506\n",
      "Epoch 13: loss = 0.077 | acc = 0.976 | val_loss = 0.137 | val_acc = 0.963 | train_time = 5.314 | tot_time = 5.358\n",
      "Epoch 14: loss = 0.075 | acc = 0.977 | val_loss = 0.121 | val_acc = 0.968 | train_time = 6.002 | tot_time = 6.096\n",
      "Epoch 15: loss = 0.073 | acc = 0.977 | val_loss = 0.161 | val_acc = 0.961 | train_time = 5.104 | tot_time = 5.142\n",
      "Epoch 16: loss = 0.073 | acc = 0.977 | val_loss = 0.126 | val_acc = 0.965 | train_time = 6.573 | tot_time = 6.611\n",
      "Epoch 17: loss = 0.068 | acc = 0.979 | val_loss = 0.134 | val_acc = 0.965 | train_time = 5.685 | tot_time = 5.747\n",
      "Epoch 18: loss = 0.063 | acc = 0.98 | val_loss = 0.146 | val_acc = 0.961 | train_time = 4.503 | tot_time = 4.544\n",
      "Epoch 19: loss = 0.064 | acc = 0.98 | val_loss = 0.137 | val_acc = 0.963 | train_time = 4.685 | tot_time = 4.725\n",
      "Epoch 20: loss = 0.063 | acc = 0.98 | val_loss = 0.131 | val_acc = 0.966 | train_time = 4.649 | tot_time = 4.69\n",
      "Epoch 1: loss = 0.306 | acc = 0.908 | val_loss = 0.203 | val_acc = 0.938 | train_time = 4.506 | tot_time = 4.556\n",
      "Epoch 2: loss = 0.169 | acc = 0.949 | val_loss = 0.155 | val_acc = 0.954 | train_time = 5.277 | tot_time = 5.315\n",
      "Epoch 3: loss = 0.139 | acc = 0.957 | val_loss = 0.158 | val_acc = 0.949 | train_time = 4.221 | tot_time = 4.26\n",
      "Epoch 4: loss = 0.12 | acc = 0.963 | val_loss = 0.136 | val_acc = 0.959 | train_time = 5.095 | tot_time = 5.135\n",
      "Epoch 5: loss = 0.108 | acc = 0.967 | val_loss = 0.146 | val_acc = 0.957 | train_time = 5.421 | tot_time = 5.46\n",
      "Epoch 6: loss = 0.096 | acc = 0.97 | val_loss = 0.125 | val_acc = 0.963 | train_time = 7.006 | tot_time = 7.041\n",
      "Epoch 7: loss = 0.087 | acc = 0.974 | val_loss = 0.134 | val_acc = 0.96 | train_time = 6.581 | tot_time = 6.639\n",
      "Epoch 8: loss = 0.084 | acc = 0.974 | val_loss = 0.143 | val_acc = 0.958 | train_time = 4.653 | tot_time = 4.691\n",
      "Epoch 9: loss = 0.076 | acc = 0.976 | val_loss = 0.132 | val_acc = 0.964 | train_time = 5.278 | tot_time = 5.323\n",
      "Epoch 10: loss = 0.072 | acc = 0.977 | val_loss = 0.141 | val_acc = 0.96 | train_time = 4.866 | tot_time = 4.908\n",
      "Epoch 11: loss = 0.069 | acc = 0.978 | val_loss = 0.126 | val_acc = 0.964 | train_time = 5.464 | tot_time = 5.516\n",
      "Epoch 12: loss = 0.063 | acc = 0.98 | val_loss = 0.133 | val_acc = 0.965 | train_time = 4.815 | tot_time = 4.862\n",
      "Epoch 13: loss = 0.061 | acc = 0.981 | val_loss = 0.127 | val_acc = 0.965 | train_time = 4.514 | tot_time = 4.549\n",
      "Epoch 14: loss = 0.057 | acc = 0.982 | val_loss = 0.121 | val_acc = 0.967 | train_time = 5.097 | tot_time = 5.134\n",
      "Epoch 15: loss = 0.054 | acc = 0.983 | val_loss = 0.133 | val_acc = 0.965 | train_time = 5.437 | tot_time = 5.482\n",
      "Epoch 16: loss = 0.057 | acc = 0.981 | val_loss = 0.132 | val_acc = 0.963 | train_time = 4.485 | tot_time = 4.523\n",
      "Epoch 17: loss = 0.057 | acc = 0.982 | val_loss = 0.133 | val_acc = 0.966 | train_time = 4.817 | tot_time = 4.859\n",
      "Epoch 18: loss = 0.053 | acc = 0.983 | val_loss = 0.118 | val_acc = 0.969 | train_time = 5.549 | tot_time = 5.592\n",
      "Epoch 19: loss = 0.048 | acc = 0.984 | val_loss = 0.138 | val_acc = 0.966 | train_time = 4.563 | tot_time = 4.607\n",
      "Epoch 20: loss = 0.044 | acc = 0.986 | val_loss = 0.125 | val_acc = 0.967 | train_time = 4.51 | tot_time = 4.553\n",
      "Epoch 1: loss = 0.302 | acc = 0.907 | val_loss = 0.18 | val_acc = 0.945 | train_time = 4.406 | tot_time = 4.45\n",
      "Epoch 2: loss = 0.152 | acc = 0.953 | val_loss = 0.145 | val_acc = 0.954 | train_time = 6.154 | tot_time = 6.192\n",
      "Epoch 3: loss = 0.118 | acc = 0.964 | val_loss = 0.125 | val_acc = 0.963 | train_time = 5.529 | tot_time = 5.568\n",
      "Epoch 4: loss = 0.096 | acc = 0.97 | val_loss = 0.122 | val_acc = 0.963 | train_time = 4.395 | tot_time = 4.436\n",
      "Epoch 5: loss = 0.081 | acc = 0.974 | val_loss = 0.123 | val_acc = 0.964 | train_time = 4.335 | tot_time = 4.376\n",
      "Epoch 6: loss = 0.073 | acc = 0.976 | val_loss = 0.123 | val_acc = 0.964 | train_time = 4.449 | tot_time = 4.488\n",
      "Epoch 7: loss = 0.066 | acc = 0.979 | val_loss = 0.112 | val_acc = 0.969 | train_time = 5.132 | tot_time = 5.181\n",
      "Epoch 8: loss = 0.056 | acc = 0.982 | val_loss = 0.115 | val_acc = 0.969 | train_time = 5.519 | tot_time = 5.562\n",
      "Epoch 9: loss = 0.05 | acc = 0.983 | val_loss = 0.115 | val_acc = 0.97 | train_time = 5.358 | tot_time = 5.413\n",
      "Epoch 10: loss = 0.048 | acc = 0.984 | val_loss = 0.106 | val_acc = 0.971 | train_time = 5.61 | tot_time = 5.666\n",
      "Epoch 11: loss = 0.042 | acc = 0.987 | val_loss = 0.103 | val_acc = 0.973 | train_time = 5.876 | tot_time = 5.918\n",
      "Epoch 12: loss = 0.037 | acc = 0.988 | val_loss = 0.119 | val_acc = 0.968 | train_time = 4.886 | tot_time = 4.925\n",
      "Epoch 13: loss = 0.035 | acc = 0.988 | val_loss = 0.116 | val_acc = 0.97 | train_time = 4.822 | tot_time = 4.864\n",
      "Epoch 14: loss = 0.031 | acc = 0.99 | val_loss = 0.106 | val_acc = 0.976 | train_time = 5.284 | tot_time = 5.334\n",
      "Epoch 15: loss = 0.029 | acc = 0.99 | val_loss = 0.122 | val_acc = 0.968 | train_time = 10.218 | tot_time = 10.262\n",
      "Epoch 16: loss = 0.026 | acc = 0.991 | val_loss = 0.117 | val_acc = 0.972 | train_time = 9.147 | tot_time = 9.203\n",
      "Epoch 17: loss = 0.024 | acc = 0.992 | val_loss = 0.121 | val_acc = 0.971 | train_time = 6.061 | tot_time = 6.109\n",
      "Epoch 18: loss = 0.021 | acc = 0.993 | val_loss = 0.154 | val_acc = 0.964 | train_time = 5.815 | tot_time = 5.865\n",
      "Epoch 19: loss = 0.022 | acc = 0.993 | val_loss = 0.123 | val_acc = 0.972 | train_time = 4.341 | tot_time = 4.39\n",
      "Epoch 20: loss = 0.021 | acc = 0.993 | val_loss = 0.123 | val_acc = 0.972 | train_time = 3.992 | tot_time = 4.032\n",
      "Epoch 1: loss = 0.341 | acc = 0.896 | val_loss = 0.199 | val_acc = 0.936 | train_time = 4.408 | tot_time = 4.456\n",
      "Epoch 2: loss = 0.164 | acc = 0.949 | val_loss = 0.161 | val_acc = 0.951 | train_time = 5.168 | tot_time = 5.216\n",
      "Epoch 3: loss = 0.123 | acc = 0.962 | val_loss = 0.145 | val_acc = 0.956 | train_time = 4.415 | tot_time = 4.453\n",
      "Epoch 4: loss = 0.099 | acc = 0.969 | val_loss = 0.127 | val_acc = 0.961 | train_time = 4.475 | tot_time = 4.514\n",
      "Epoch 5: loss = 0.084 | acc = 0.973 | val_loss = 0.131 | val_acc = 0.959 | train_time = 4.755 | tot_time = 4.795\n",
      "Epoch 6: loss = 0.07 | acc = 0.978 | val_loss = 0.113 | val_acc = 0.966 | train_time = 5.01 | tot_time = 5.05\n",
      "Epoch 7: loss = 0.059 | acc = 0.981 | val_loss = 0.114 | val_acc = 0.965 | train_time = 5.33 | tot_time = 5.372\n",
      "Epoch 8: loss = 0.052 | acc = 0.983 | val_loss = 0.112 | val_acc = 0.966 | train_time = 7.51 | tot_time = 7.551\n",
      "Epoch 9: loss = 0.045 | acc = 0.986 | val_loss = 0.111 | val_acc = 0.967 | train_time = 5.314 | tot_time = 5.353\n",
      "Epoch 10: loss = 0.039 | acc = 0.987 | val_loss = 0.117 | val_acc = 0.966 | train_time = 5.631 | tot_time = 5.674\n",
      "Epoch 11: loss = 0.034 | acc = 0.989 | val_loss = 0.112 | val_acc = 0.969 | train_time = 7.003 | tot_time = 7.047\n",
      "Epoch 12: loss = 0.029 | acc = 0.991 | val_loss = 0.128 | val_acc = 0.966 | train_time = 5.952 | tot_time = 5.991\n",
      "Epoch 13: loss = 0.025 | acc = 0.992 | val_loss = 0.125 | val_acc = 0.966 | train_time = 6.718 | tot_time = 6.777\n",
      "Epoch 14: loss = 0.022 | acc = 0.994 | val_loss = 0.111 | val_acc = 0.97 | train_time = 4.477 | tot_time = 4.52\n",
      "Epoch 15: loss = 0.018 | acc = 0.995 | val_loss = 0.117 | val_acc = 0.968 | train_time = 5.321 | tot_time = 5.364\n",
      "Epoch 16: loss = 0.016 | acc = 0.995 | val_loss = 0.134 | val_acc = 0.965 | train_time = 4.476 | tot_time = 4.53\n"
     ]
    },
    {
     "name": "stdout",
     "output_type": "stream",
     "text": [
      "Epoch 17: loss = 0.013 | acc = 0.996 | val_loss = 0.123 | val_acc = 0.97 | train_time = 6.741 | tot_time = 6.785\n",
      "Epoch 18: loss = 0.01 | acc = 0.997 | val_loss = 0.122 | val_acc = 0.968 | train_time = 6.663 | tot_time = 6.718\n",
      "Epoch 19: loss = 0.009 | acc = 0.998 | val_loss = 0.123 | val_acc = 0.97 | train_time = 5.827 | tot_time = 5.878\n",
      "Epoch 20: loss = 0.007 | acc = 0.998 | val_loss = 0.123 | val_acc = 0.97 | train_time = 6.166 | tot_time = 6.212\n"
     ]
    }
   ],
   "source": [
    "\n",
    "for lr in rates:\n",
    "    model = MLP(X_train, Y_train, X_test, Y_test, L=2, N_l=64)\n",
    "    model.train(batch_size=8, epochs=20, lr=lr)\n",
    "    metrics.append(model.metrics)\n",
    "    model = None"
   ]
  },
  {
   "cell_type": "markdown",
   "metadata": {},
   "source": [
    "We can see from the above output that as the learning rate decreases, the loss decreases, training accuracy increases, while there isn't any noticeable trend on the training time. \n",
    "\n",
    "This suggests a better convergence for smaller learning rates as expected."
   ]
  },
  {
   "cell_type": "code",
   "execution_count": null,
   "metadata": {},
   "outputs": [],
   "source": []
  },
  {
   "cell_type": "code",
   "execution_count": null,
   "metadata": {},
   "outputs": [],
   "source": []
  }
 ],
 "metadata": {
  "colab": {
   "collapsed_sections": [
    "oLeZHcOVBp4U"
   ],
   "name": "CS5242_HW2.ipynb",
   "provenance": []
  },
  "kernelspec": {
   "display_name": "Python 3 (ipykernel)",
   "language": "python",
   "name": "python3"
  },
  "language_info": {
   "codemirror_mode": {
    "name": "ipython",
    "version": 3
   },
   "file_extension": ".py",
   "mimetype": "text/x-python",
   "name": "python",
   "nbconvert_exporter": "python",
   "pygments_lexer": "ipython3",
   "version": "3.10.6"
  }
 },
 "nbformat": 4,
 "nbformat_minor": 1
}
