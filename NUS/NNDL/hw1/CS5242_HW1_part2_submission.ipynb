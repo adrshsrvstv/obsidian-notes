{
 "cells": [
  {
   "cell_type": "markdown",
   "metadata": {
    "id": "IjOZXM4o8ARu"
   },
   "source": [
    "# CS5242 HW1: Get started with PyTorch\n",
    "\n",
    "PyTorch is an open source machine learning framework with 58k stars on the [github](https://github.com/pytorch/pytorch). In this code tutorial we will learn the basic of PyTorch.\n",
    "\n",
    "Colab is a hosted Jupyter notebook service that requires no setup to use, while providing access free of charge to computing resources including GPUs. In this semester, we will use Colab to run our experiments."
   ]
  },
  {
   "cell_type": "markdown",
   "metadata": {
    "id": "cjW6lJ2Q81N4"
   },
   "source": [
    "## Section 1: Environmental Setup\n",
    "\n",
    "First, we need to install the PyTorch and check the pytorch version."
   ]
  },
  {
   "cell_type": "code",
   "execution_count": 2,
   "metadata": {
    "colab": {
     "base_uri": "https://localhost:8080/",
     "height": 37
    },
    "id": "QV9aoa5Q0OiH",
    "outputId": "ed4ce1dc-3de8-4d09-8f2b-abfbeedd75f6"
   },
   "outputs": [
    {
     "data": {
      "application/vnd.google.colaboratory.intrinsic+json": {
       "type": "string"
      },
      "text/plain": [
       "'1.12.1+cu113'"
      ]
     },
     "execution_count": 2,
     "metadata": {},
     "output_type": "execute_result"
    }
   ],
   "source": [
    "import torch\n",
    "torch.__version__"
   ]
  },
  {
   "cell_type": "markdown",
   "metadata": {
    "id": "tT09jYu-9ecO"
   },
   "source": [
    "Here are some routines for importing and setting up torch."
   ]
  },
  {
   "cell_type": "code",
   "execution_count": 3,
   "metadata": {
    "colab": {
     "base_uri": "https://localhost:8080/"
    },
    "id": "oMPTE7J01v-p",
    "outputId": "d5b755aa-7264-4071-e2f0-5e53bf505ae9"
   },
   "outputs": [
    {
     "data": {
      "text/plain": [
       "<torch._C.Generator at 0x7fec7f3604d0>"
      ]
     },
     "execution_count": 3,
     "metadata": {},
     "output_type": "execute_result"
    }
   ],
   "source": [
    "# frequently used import\n",
    "import torch\n",
    "import torch.nn as nn\n",
    "import torch.nn.functional as F\n",
    "import numpy as np\n",
    "import random\n",
    "import matplotlib.pyplot as plt\n",
    "\n",
    "# fix the random number so that the experiments are reproducible\n",
    "random.seed(0)\n",
    "np.random.seed(0)\n",
    "torch.manual_seed(0)"
   ]
  },
  {
   "cell_type": "markdown",
   "metadata": {
    "id": "TeVi4BmJ-cI-"
   },
   "source": [
    "The best referrence for pytorch is its [document](https://pytorch.org/docs/stable/index.html). PyTorch is well-known for a good community.\n",
    "\n",
    "Now let's setup the GPU environment. The colab provides a free GPU to use. Do as follows:\n",
    "\n",
    "- Runtime -> Change Runtime Type -> select `GPU` in Hardware accelerator\n",
    "- Click `connect` on the top-right\n",
    "\n",
    "After connecting to one GPU, you can check its status using `nvidia-smi` command."
   ]
  },
  {
   "cell_type": "code",
   "execution_count": 4,
   "metadata": {
    "colab": {
     "base_uri": "https://localhost:8080/"
    },
    "id": "Zd4WVQP6-Anp",
    "outputId": "cb461c25-d7e9-4456-a91a-407d81f177c4"
   },
   "outputs": [
    {
     "name": "stdout",
     "output_type": "stream",
     "text": [
      "Sun Aug 28 15:25:23 2022       \n",
      "+-----------------------------------------------------------------------------+\n",
      "| NVIDIA-SMI 460.32.03    Driver Version: 460.32.03    CUDA Version: 11.2     |\n",
      "|-------------------------------+----------------------+----------------------+\n",
      "| GPU  Name        Persistence-M| Bus-Id        Disp.A | Volatile Uncorr. ECC |\n",
      "| Fan  Temp  Perf  Pwr:Usage/Cap|         Memory-Usage | GPU-Util  Compute M. |\n",
      "|                               |                      |               MIG M. |\n",
      "|===============================+======================+======================|\n",
      "|   0  Tesla T4            Off  | 00000000:00:04.0 Off |                    0 |\n",
      "| N/A   47C    P8    10W /  70W |      0MiB / 15109MiB |      0%      Default |\n",
      "|                               |                      |                  N/A |\n",
      "+-------------------------------+----------------------+----------------------+\n",
      "                                                                               \n",
      "+-----------------------------------------------------------------------------+\n",
      "| Processes:                                                                  |\n",
      "|  GPU   GI   CI        PID   Type   Process name                  GPU Memory |\n",
      "|        ID   ID                                                   Usage      |\n",
      "|=============================================================================|\n",
      "|  No running processes found                                                 |\n",
      "+-----------------------------------------------------------------------------+\n"
     ]
    }
   ],
   "source": [
    "!nvidia-smi"
   ]
  },
  {
   "cell_type": "markdown",
   "metadata": {
    "id": "nVKG11x__bwn"
   },
   "source": [
    "Here, you can see the memory and memory usage of the applied GPU. For my case, the applied one is a Tesla T4. The GPU applied may be different, but it is ok for our experiments.\n",
    "\n",
    "Now let's create tensor, which is the basic element in PyTorch."
   ]
  },
  {
   "cell_type": "code",
   "execution_count": 5,
   "metadata": {
    "colab": {
     "base_uri": "https://localhost:8080/"
    },
    "id": "fh8esjGD_Zgk",
    "outputId": "3416afe9-6886-4b21-cd13-5040e82e1751"
   },
   "outputs": [
    {
     "name": "stdout",
     "output_type": "stream",
     "text": [
      "x1: tensor(1.)\n",
      "x2: tensor(1., device='cuda:0')\n",
      "x3: tensor(1., device='cuda:0', grad_fn=<ToCopyBackward0>)\n"
     ]
    }
   ],
   "source": [
    "x1 = torch.tensor(1.0) # tensor on CPU\n",
    "x2 = torch.tensor(1.0, device=\"cuda:0\") # tensor on GPU\n",
    "x3 = torch.tensor(1.0, requires_grad=True).cuda() # tensor on GPU and require grad\n",
    "print(\"x1:\", x1)\n",
    "print(\"x2:\", x2)\n",
    "print(\"x3:\", x3)"
   ]
  },
  {
   "cell_type": "markdown",
   "metadata": {
    "id": "NjwOgo_9Iw7N"
   },
   "source": [
    "In the following sections, you need to fill in the code to complete the function and answer the questions.\n",
    "\n",
    "The question will be in the form:\n",
    "\n",
    "===> Question: What is deep learning?  \n",
    "===> Answer:  \n",
    "Your answer here.\n",
    "\n",
    "The code completion will be in the form:"
   ]
  },
  {
   "cell_type": "code",
   "execution_count": 7,
   "metadata": {
    "id": "YfUaeMpxJTXD"
   },
   "outputs": [],
   "source": [
    "# === Complete the code\n",
    "\n",
    "# === Complete the code"
   ]
  },
  {
   "cell_type": "markdown",
   "metadata": {
    "id": "eiVo1YcIkhE8"
   },
   "source": [
    "Grades: HW1 is composed of two parts and 10 points in all. Each part contains 5 points.  \n",
    "\n",
    "The homework on PDF consists of 10 questions, each is worth 0.5 points. You can write the answer by LaTeX, word or handwritting (take photo) and submit to the system.  \n",
    "\n",
    "The homework here on notebook (colab) consists of several code completions and 5 questions. There are 18 units for code completions (one unit for one line, which is also a hint). And there are 12 units for questions. 30 units in total will share the 5 points. For submission, you need to submit the notebook with output.\n",
    "\n",
    "15% off per day late (17:01 is the start of one day)​\n",
    "\n",
    "0 score if you submit it 7 days after the deadline​\n",
    "\n",
    "Deadline for homework on PDF: 17:00, 22 Aug  \n",
    "Deadline for homework on Notebook: 17:00, 30 Aug"
   ]
  },
  {
   "cell_type": "markdown",
   "metadata": {
    "id": "aQQbaMIPBX_r"
   },
   "source": [
    "## Section 2: Basic Usage"
   ]
  },
  {
   "cell_type": "code",
   "execution_count": 16,
   "metadata": {
    "colab": {
     "base_uri": "https://localhost:8080/"
    },
    "id": "nMrDE_L6Afkx",
    "outputId": "f4b7bb45-b23a-471e-d1f3-9aa38f60f4ba"
   },
   "outputs": [
    {
     "name": "stdout",
     "output_type": "stream",
     "text": [
      "tensor(4.)\n",
      "tensor(2.)\n",
      "tensor(2.)\n"
     ]
    }
   ],
   "source": [
    "# 2.1: Use autograd to calculate gradients\n",
    "\n",
    "# Create tensors.\n",
    "x = torch.tensor(1., requires_grad=True)\n",
    "w = torch.tensor(2., requires_grad=True)\n",
    "b = torch.tensor(3., requires_grad=True)\n",
    "y = torch.tensor(4.)\n",
    "\n",
    "# Build a computational graph.\n",
    "pred = w * x + b\n",
    "L = (pred - y)**2\n",
    "# Compute gradients.\n",
    "# === Complete the code (1')\n",
    "L.backward()\n",
    "# === Complete the code\n",
    "\n",
    "# Print out the gradients.\n",
    "print(x.grad)\n",
    "print(w.grad)\n",
    "print(b.grad)"
   ]
  },
  {
   "cell_type": "markdown",
   "metadata": {
    "id": "ZhnZkwPcJ-EU"
   },
   "source": [
    "===> Question 1: Compute the above gradients on your own and show the result from PyTorch is correct. (2')  \n",
    "===> Answer:\n",
    "\n",
    "\n",
    "```\n",
    "dL/dx = 2(pred-y)w= 2*1*2 = 4\n",
    "dL/dw = 2(pred-y)x = 2*1*1 = 2\n",
    "dL/db = 2(pred-y) = 2*1 = 2\n",
    "```\n",
    "\n"
   ]
  },
  {
   "cell_type": "code",
   "execution_count": 17,
   "metadata": {
    "colab": {
     "base_uri": "https://localhost:8080/"
    },
    "id": "yfGXyGNRIfzk",
    "outputId": "8cad0b2b-0c2e-43b8-880c-a9432a10234a"
   },
   "outputs": [
    {
     "name": "stdout",
     "output_type": "stream",
     "text": [
      "tensor(1.9800, requires_grad=True)\n",
      "tensor(2.9800, requires_grad=True)\n",
      "tensor(0.9216, grad_fn=<PowBackward0>)\n"
     ]
    }
   ],
   "source": [
    "# 2.2 update parameters by gradient descent\n",
    "\n",
    "# we want to update parameters w and b\n",
    "lr = 0.01\n",
    "\n",
    "# 1-step gradient descent\n",
    "# === Complete the code (2')\n",
    "with torch.no_grad():\n",
    "  w-=lr*w.grad\n",
    "  b-=lr*b.grad\n",
    "# === Complete the code\n",
    "\n",
    "# current loss\n",
    "pred = w * x + b\n",
    "L = (pred - y)**2\n",
    "\n",
    "print(w)\n",
    "print(b)\n",
    "print(L)"
   ]
  },
  {
   "cell_type": "code",
   "execution_count": 18,
   "metadata": {
    "colab": {
     "base_uri": "https://localhost:8080/"
    },
    "id": "BhtTMooZK5gU",
    "outputId": "d16c641e-0abc-4bc2-d37a-228550ec520d"
   },
   "outputs": [
    {
     "name": "stdout",
     "output_type": "stream",
     "text": [
      "tensor(1.8914, requires_grad=True)\n",
      "tensor(2.8914, requires_grad=True)\n",
      "tensor(0.6648, grad_fn=<PowBackward0>)\n"
     ]
    }
   ],
   "source": [
    "# 2.3 update parameters by optimizer\n",
    "\n",
    "# Use SGD optimizer\n",
    "optimizer = torch.optim.SGD([w, b], lr=0.01)\n",
    "\n",
    "# 5-step gradient descent.\n",
    "for t in range(5):\n",
    "  pred = w * x + b\n",
    "  L = (pred - y)**2\n",
    "  optimizer.zero_grad()\n",
    "  # === Complete the code (2')\n",
    "  L.backward()\n",
    "  optimizer.step()\n",
    "\n",
    "  # === Complete the code\n",
    "\n",
    "print(w)\n",
    "print(b)\n",
    "print(L)"
   ]
  },
  {
   "cell_type": "markdown",
   "metadata": {
    "id": "26UwTeMmNZ1v"
   },
   "source": [
    "===> Question 2: Why do we need `optimizer.zero_grad()`? (1') What happens if we do not `zero_grad` in each step? (1')  \n",
    "===> Answer: Gradients by default accumulate with each L.backward(). If we do not set `zero_grad` in each step the gradient being used in that step would be an accumulation of current and previous grads. (Ref: https://stackoverflow.com/questions/48001598/why-do-we-need-to-call-zero-grad-in-pytorch which also links to the actual source of TORCH.AUTOGRAD)\n",
    "\n",
    "===> Question 3: What's the meaning of `grad_fn=<PowBackward0>`? (1')  \n",
    "===> Answer: When creating tensors from leaf node tensors, pytorch automatically builds a dynamic computation graph like b-> (mul) -> pred. Or pred -> (pow) -> L. At the same time, it creates complementary backward function nodes used to calculate gradients during backprop. This is the grad_fn that is used to calculate and propagate the gradients backwards from root to leaf nodes. Since L (the root node from which we called backward) is derived by using power function on another tensore, the grad_fn that is used for it's gradient is PowBackward0.\n"
   ]
  },
  {
   "cell_type": "code",
   "execution_count": 19,
   "metadata": {
    "colab": {
     "base_uri": "https://localhost:8080/"
    },
    "id": "4Nfs1aLuK8Dw",
    "outputId": "f96defc4-b829-4771-8702-5e7e4de2d8ae"
   },
   "outputs": [
    {
     "name": "stdout",
     "output_type": "stream",
     "text": [
      "tensor([[1.0024e+12, 0.0000e+00, 3.3631e-44],\n",
      "        [0.0000e+00,        nan, 0.0000e+00]])\n",
      "tensor([[0, 0, 0],\n",
      "        [0, 0, 0]])\n",
      "tensor([[0.4963, 0.7682, 0.0885],\n",
      "        [0.1320, 0.3074, 0.6341]])\n",
      "tensor([[ 1.2645, -0.6874,  0.1604],\n",
      "        [-0.6065, -0.7831,  1.0622]])\n",
      "tensor([[1, 2],\n",
      "        [3, 4]])\n",
      "[[1 2]\n",
      " [3 4]]\n"
     ]
    }
   ],
   "source": [
    "# 2.4 create tensors\n",
    "\n",
    "shape = (2, 3)\n",
    "\n",
    "# create an empty tensor\n",
    "x = torch.empty(shape)\n",
    "print(x)\n",
    "\n",
    "# create a full-zero tensor with type long\n",
    "# === Complete the code (1')\n",
    "x = torch.zeros(shape, dtype=torch.long)\n",
    "# === Complete the code\n",
    "print(x)\n",
    "\n",
    "# create a a tensor filled with random numbers from \n",
    "# a uniform distribution on the interval [0, 1)\n",
    "# === Complete the code (1')\n",
    "x = torch.rand(shape)\n",
    "# === Complete the code\n",
    "print(x)\n",
    "\n",
    "# create a tensor filled with random numbers from a standard normal distribution\n",
    "# === Complete the code (1')\n",
    "x = torch.normal(0, 1, shape)\n",
    "# === Complete the code\n",
    "print(x)\n",
    "\n",
    "# create a tensor from numpy\n",
    "x = np.array([[1, 2], [3, 4]])\n",
    "# === Complete the code (1')\n",
    "x = torch.tensor(x)\n",
    "# === Complete the code\n",
    "print(x)\n",
    "\n",
    "# convert a tensor to numpy\n",
    "x = x.numpy()\n",
    "print(x)"
   ]
  },
  {
   "cell_type": "code",
   "execution_count": 74,
   "metadata": {
    "colab": {
     "base_uri": "https://localhost:8080/"
    },
    "id": "nsj3pdawPs5o",
    "outputId": "548a95b2-79bb-442b-f56b-9e7c32c76561"
   },
   "outputs": [
    {
     "name": "stdout",
     "output_type": "stream",
     "text": [
      "w:  Parameter containing:\n",
      "tensor([[ 0.5134, -0.1478,  0.2540],\n",
      "        [ 0.5144,  0.1910,  0.5772]], requires_grad=True)\n",
      "b:  Parameter containing:\n",
      "tensor([0.2995, 0.3589], requires_grad=True)\n",
      "loss:  1.7526334524154663\n",
      "dL/dw:  tensor([[ 0.9729,  0.3036, -0.0558],\n",
      "        [ 1.2226,  0.1844,  0.2392]])\n",
      "dL/db:  tensor([-0.1352, -0.0362])\n"
     ]
    }
   ],
   "source": [
    "# 2.5 gradient of matrix and vector\n",
    "\n",
    "# Create tensors of shape (10, 3) and (10, 2).\n",
    "x = torch.randn(10, 3)\n",
    "y = torch.randn(10, 2)\n",
    "\n",
    "# Build a fully connected layer.\n",
    "linear = nn.Linear(3, 2)\n",
    "print ('w: ', linear.weight)\n",
    "print ('b: ', linear.bias)\n",
    "\n",
    "# Build loss function and optimizer.\n",
    "criterion = nn.MSELoss()\n",
    "\n",
    "# Forward pass.\n",
    "pred = linear(x)\n",
    "\n",
    "# Compute loss.\n",
    "# === Complete the code (1')\n",
    "loss = criterion(pred, y)\n",
    "# === Complete the code\n",
    "print('loss: ', loss.item())\n",
    "\n",
    "# Backward pass.\n",
    "loss.backward()\n",
    "\n",
    "# Print out the gradients.\n",
    "# === Complete the code (2')\n",
    "print ('dL/dw: ', linear.weight.grad) \n",
    "print ('dL/db: ', linear.bias.grad)\n",
    "# === Complete the code"
   ]
  },
  {
   "cell_type": "markdown",
   "metadata": {
    "id": "5Jmln-rJUTbq"
   },
   "source": [
    "===> Question 4: What is the function of the above code? Do a shape check for the gradient computation above. (2')  \n",
    "===> Answer: The above code creates a single layer neural network of input layer of size 3 and output layer of size 2. It then does a forward pass with random weights and biases and calculates the L2 loss. Then we do a single backward pass with that loss and calculate the gradients.\n",
    "\n",
    "For nn.Linear, we know from docs that the transformation looks like:\n",
    "\n",
    "h(x)=xw'+b\n",
    "\n",
    "Doing a shape check:\n",
    "\n",
    "dim(h(x)) = dim(y) (input vector - single example) = 1x2\n",
    "dim(x) = 1x3\n",
    "dim(b) = dim(y) = 1x2\n",
    "\n",
    "and from eqn\n",
    "\n",
    "dim(x)*dim(w')=dim(b)\n",
    "(1x3) * dim(w') = 1x2\n",
    "So\n",
    "\n",
    "dim(w') = 3x2\n",
    "dim(w) = 2x3\n",
    "\n",
    "Now, \n",
    "\n",
    "dim(L) = 1x1 = scalar\n",
    "dim(dL/dw) = dim(w) = 2x3 (denominator layout)\n",
    "dim(dL/db) = dim(b) = 1x2"
   ]
  },
  {
   "cell_type": "markdown",
   "metadata": {
    "id": "gxHzvhMseEQI"
   },
   "source": [
    "## Section 3: Linear Regression\n"
   ]
  },
  {
   "cell_type": "code",
   "execution_count": 21,
   "metadata": {
    "id": "2QS90Mv4T03n"
   },
   "outputs": [],
   "source": [
    "# Hyper-parameters\n",
    "input_size = 1\n",
    "output_size = 1\n",
    "\n",
    "# Toy dataset\n",
    "x_train = np.array([[3.2], [4.1], [5.6], [7.69], [6.3], [4.112], \n",
    "                    [9.79], [5.182], [6.59], [3.167], [7.042], \n",
    "                    [10.921], [5.268], [7.9], [3.0]], dtype=np.float32)\n",
    "\n",
    "y_train = np.array([[1.7], [2.76], [2.09], [3.19], [1.694], [1.573], \n",
    "                    [3.366], [2.596], [2.53], [1.221], [2.827], \n",
    "                    [3.465], [1.65], [2.904], [1.3]], dtype=np.float32)"
   ]
  },
  {
   "cell_type": "code",
   "execution_count": 22,
   "metadata": {
    "id": "7dhHzTVaePXF"
   },
   "outputs": [],
   "source": [
    "def main(learning_rate=0.001, num_epochs = 60):\n",
    "  # Linear regression model\n",
    "  model = nn.Linear(input_size, output_size)\n",
    "\n",
    "  # Loss and optimizertyo\n",
    "  criterion = nn.MSELoss()\n",
    "\n",
    "  # Create optimizer\n",
    "  # Hint: check manual for model.parameters\n",
    "  # === Complete the code (1')\n",
    "  optimizer = torch.optim.SGD(model.parameters(), lr=learning_rate)\n",
    "  # === Complete the code\n",
    "\n",
    "  # Train the model\n",
    "  for epoch in range(num_epochs):\n",
    "      # Convert numpy arrays to torch tensors\n",
    "      inputs = torch.from_numpy(x_train)\n",
    "      targets = torch.from_numpy(y_train)\n",
    "\n",
    "      # Forward pass\n",
    "      # === Complete the code (2')\n",
    "      outputs = model(inputs)\n",
    "      loss = criterion(outputs, targets)\n",
    "      # === Complete the code\n",
    "      \n",
    "      # Backward and optimize\n",
    "      # === Complete the code (3')\n",
    "      optimizer.zero_grad()\n",
    "      loss.backward()\n",
    "      optimizer.step()\n",
    "      # === Complete the code\n",
    "      \n",
    "      if (epoch+1) % 5 == 0:\n",
    "          print ('Epoch [{}/{}], Loss: {:.4f}'.format(epoch+1, num_epochs, loss.item()))\n",
    "\n",
    "  # Plot the graph\n",
    "  predicted = model(torch.from_numpy(x_train)).detach().numpy()\n",
    "  plt.plot(x_train, y_train, 'ro', label='Original data')\n",
    "  plt.plot(x_train, predicted, label='Fitted line')\n",
    "  plt.legend()\n",
    "  plt.show()"
   ]
  },
  {
   "cell_type": "code",
   "execution_count": 23,
   "metadata": {
    "colab": {
     "base_uri": "https://localhost:8080/",
     "height": 469
    },
    "id": "ACWgdcIWeU01",
    "outputId": "db97747c-9d2a-4def-d386-bfd63ab84bba"
   },
   "outputs": [
    {
     "name": "stdout",
     "output_type": "stream",
     "text": [
      "Epoch [5/60], Loss: 3.5557\n",
      "Epoch [10/60], Loss: 1.5880\n",
      "Epoch [15/60], Loss: 0.7714\n",
      "Epoch [20/60], Loss: 0.4324\n",
      "Epoch [25/60], Loss: 0.2917\n",
      "Epoch [30/60], Loss: 0.2333\n",
      "Epoch [35/60], Loss: 0.2090\n",
      "Epoch [40/60], Loss: 0.1988\n",
      "Epoch [45/60], Loss: 0.1946\n",
      "Epoch [50/60], Loss: 0.1928\n",
      "Epoch [55/60], Loss: 0.1920\n",
      "Epoch [60/60], Loss: 0.1916\n"
     ]
    },
    {
     "data": {
      "image/png": "[encoded data removed]",
      "text/plain": [
       "<Figure size 432x288 with 1 Axes>"
      ]
     },
     "metadata": {
      "needs_background": "light"
     },
     "output_type": "display_data"
    }
   ],
   "source": [
    "main()"
   ]
  },
  {
   "cell_type": "markdown",
   "metadata": {
    "id": "6wWicEaIfYMJ"
   },
   "source": [
    "Now let's investigate into how learning rate affects the training process.\n",
    "\n",
    "===> Question 5: Experiments with different learning rates and num_epochs.   \n",
    "When will the training diverges? What's your suggested value for the learning rate?   \n",
    "Justify your answer by running more experiments (leaving the results in the notebook). (5')     \n",
    "===> Answer: Training diverges at `learning_rate=0.02376`. The fastest convergence seems to happen at `learning_rate=0.003`. \n",
    "\n",
    "Additionally, greater number of training epochs seems to give even sub-optimal learning rates a better chance at reaching the global optima - more iterations = closer to optima as long as loss continues to reduce."
   ]
  },
  {
   "cell_type": "code",
   "execution_count": 71,
   "metadata": {
    "colab": {
     "base_uri": "https://localhost:8080/",
     "height": 469
    },
    "id": "d31POxIKeaQV",
    "outputId": "29eff826-405c-4883-9288-2151e95b2c9e"
   },
   "outputs": [
    {
     "name": "stdout",
     "output_type": "stream",
     "text": [
      "Epoch [5/60], Loss: 3.0715\n",
      "Epoch [10/60], Loss: 0.3189\n",
      "Epoch [15/60], Loss: 0.1692\n",
      "Epoch [20/60], Loss: 0.1610\n",
      "Epoch [25/60], Loss: 0.1605\n",
      "Epoch [30/60], Loss: 0.1605\n",
      "Epoch [35/60], Loss: 0.1605\n",
      "Epoch [40/60], Loss: 0.1605\n",
      "Epoch [45/60], Loss: 0.1605\n",
      "Epoch [50/60], Loss: 0.1605\n",
      "Epoch [55/60], Loss: 0.1605\n",
      "Epoch [60/60], Loss: 0.1604\n"
     ]
    },
    {
     "data": {
      "image/png": "[encoded data removed]",
      "text/plain": [
       "<Figure size 432x288 with 1 Axes>"
      ]
     },
     "metadata": {
      "needs_background": "light"
     },
     "output_type": "display_data"
    }
   ],
   "source": [
    "main(learning_rate=0.003, num_epochs = 60) #this seems to consistently yield the smallest loss"
   ]
  },
  {
   "cell_type": "code",
   "execution_count": 72,
   "metadata": {
    "colab": {
     "base_uri": "https://localhost:8080/",
     "height": 469
    },
    "id": "rDxFC0ZzhM2_",
    "outputId": "ffa658e3-a480-4a7c-97dd-a30e5f9f13f5"
   },
   "outputs": [
    {
     "name": "stdout",
     "output_type": "stream",
     "text": [
      "Epoch [5/60], Loss: 3.6667\n",
      "Epoch [10/60], Loss: 0.7191\n",
      "Epoch [15/60], Loss: 0.2527\n",
      "Epoch [20/60], Loss: 0.1789\n",
      "Epoch [25/60], Loss: 0.1672\n",
      "Epoch [30/60], Loss: 0.1653\n",
      "Epoch [35/60], Loss: 0.1650\n",
      "Epoch [40/60], Loss: 0.1649\n",
      "Epoch [45/60], Loss: 0.1648\n",
      "Epoch [50/60], Loss: 0.1648\n",
      "Epoch [55/60], Loss: 0.1648\n",
      "Epoch [60/60], Loss: 0.1648\n"
     ]
    },
    {
     "data": {
      "image/png": "[encoded data removed]",
      "text/plain": [
       "<Figure size 432x288 with 1 Axes>"
      ]
     },
     "metadata": {
      "needs_background": "light"
     },
     "output_type": "display_data"
    }
   ],
   "source": [
    "main(learning_rate=0.002, num_epochs = 60) #slightly greater loss in this direction"
   ]
  },
  {
   "cell_type": "code",
   "execution_count": 28,
   "metadata": {
    "colab": {
     "base_uri": "https://localhost:8080/",
     "height": 470
    },
    "id": "kkM11eJ5Fut1",
    "outputId": "124fa60d-457c-467f-bb12-2258ee410a78"
   },
   "outputs": [
    {
     "name": "stdout",
     "output_type": "stream",
     "text": [
      "Epoch [5/60], Loss: 0.4156\n",
      "Epoch [10/60], Loss: 0.2067\n",
      "Epoch [15/60], Loss: 0.1869\n",
      "Epoch [20/60], Loss: 0.1849\n",
      "Epoch [25/60], Loss: 0.1846\n",
      "Epoch [30/60], Loss: 0.1844\n",
      "Epoch [35/60], Loss: 0.1842\n",
      "Epoch [40/60], Loss: 0.1841\n",
      "Epoch [45/60], Loss: 0.1839\n",
      "Epoch [50/60], Loss: 0.1838\n",
      "Epoch [55/60], Loss: 0.1836\n",
      "Epoch [60/60], Loss: 0.1834\n"
     ]
    },
    {
     "data": {
      "image/png": "[encoded data removed]",
      "text/plain": [
       "<Figure size 432x288 with 1 Axes>"
      ]
     },
     "metadata": {
      "needs_background": "light"
     },
     "output_type": "display_data"
    }
   ],
   "source": [
    "main(learning_rate=0.0025, num_epochs = 60) #still greater loss"
   ]
  },
  {
   "cell_type": "code",
   "execution_count": 29,
   "metadata": {
    "colab": {
     "base_uri": "https://localhost:8080/",
     "height": 469
    },
    "id": "3-ms6mmiF44n",
    "outputId": "c6b8da5f-e132-4208-89bd-c70fc5886c4e"
   },
   "outputs": [
    {
     "name": "stdout",
     "output_type": "stream",
     "text": [
      "Epoch [5/60], Loss: 0.2169\n",
      "Epoch [10/60], Loss: 0.2145\n",
      "Epoch [15/60], Loss: 0.2139\n",
      "Epoch [20/60], Loss: 0.2134\n",
      "Epoch [25/60], Loss: 0.2130\n",
      "Epoch [30/60], Loss: 0.2125\n",
      "Epoch [35/60], Loss: 0.2120\n",
      "Epoch [40/60], Loss: 0.2115\n",
      "Epoch [45/60], Loss: 0.2111\n",
      "Epoch [50/60], Loss: 0.2106\n",
      "Epoch [55/60], Loss: 0.2102\n",
      "Epoch [60/60], Loss: 0.2097\n"
     ]
    },
    {
     "data": {
      "image/png": "[encoded data removed]",
      "text/plain": [
       "<Figure size 432x288 with 1 Axes>"
      ]
     },
     "metadata": {
      "needs_background": "light"
     },
     "output_type": "display_data"
    }
   ],
   "source": [
    "main(learning_rate=0.0035, num_epochs = 60) #greater loss again"
   ]
  },
  {
   "cell_type": "code",
   "execution_count": 30,
   "metadata": {
    "colab": {
     "base_uri": "https://localhost:8080/",
     "height": 469
    },
    "id": "ARurtQDsF7o8",
    "outputId": "9c5c6ac9-c380-4b6c-e3a3-bf9ebd602e8e"
   },
   "outputs": [
    {
     "name": "stdout",
     "output_type": "stream",
     "text": [
      "Epoch [5/60], Loss: 1.1289\n",
      "Epoch [10/60], Loss: 0.1771\n",
      "Epoch [15/60], Loss: 0.1614\n",
      "Epoch [20/60], Loss: 0.1612\n",
      "Epoch [25/60], Loss: 0.1611\n",
      "Epoch [30/60], Loss: 0.1611\n",
      "Epoch [35/60], Loss: 0.1611\n",
      "Epoch [40/60], Loss: 0.1611\n",
      "Epoch [45/60], Loss: 0.1611\n",
      "Epoch [50/60], Loss: 0.1610\n",
      "Epoch [55/60], Loss: 0.1610\n",
      "Epoch [60/60], Loss: 0.1610\n"
     ]
    },
    {
     "data": {
      "image/png": "[encoded data removed]",
      "text/plain": [
       "<Figure size 432x288 with 1 Axes>"
      ]
     },
     "metadata": {
      "needs_background": "light"
     },
     "output_type": "display_data"
    }
   ],
   "source": [
    "main(learning_rate=0.004, num_epochs = 60) #better, but still greater loss than lr=0.003"
   ]
  },
  {
   "cell_type": "code",
   "execution_count": 31,
   "metadata": {
    "colab": {
     "base_uri": "https://localhost:8080/",
     "height": 469
    },
    "id": "him-P_N9F-Xj",
    "outputId": "9d34c7c2-74ad-43ce-a193-060ed1fab685"
   },
   "outputs": [
    {
     "name": "stdout",
     "output_type": "stream",
     "text": [
      "Epoch [5/60], Loss: 1.3639\n",
      "Epoch [10/60], Loss: 0.3180\n",
      "Epoch [15/60], Loss: 0.3116\n",
      "Epoch [20/60], Loss: 0.3097\n",
      "Epoch [25/60], Loss: 0.3078\n",
      "Epoch [30/60], Loss: 0.3059\n",
      "Epoch [35/60], Loss: 0.3041\n",
      "Epoch [40/60], Loss: 0.3022\n",
      "Epoch [45/60], Loss: 0.3004\n",
      "Epoch [50/60], Loss: 0.2987\n",
      "Epoch [55/60], Loss: 0.2969\n",
      "Epoch [60/60], Loss: 0.2952\n"
     ]
    },
    {
     "data": {
      "image/png": "[encoded data removed]",
      "text/plain": [
       "<Figure size 432x288 with 1 Axes>"
      ]
     },
     "metadata": {
      "needs_background": "light"
     },
     "output_type": "display_data"
    }
   ],
   "source": [
    "main(learning_rate=0.005, num_epochs = 60)"
   ]
  },
  {
   "cell_type": "code",
   "execution_count": 32,
   "metadata": {
    "colab": {
     "base_uri": "https://localhost:8080/",
     "height": 469
    },
    "id": "ZQ4MUItWGAqn",
    "outputId": "f5449ae5-02ec-4e93-e5e3-89c64317e67b"
   },
   "outputs": [
    {
     "name": "stdout",
     "output_type": "stream",
     "text": [
      "Epoch [5/60], Loss: 0.3133\n",
      "Epoch [10/60], Loss: 0.3095\n",
      "Epoch [15/60], Loss: 0.3057\n",
      "Epoch [20/60], Loss: 0.3020\n",
      "Epoch [25/60], Loss: 0.2984\n",
      "Epoch [30/60], Loss: 0.2950\n",
      "Epoch [35/60], Loss: 0.2916\n",
      "Epoch [40/60], Loss: 0.2882\n",
      "Epoch [45/60], Loss: 0.2850\n",
      "Epoch [50/60], Loss: 0.2818\n",
      "Epoch [55/60], Loss: 0.2788\n",
      "Epoch [60/60], Loss: 0.2758\n"
     ]
    },
    {
     "data": {
      "image/png": "[encoded data removed]",
      "text/plain": [
       "<Figure size 432x288 with 1 Axes>"
      ]
     },
     "metadata": {
      "needs_background": "light"
     },
     "output_type": "display_data"
    }
   ],
   "source": [
    "main(learning_rate=0.01, num_epochs = 60)"
   ]
  },
  {
   "cell_type": "code",
   "execution_count": 34,
   "metadata": {
    "colab": {
     "base_uri": "https://localhost:8080/",
     "height": 469
    },
    "id": "5vhOXhc7GDXm",
    "outputId": "ec826e6c-eade-4a6c-9688-d80b7457e614"
   },
   "outputs": [
    {
     "name": "stdout",
     "output_type": "stream",
     "text": [
      "Epoch [5/60], Loss: 0.1817\n",
      "Epoch [10/60], Loss: 0.1806\n",
      "Epoch [15/60], Loss: 0.1798\n",
      "Epoch [20/60], Loss: 0.1790\n",
      "Epoch [25/60], Loss: 0.1783\n",
      "Epoch [30/60], Loss: 0.1776\n",
      "Epoch [35/60], Loss: 0.1769\n",
      "Epoch [40/60], Loss: 0.1762\n",
      "Epoch [45/60], Loss: 0.1756\n",
      "Epoch [50/60], Loss: 0.1750\n",
      "Epoch [55/60], Loss: 0.1744\n",
      "Epoch [60/60], Loss: 0.1738\n"
     ]
    },
    {
     "data": {
      "image/png": "[encoded data removed]",
      "text/plain": [
       "<Figure size 432x288 with 1 Axes>"
      ]
     },
     "metadata": {
      "needs_background": "light"
     },
     "output_type": "display_data"
    }
   ],
   "source": [
    "main(learning_rate=0.015, num_epochs = 60)"
   ]
  },
  {
   "cell_type": "code",
   "execution_count": 35,
   "metadata": {
    "colab": {
     "base_uri": "https://localhost:8080/",
     "height": 469
    },
    "id": "uu_y-UkJGFSC",
    "outputId": "6f652b58-5a55-4107-938a-5b62bbbed080"
   },
   "outputs": [
    {
     "name": "stdout",
     "output_type": "stream",
     "text": [
      "Epoch [5/60], Loss: 2.3040\n",
      "Epoch [10/60], Loss: 0.2512\n",
      "Epoch [15/60], Loss: 0.2031\n",
      "Epoch [20/60], Loss: 0.2000\n",
      "Epoch [25/60], Loss: 0.1979\n",
      "Epoch [30/60], Loss: 0.1960\n",
      "Epoch [35/60], Loss: 0.1942\n",
      "Epoch [40/60], Loss: 0.1925\n",
      "Epoch [45/60], Loss: 0.1908\n",
      "Epoch [50/60], Loss: 0.1892\n",
      "Epoch [55/60], Loss: 0.1877\n",
      "Epoch [60/60], Loss: 0.1863\n"
     ]
    },
    {
     "data": {
      "image/png": "[encoded data removed]",
      "text/plain": [
       "<Figure size 432x288 with 1 Axes>"
      ]
     },
     "metadata": {
      "needs_background": "light"
     },
     "output_type": "display_data"
    }
   ],
   "source": [
    "main(learning_rate=0.02, num_epochs = 60)"
   ]
  },
  {
   "cell_type": "code",
   "execution_count": 41,
   "metadata": {
    "colab": {
     "base_uri": "https://localhost:8080/",
     "height": 469
    },
    "id": "cwwwCgkAGJlp",
    "outputId": "41384a63-ea7a-45cf-d39f-8e137b0eb362"
   },
   "outputs": [
    {
     "name": "stdout",
     "output_type": "stream",
     "text": [
      "Epoch [5/60], Loss: 164.5533\n",
      "Epoch [10/60], Loss: 445.0445\n",
      "Epoch [15/60], Loss: 1204.4946\n",
      "Epoch [20/60], Loss: 3260.7383\n",
      "Epoch [25/60], Loss: 8828.0908\n",
      "Epoch [30/60], Loss: 23901.8750\n",
      "Epoch [35/60], Loss: 64714.5508\n",
      "Epoch [40/60], Loss: 175215.9688\n",
      "Epoch [45/60], Loss: 474401.0938\n",
      "Epoch [50/60], Loss: 1284454.1250\n",
      "Epoch [55/60], Loss: 3477696.2500\n",
      "Epoch [60/60], Loss: 9415957.0000\n"
     ]
    },
    {
     "data": {
      "image/png": "[encoded data removed]",
      "text/plain": [
       "<Figure size 432x288 with 1 Axes>"
      ]
     },
     "metadata": {
      "needs_background": "light"
     },
     "output_type": "display_data"
    }
   ],
   "source": [
    "main(learning_rate=0.025, num_epochs = 60) #diverges - let's do bin search to find the inflection point"
   ]
  },
  {
   "cell_type": "code",
   "execution_count": 37,
   "metadata": {
    "colab": {
     "base_uri": "https://localhost:8080/",
     "height": 469
    },
    "id": "LE6I2GnoGLkR",
    "outputId": "202d683b-2546-4cbe-c5e4-d0df5dde73a5"
   },
   "outputs": [
    {
     "name": "stdout",
     "output_type": "stream",
     "text": [
      "Epoch [5/60], Loss: 2.3851\n",
      "Epoch [10/60], Loss: 0.9301\n",
      "Epoch [15/60], Loss: 0.4518\n",
      "Epoch [20/60], Loss: 0.2931\n",
      "Epoch [25/60], Loss: 0.2391\n",
      "Epoch [30/60], Loss: 0.2194\n",
      "Epoch [35/60], Loss: 0.2111\n",
      "Epoch [40/60], Loss: 0.2066\n",
      "Epoch [45/60], Loss: 0.2034\n",
      "Epoch [50/60], Loss: 0.2008\n",
      "Epoch [55/60], Loss: 0.1984\n",
      "Epoch [60/60], Loss: 0.1962\n"
     ]
    },
    {
     "data": {
      "image/png": "[encoded data removed]",
      "text/plain": [
       "<Figure size 432x288 with 1 Axes>"
      ]
     },
     "metadata": {
      "needs_background": "light"
     },
     "output_type": "display_data"
    }
   ],
   "source": [
    "main(learning_rate=0.0225, num_epochs = 60)"
   ]
  },
  {
   "cell_type": "code",
   "execution_count": 38,
   "metadata": {
    "colab": {
     "base_uri": "https://localhost:8080/",
     "height": 469
    },
    "id": "WlUiEO6gGNqw",
    "outputId": "8ff59e07-8d0d-43fb-e56e-5c8fc7cc357f"
   },
   "outputs": [
    {
     "name": "stdout",
     "output_type": "stream",
     "text": [
      "Epoch [5/60], Loss: 0.4082\n",
      "Epoch [10/60], Loss: 0.4069\n",
      "Epoch [15/60], Loss: 0.4056\n",
      "Epoch [20/60], Loss: 0.4044\n",
      "Epoch [25/60], Loss: 0.4031\n",
      "Epoch [30/60], Loss: 0.4018\n",
      "Epoch [35/60], Loss: 0.4006\n",
      "Epoch [40/60], Loss: 0.3994\n",
      "Epoch [45/60], Loss: 0.3981\n",
      "Epoch [50/60], Loss: 0.3969\n",
      "Epoch [55/60], Loss: 0.3957\n",
      "Epoch [60/60], Loss: 0.3945\n"
     ]
    },
    {
     "data": {
      "image/png": "[encoded data removed]",
      "text/plain": [
       "<Figure size 432x288 with 1 Axes>"
      ]
     },
     "metadata": {
      "needs_background": "light"
     },
     "output_type": "display_data"
    }
   ],
   "source": [
    "main(learning_rate=0.02375, num_epochs = 60) # still decreasing loss"
   ]
  },
  {
   "cell_type": "code",
   "execution_count": 45,
   "metadata": {
    "colab": {
     "base_uri": "https://localhost:8080/",
     "height": 469
    },
    "id": "_qCWrsY3GWbM",
    "outputId": "3507eeb8-1999-4eaa-93fc-a1c6388179f8"
   },
   "outputs": [
    {
     "name": "stdout",
     "output_type": "stream",
     "text": [
      "Epoch [5/60], Loss: 10.3186\n",
      "Epoch [10/60], Loss: 10.3529\n",
      "Epoch [15/60], Loss: 10.3874\n",
      "Epoch [20/60], Loss: 10.4220\n",
      "Epoch [25/60], Loss: 10.4566\n",
      "Epoch [30/60], Loss: 10.4914\n",
      "Epoch [35/60], Loss: 10.5264\n",
      "Epoch [40/60], Loss: 10.5614\n",
      "Epoch [45/60], Loss: 10.5966\n",
      "Epoch [50/60], Loss: 10.6319\n",
      "Epoch [55/60], Loss: 10.6673\n",
      "Epoch [60/60], Loss: 10.7029\n"
     ]
    },
    {
     "data": {
      "image/png": "[encoded data removed]",
      "text/plain": [
       "<Figure size 432x288 with 1 Axes>"
      ]
     },
     "metadata": {
      "needs_background": "light"
     },
     "output_type": "display_data"
    }
   ],
   "source": [
    "main(learning_rate=0.02376, num_epochs = 60) #loss increases this time with each batch - this seems to be the point of inflection"
   ]
  },
  {
   "cell_type": "code",
   "execution_count": 56,
   "metadata": {
    "colab": {
     "base_uri": "https://localhost:8080/",
     "height": 605
    },
    "id": "fHM0wCN1HQJA",
    "outputId": "9c3efbcd-bc88-4426-a512-c10f15c3034d"
   },
   "outputs": [
    {
     "name": "stdout",
     "output_type": "stream",
     "text": [
      "Epoch [5/100], Loss: 5.7798\n",
      "Epoch [10/100], Loss: 0.4659\n",
      "Epoch [15/100], Loss: 0.1767\n",
      "Epoch [20/100], Loss: 0.1609\n",
      "Epoch [25/100], Loss: 0.1601\n",
      "Epoch [30/100], Loss: 0.1600\n",
      "Epoch [35/100], Loss: 0.1600\n",
      "Epoch [40/100], Loss: 0.1600\n",
      "Epoch [45/100], Loss: 0.1600\n",
      "Epoch [50/100], Loss: 0.1600\n",
      "Epoch [55/100], Loss: 0.1600\n",
      "Epoch [60/100], Loss: 0.1600\n",
      "Epoch [65/100], Loss: 0.1600\n",
      "Epoch [70/100], Loss: 0.1600\n",
      "Epoch [75/100], Loss: 0.1600\n",
      "Epoch [80/100], Loss: 0.1600\n",
      "Epoch [85/100], Loss: 0.1600\n",
      "Epoch [90/100], Loss: 0.1599\n",
      "Epoch [95/100], Loss: 0.1599\n",
      "Epoch [100/100], Loss: 0.1599\n"
     ]
    },
    {
     "data": {
      "image/png": "[encoded data removed]",
      "text/plain": [
       "<Figure size 432x288 with 1 Axes>"
      ]
     },
     "metadata": {
      "needs_background": "light"
     },
     "output_type": "display_data"
    }
   ],
   "source": [
    "main(learning_rate=0.003, num_epochs = 100) "
   ]
  },
  {
   "cell_type": "code",
   "execution_count": 59,
   "metadata": {
    "colab": {
     "base_uri": "https://localhost:8080/",
     "height": 1000
    },
    "id": "WHNkNHc7Idd8",
    "outputId": "925d1f52-af2f-4de0-f80b-2fd49f41a563"
   },
   "outputs": [
    {
     "name": "stdout",
     "output_type": "stream",
     "text": [
      "Epoch [5/500], Loss: 0.3943\n",
      "Epoch [10/500], Loss: 0.2602\n",
      "Epoch [15/500], Loss: 0.2570\n",
      "Epoch [20/500], Loss: 0.2560\n",
      "Epoch [25/500], Loss: 0.2550\n",
      "Epoch [30/500], Loss: 0.2540\n",
      "Epoch [35/500], Loss: 0.2531\n",
      "Epoch [40/500], Loss: 0.2521\n",
      "Epoch [45/500], Loss: 0.2512\n",
      "Epoch [50/500], Loss: 0.2502\n",
      "Epoch [55/500], Loss: 0.2493\n",
      "Epoch [60/500], Loss: 0.2484\n",
      "Epoch [65/500], Loss: 0.2475\n",
      "Epoch [70/500], Loss: 0.2466\n",
      "Epoch [75/500], Loss: 0.2457\n",
      "Epoch [80/500], Loss: 0.2449\n",
      "Epoch [85/500], Loss: 0.2440\n",
      "Epoch [90/500], Loss: 0.2431\n",
      "Epoch [95/500], Loss: 0.2423\n",
      "Epoch [100/500], Loss: 0.2415\n",
      "Epoch [105/500], Loss: 0.2406\n",
      "Epoch [110/500], Loss: 0.2398\n",
      "Epoch [115/500], Loss: 0.2390\n",
      "Epoch [120/500], Loss: 0.2382\n",
      "Epoch [125/500], Loss: 0.2374\n",
      "Epoch [130/500], Loss: 0.2366\n",
      "Epoch [135/500], Loss: 0.2358\n",
      "Epoch [140/500], Loss: 0.2350\n",
      "Epoch [145/500], Loss: 0.2343\n",
      "Epoch [150/500], Loss: 0.2335\n",
      "Epoch [155/500], Loss: 0.2328\n",
      "Epoch [160/500], Loss: 0.2320\n",
      "Epoch [165/500], Loss: 0.2313\n",
      "Epoch [170/500], Loss: 0.2306\n",
      "Epoch [175/500], Loss: 0.2298\n",
      "Epoch [180/500], Loss: 0.2291\n",
      "Epoch [185/500], Loss: 0.2284\n",
      "Epoch [190/500], Loss: 0.2277\n",
      "Epoch [195/500], Loss: 0.2270\n",
      "Epoch [200/500], Loss: 0.2263\n",
      "Epoch [205/500], Loss: 0.2257\n",
      "Epoch [210/500], Loss: 0.2250\n",
      "Epoch [215/500], Loss: 0.2243\n",
      "Epoch [220/500], Loss: 0.2237\n",
      "Epoch [225/500], Loss: 0.2230\n",
      "Epoch [230/500], Loss: 0.2224\n",
      "Epoch [235/500], Loss: 0.2217\n",
      "Epoch [240/500], Loss: 0.2211\n",
      "Epoch [245/500], Loss: 0.2205\n",
      "Epoch [250/500], Loss: 0.2199\n",
      "Epoch [255/500], Loss: 0.2192\n",
      "Epoch [260/500], Loss: 0.2186\n",
      "Epoch [265/500], Loss: 0.2180\n",
      "Epoch [270/500], Loss: 0.2174\n",
      "Epoch [275/500], Loss: 0.2169\n",
      "Epoch [280/500], Loss: 0.2163\n",
      "Epoch [285/500], Loss: 0.2157\n",
      "Epoch [290/500], Loss: 0.2151\n",
      "Epoch [295/500], Loss: 0.2146\n",
      "Epoch [300/500], Loss: 0.2140\n",
      "Epoch [305/500], Loss: 0.2134\n",
      "Epoch [310/500], Loss: 0.2129\n",
      "Epoch [315/500], Loss: 0.2124\n",
      "Epoch [320/500], Loss: 0.2118\n",
      "Epoch [325/500], Loss: 0.2113\n",
      "Epoch [330/500], Loss: 0.2108\n",
      "Epoch [335/500], Loss: 0.2102\n",
      "Epoch [340/500], Loss: 0.2097\n",
      "Epoch [345/500], Loss: 0.2092\n",
      "Epoch [350/500], Loss: 0.2087\n",
      "Epoch [355/500], Loss: 0.2082\n",
      "Epoch [360/500], Loss: 0.2077\n",
      "Epoch [365/500], Loss: 0.2072\n",
      "Epoch [370/500], Loss: 0.2067\n",
      "Epoch [375/500], Loss: 0.2063\n",
      "Epoch [380/500], Loss: 0.2058\n",
      "Epoch [385/500], Loss: 0.2053\n",
      "Epoch [390/500], Loss: 0.2048\n",
      "Epoch [395/500], Loss: 0.2044\n",
      "Epoch [400/500], Loss: 0.2039\n",
      "Epoch [405/500], Loss: 0.2035\n",
      "Epoch [410/500], Loss: 0.2030\n",
      "Epoch [415/500], Loss: 0.2026\n",
      "Epoch [420/500], Loss: 0.2021\n",
      "Epoch [425/500], Loss: 0.2017\n",
      "Epoch [430/500], Loss: 0.2013\n",
      "Epoch [435/500], Loss: 0.2009\n",
      "Epoch [440/500], Loss: 0.2004\n",
      "Epoch [445/500], Loss: 0.2000\n",
      "Epoch [450/500], Loss: 0.1996\n",
      "Epoch [455/500], Loss: 0.1992\n",
      "Epoch [460/500], Loss: 0.1988\n",
      "Epoch [465/500], Loss: 0.1984\n",
      "Epoch [470/500], Loss: 0.1980\n",
      "Epoch [475/500], Loss: 0.1976\n",
      "Epoch [480/500], Loss: 0.1972\n",
      "Epoch [485/500], Loss: 0.1968\n",
      "Epoch [490/500], Loss: 0.1964\n",
      "Epoch [495/500], Loss: 0.1961\n",
      "Epoch [500/500], Loss: 0.1957\n"
     ]
    },
    {
     "data": {
      "image/png": "[encoded data removed]",
      "text/plain": [
       "<Figure size 432x288 with 1 Axes>"
      ]
     },
     "metadata": {
      "needs_background": "light"
     },
     "output_type": "display_data"
    }
   ],
   "source": [
    "main(learning_rate=0.004, num_epochs = 500) "
   ]
  },
  {
   "cell_type": "code",
   "execution_count": 66,
   "metadata": {
    "colab": {
     "base_uri": "https://localhost:8080/",
     "height": 1000
    },
    "id": "LbrQG-ZrI5cZ",
    "outputId": "a9612495-278b-4ff7-cf7a-f35a8e6dbd2e"
   },
   "outputs": [
    {
     "name": "stdout",
     "output_type": "stream",
     "text": [
      "Epoch [5/500], Loss: 2.9514\n",
      "Epoch [10/500], Loss: 0.3610\n",
      "Epoch [15/500], Loss: 0.2962\n",
      "Epoch [20/500], Loss: 0.2882\n",
      "Epoch [25/500], Loss: 0.2818\n",
      "Epoch [30/500], Loss: 0.2757\n",
      "Epoch [35/500], Loss: 0.2699\n",
      "Epoch [40/500], Loss: 0.2645\n",
      "Epoch [45/500], Loss: 0.2592\n",
      "Epoch [50/500], Loss: 0.2543\n",
      "Epoch [55/500], Loss: 0.2496\n",
      "Epoch [60/500], Loss: 0.2451\n",
      "Epoch [65/500], Loss: 0.2408\n",
      "Epoch [70/500], Loss: 0.2368\n",
      "Epoch [75/500], Loss: 0.2329\n",
      "Epoch [80/500], Loss: 0.2293\n",
      "Epoch [85/500], Loss: 0.2258\n",
      "Epoch [90/500], Loss: 0.2225\n",
      "Epoch [95/500], Loss: 0.2194\n",
      "Epoch [100/500], Loss: 0.2164\n",
      "Epoch [105/500], Loss: 0.2135\n",
      "Epoch [110/500], Loss: 0.2108\n",
      "Epoch [115/500], Loss: 0.2083\n",
      "Epoch [120/500], Loss: 0.2058\n",
      "Epoch [125/500], Loss: 0.2035\n",
      "Epoch [130/500], Loss: 0.2013\n",
      "Epoch [135/500], Loss: 0.1992\n",
      "Epoch [140/500], Loss: 0.1972\n",
      "Epoch [145/500], Loss: 0.1954\n",
      "Epoch [150/500], Loss: 0.1936\n",
      "Epoch [155/500], Loss: 0.1919\n",
      "Epoch [160/500], Loss: 0.1902\n",
      "Epoch [165/500], Loss: 0.1887\n",
      "Epoch [170/500], Loss: 0.1872\n",
      "Epoch [175/500], Loss: 0.1858\n",
      "Epoch [180/500], Loss: 0.1845\n",
      "Epoch [185/500], Loss: 0.1833\n",
      "Epoch [190/500], Loss: 0.1821\n",
      "Epoch [195/500], Loss: 0.1809\n",
      "Epoch [200/500], Loss: 0.1798\n",
      "Epoch [205/500], Loss: 0.1788\n",
      "Epoch [210/500], Loss: 0.1778\n",
      "Epoch [215/500], Loss: 0.1769\n",
      "Epoch [220/500], Loss: 0.1760\n",
      "Epoch [225/500], Loss: 0.1752\n",
      "Epoch [230/500], Loss: 0.1744\n",
      "Epoch [235/500], Loss: 0.1736\n",
      "Epoch [240/500], Loss: 0.1729\n",
      "Epoch [245/500], Loss: 0.1722\n",
      "Epoch [250/500], Loss: 0.1716\n",
      "Epoch [255/500], Loss: 0.1710\n",
      "Epoch [260/500], Loss: 0.1704\n",
      "Epoch [265/500], Loss: 0.1698\n",
      "Epoch [270/500], Loss: 0.1693\n",
      "Epoch [275/500], Loss: 0.1688\n",
      "Epoch [280/500], Loss: 0.1683\n",
      "Epoch [285/500], Loss: 0.1678\n",
      "Epoch [290/500], Loss: 0.1674\n",
      "Epoch [295/500], Loss: 0.1670\n",
      "Epoch [300/500], Loss: 0.1666\n",
      "Epoch [305/500], Loss: 0.1662\n",
      "Epoch [310/500], Loss: 0.1659\n",
      "Epoch [315/500], Loss: 0.1655\n",
      "Epoch [320/500], Loss: 0.1652\n",
      "Epoch [325/500], Loss: 0.1649\n",
      "Epoch [330/500], Loss: 0.1646\n",
      "Epoch [335/500], Loss: 0.1644\n",
      "Epoch [340/500], Loss: 0.1641\n",
      "Epoch [345/500], Loss: 0.1639\n",
      "Epoch [350/500], Loss: 0.1636\n",
      "Epoch [355/500], Loss: 0.1634\n",
      "Epoch [360/500], Loss: 0.1632\n",
      "Epoch [365/500], Loss: 0.1630\n",
      "Epoch [370/500], Loss: 0.1628\n",
      "Epoch [375/500], Loss: 0.1626\n",
      "Epoch [380/500], Loss: 0.1624\n",
      "Epoch [385/500], Loss: 0.1623\n",
      "Epoch [390/500], Loss: 0.1621\n",
      "Epoch [395/500], Loss: 0.1620\n",
      "Epoch [400/500], Loss: 0.1618\n",
      "Epoch [405/500], Loss: 0.1617\n",
      "Epoch [410/500], Loss: 0.1616\n",
      "Epoch [415/500], Loss: 0.1614\n",
      "Epoch [420/500], Loss: 0.1613\n",
      "Epoch [425/500], Loss: 0.1612\n",
      "Epoch [430/500], Loss: 0.1611\n",
      "Epoch [435/500], Loss: 0.1610\n",
      "Epoch [440/500], Loss: 0.1609\n",
      "Epoch [445/500], Loss: 0.1608\n",
      "Epoch [450/500], Loss: 0.1607\n",
      "Epoch [455/500], Loss: 0.1607\n",
      "Epoch [460/500], Loss: 0.1606\n",
      "Epoch [465/500], Loss: 0.1605\n",
      "Epoch [470/500], Loss: 0.1604\n",
      "Epoch [475/500], Loss: 0.1604\n",
      "Epoch [480/500], Loss: 0.1603\n",
      "Epoch [485/500], Loss: 0.1602\n",
      "Epoch [490/500], Loss: 0.1602\n",
      "Epoch [495/500], Loss: 0.1601\n",
      "Epoch [500/500], Loss: 0.1601\n"
     ]
    },
    {
     "data": {
      "image/png": "[encoded data removed]",
      "text/plain": [
       "<Figure size 432x288 with 1 Axes>"
      ]
     },
     "metadata": {
      "needs_background": "light"
     },
     "output_type": "display_data"
    }
   ],
   "source": [
    "main(learning_rate=0.02, num_epochs = 500) "
   ]
  },
  {
   "cell_type": "code",
   "execution_count": null,
   "metadata": {
    "id": "2wP0IM5UJDXV"
   },
   "outputs": [],
   "source": []
  }
 ],
 "metadata": {
  "accelerator": "GPU",
  "colab": {
   "collapsed_sections": [],
   "name": "CS5242_HW1_part2.ipynb",
   "provenance": []
  },
  "gpuClass": "standard",
  "kernelspec": {
   "display_name": "Python 3 (ipykernel)",
   "language": "python",
   "name": "python3"
  },
  "language_info": {
   "codemirror_mode": {
    "name": "ipython",
    "version": 3
   },
   "file_extension": ".py",
   "mimetype": "text/x-python",
   "name": "python",
   "nbconvert_exporter": "python",
   "pygments_lexer": "ipython3",
   "version": "3.10.10"
  }
 },
 "nbformat": 4,
 "nbformat_minor": 1
}
