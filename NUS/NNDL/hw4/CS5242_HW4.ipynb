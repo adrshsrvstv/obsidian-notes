{
 "cells": [
  {
   "cell_type": "markdown",
   "metadata": {
    "id": "GXMX8yuAyl55"
   },
   "source": [
    "# Welcome to CS 5242 **Homework 4**\n",
    "\n",
    "ASSIGNMENT DEADLINE ⏰ : **19 Sept 2022** \n",
    "\n",
    "In this assignment, we have three parts:\n",
    "\n",
    "1. Implement some functions in CNNs from scratch *(3 Points)*\n",
    "2. Implement a CNN and train for CIFAR10 using PyTorch *(5 Points)*\n",
    "3. Discussion (parametes and flops for AlexNet) *(2 Points)*\n",
    "\n",
    "Colab is a hosted Jupyter notebook service that requires no setup to use, while providing access free of charge to computing resources including GPUs. In this semester, we will use Colab to run our experiments.\n",
    "\n",
    "> In this assignment, We **need GPU** to training the CNN model. You may need to **choose GPU in Runtime -> Change runtime type -> Hardware accerator**\n",
    "\n",
    "### **Grades Policy**\n",
    "\n",
    "We have 10 points for this homework. 15% off per day late, 0 scores if you submit it 7 days after the deadline.\n",
    "\n",
    "### **Cautions**\n",
    "\n",
    "**DO NOT** use external libraries like PyTorch or TensorFlow in your implementation.\n",
    "\n",
    "**DO NOT** copy the code from the internet, e.g. GitHub.\n",
    "\n",
    "---\n",
    "\n",
    "### **Contact**\n",
    "\n",
    "Please feel free to contact us if you have any question about this homework or need any further information.\n",
    "\n",
    "Slack (Recommend): Shenggan Cheng\n",
    "\n",
    "TA Email: shenggan@comp.nus.edu.sg\n",
    "\n",
    "> If you have not join the slack group, you can click [here](https://join.slack.com/t/cs5242ay20222-oiw1784/shared_invite/zt-1eiv24k1t-0J9EI7vz3uQmAHa68qU0aw)"
   ]
  },
  {
   "cell_type": "markdown",
   "metadata": {
    "id": "oLeZHcOVBp4U"
   },
   "source": [
    "## Setup\n",
    "\n",
    "Start by running the cell below to set up all required software."
   ]
  },
  {
   "cell_type": "code",
   "execution_count": null,
   "metadata": {
    "colab": {
     "base_uri": "https://localhost:8080/"
    },
    "id": "HIgu_q2HBg-E",
    "outputId": "1cf793d6-017c-480d-ccf7-bdafc8c4a4b0"
   },
   "outputs": [
    {
     "name": "stdout",
     "output_type": "stream",
     "text": [
      "Looking in indexes: https://pypi.org/simple, https://us-python.pkg.dev/colab-wheels/public/simple/\n",
      "Requirement already satisfied: numpy in /usr/local/lib/python3.7/dist-packages (1.21.6)\n",
      "Requirement already satisfied: matplotlib in /usr/local/lib/python3.7/dist-packages (3.2.2)\n",
      "Requirement already satisfied: torch in /usr/local/lib/python3.7/dist-packages (1.12.1+cu113)\n",
      "Requirement already satisfied: cycler>=0.10 in /usr/local/lib/python3.7/dist-packages (from matplotlib) (0.11.0)\n",
      "Requirement already satisfied: python-dateutil>=2.1 in /usr/local/lib/python3.7/dist-packages (from matplotlib) (2.8.2)\n",
      "Requirement already satisfied: pyparsing!=2.0.4,!=2.1.2,!=2.1.6,>=2.0.1 in /usr/local/lib/python3.7/dist-packages (from matplotlib) (3.0.9)\n",
      "Requirement already satisfied: kiwisolver>=1.0.1 in /usr/local/lib/python3.7/dist-packages (from matplotlib) (1.4.4)\n",
      "Requirement already satisfied: typing-extensions in /usr/local/lib/python3.7/dist-packages (from kiwisolver>=1.0.1->matplotlib) (4.1.1)\n",
      "Requirement already satisfied: six>=1.5 in /usr/local/lib/python3.7/dist-packages (from python-dateutil>=2.1->matplotlib) (1.15.0)\n"
     ]
    }
   ],
   "source": [
    "!pip install numpy matplotlib torch"
   ]
  },
  {
   "cell_type": "markdown",
   "metadata": {
    "id": "vtXcchT5H2PH"
   },
   "source": [
    "Import the neccesary library and fix seed for Python, NumPy and PyTorch."
   ]
  },
  {
   "cell_type": "code",
   "execution_count": null,
   "metadata": {
    "colab": {
     "base_uri": "https://localhost:8080/"
    },
    "id": "I2Yodsn4H6CB",
    "outputId": "abeeb6fb-59b7-4318-eb50-5b54a949f6de"
   },
   "outputs": [
    {
     "data": {
      "text/plain": [
       "<torch._C.Generator at 0x7f7b870a6810>"
      ]
     },
     "execution_count": 2,
     "metadata": {},
     "output_type": "execute_result"
    }
   ],
   "source": [
    "import math\n",
    "import random\n",
    "\n",
    "import numpy as np\n",
    "import torch\n",
    "import torchvision\n",
    "import torch.nn as nn\n",
    "import torch.nn.functional as F\n",
    "import torch.optim as optim\n",
    "import torchvision.transforms as transforms\n",
    "import matplotlib.pyplot as plt\n",
    "\n",
    "random.seed(0)\n",
    "np.random.seed(0)\n",
    "torch.manual_seed(0)"
   ]
  },
  {
   "cell_type": "markdown",
   "metadata": {
    "id": "RTpFBLKSkKI0"
   },
   "source": [
    "Now let's setup the GPU environment. The colab provides a free GPU to use. Do as follows:\n",
    "\n",
    "- Runtime -> Change Runtime Type -> select `GPU` in Hardware accelerator\n",
    "- Click `connect` on the top-right\n",
    "\n",
    "After connecting to one GPU, you can check its status using `nvidia-smi` command."
   ]
  },
  {
   "cell_type": "code",
   "execution_count": null,
   "metadata": {
    "colab": {
     "base_uri": "https://localhost:8080/"
    },
    "id": "ES8KOxziiYky",
    "outputId": "4e46e3bd-e922-4bc1-c7ca-bc6b4eae6d4b"
   },
   "outputs": [
    {
     "name": "stdout",
     "output_type": "stream",
     "text": [
      "Tue Aug 30 07:22:01 2022       \n",
      "+-----------------------------------------------------------------------------+\n",
      "| NVIDIA-SMI 460.32.03    Driver Version: 460.32.03    CUDA Version: 11.2     |\n",
      "|-------------------------------+----------------------+----------------------+\n",
      "| GPU  Name        Persistence-M| Bus-Id        Disp.A | Volatile Uncorr. ECC |\n",
      "| Fan  Temp  Perf  Pwr:Usage/Cap|         Memory-Usage | GPU-Util  Compute M. |\n",
      "|                               |                      |               MIG M. |\n",
      "|===============================+======================+======================|\n",
      "|   0  Tesla T4            Off  | 00000000:00:04.0 Off |                    0 |\n",
      "| N/A   53C    P8    10W /  70W |      0MiB / 15109MiB |      0%      Default |\n",
      "|                               |                      |                  N/A |\n",
      "+-------------------------------+----------------------+----------------------+\n",
      "                                                                               \n",
      "+-----------------------------------------------------------------------------+\n",
      "| Processes:                                                                  |\n",
      "|  GPU   GI   CI        PID   Type   Process name                  GPU Memory |\n",
      "|        ID   ID                                                   Usage      |\n",
      "|=============================================================================|\n",
      "|  No running processes found                                                 |\n",
      "+-----------------------------------------------------------------------------+\n"
     ]
    },
    {
     "data": {
      "text/plain": [
       "True"
      ]
     },
     "execution_count": 3,
     "metadata": {},
     "output_type": "execute_result"
    }
   ],
   "source": [
    "!nvidia-smi\n",
    "\n",
    "torch.cuda.is_available()"
   ]
  },
  {
   "cell_type": "markdown",
   "metadata": {
    "id": "3yrZD7DDExF4"
   },
   "source": [
    "Everything is ready, you can move on and ***Good Luck !*** 😃"
   ]
  },
  {
   "cell_type": "markdown",
   "metadata": {
    "id": "tm1f362vdRgF"
   },
   "source": [
    "## Implement functions in CNNs from scratch\n",
    "\n",
    "In this section, you need to implement some functions commonly used in CNNs, including convolution, pooling, etc. \n",
    "\n",
    "We will compare the computational results of your implemented version with those of pytorch, expecting that the error between the correct implementation and pytorch will be very small.\n",
    "\n",
    "NOTE: \n",
    "\n",
    "1. Implement these functions from scratch, **without** using any neural network libraries. Use linear algebra libraries in python is ok.\n",
    "\n",
    "2. The performance of the function is not included in this scoring, You just need to pay attention to the correctness of your implementation."
   ]
  },
  {
   "cell_type": "markdown",
   "metadata": {
    "id": "NV3DXc2jgeg7"
   },
   "source": [
    "### Step 1\n",
    "Given a 32x32 pixels, 3 channels input, get a torch tensor with torch.randn()."
   ]
  },
  {
   "cell_type": "code",
   "execution_count": null,
   "metadata": {
    "id": "3UxGJxTegq9O"
   },
   "outputs": [],
   "source": [
    "batch_size = 2\n",
    "x = torch.randn(batch_size, 3, 32, 32)"
   ]
  },
  {
   "cell_type": "markdown",
   "metadata": {
    "id": "xxnlbBnFw9wB"
   },
   "source": [
    "### Step 2\n",
    "\n",
    "For each following functions in the list, get the output tensor \"torch_xxx_out\" with input as x:"
   ]
  },
  {
   "cell_type": "code",
   "execution_count": null,
   "metadata": {
    "id": "OLQGhRbJgpIZ"
   },
   "outputs": [],
   "source": [
    "torch_max_pool = nn.MaxPool2d(kernel_size=2,\n",
    "                              stride=1,\n",
    "                              padding=0,\n",
    "                              dilation=1,\n",
    "                              return_indices=False,\n",
    "                              ceil_mode=False)\n",
    "torch_avg_pool = nn.AvgPool2d(kernel_size=2,\n",
    "                              stride=1,\n",
    "                              padding=0,\n",
    "                              ceil_mode=False,\n",
    "                              count_include_pad=True,\n",
    "                              divisor_override=None)\n",
    "torch_conv = nn.Conv2d(in_channels=3,\n",
    "                       out_channels=6,\n",
    "                       kernel_size=3,\n",
    "                       stride=1,\n",
    "                       padding=0,\n",
    "                       dilation=1,\n",
    "                       groups=1,\n",
    "                       bias=True,\n",
    "                       padding_mode='zeros')\n",
    "torch_norm = nn.BatchNorm2d(3)"
   ]
  },
  {
   "cell_type": "code",
   "execution_count": null,
   "metadata": {
    "id": "ri163mxZgvEm"
   },
   "outputs": [],
   "source": [
    "torch_sigmoid_out = torch.sigmoid(x, out=None)\n",
    "tmp_tensor = torch.randint(3, (batch_size,))\n",
    "torch_cross_entropy_out = F.cross_entropy(x[::, ::, 0, 0], tmp_tensor)"
   ]
  },
  {
   "cell_type": "code",
   "execution_count": null,
   "metadata": {
    "id": "PBzDAo2rgwmx"
   },
   "outputs": [],
   "source": [
    "torch_max_pool_out = torch_max_pool(x)\n",
    "torch_avg_pool_out = torch_avg_pool(x)\n",
    "torch_conv_out = torch_conv(x)\n",
    "torch_norm_out = torch_norm(x)"
   ]
  },
  {
   "cell_type": "markdown",
   "metadata": {
    "id": "w6YBRP6Qgylg"
   },
   "source": [
    "### Step 3\n",
    "\n",
    "Implement these functions from scratch, without using any neural network libraries. Use linear algebra libraries in python is ok. Output your tensors as \"my_xxx_out\"."
   ]
  },
  {
   "cell_type": "code",
   "execution_count": null,
   "metadata": {
    "id": "CsO5I40fgzWY"
   },
   "outputs": [],
   "source": [
    "def my_max_pool(x, kernel_size, stride, padding):\n",
    "    \"\"\"\n",
    "    Args:\n",
    "        x: torch tensor with size (N, C_in, H_in, W_in),\n",
    "        kernel_size: size of the window to take a max over, \n",
    "        stride: stride of the window,\n",
    "        padding: implicit zero padding to be added on both sides,\n",
    "        \n",
    "    Return:\n",
    "        y: torch tensor of size (N, C_out, H_out, W_out).\n",
    "    \"\"\"\n",
    "\n",
    "    y = None\n",
    "    # === Complete the code (0.5')\n",
    "\n",
    "    # === Complete the code\n",
    "    return y"
   ]
  },
  {
   "cell_type": "code",
   "execution_count": null,
   "metadata": {
    "id": "nGbn6oQcg4pM"
   },
   "outputs": [],
   "source": [
    "def my_avg_pool(x, kernel_size, stride, padding):\n",
    "    \"\"\"\n",
    "    Args:\n",
    "        x: torch tensor with size (N, C_in, H_in, W_in),\n",
    "        kernel_size: size of the window, \n",
    "        stride: stride of the window,\n",
    "        padding: implicit zero padding to be added on both sides,\n",
    "        \n",
    "    Return:\n",
    "        y: torch tensor of size (N, C_out, H_out, W_out).\n",
    "    \"\"\"\n",
    "\n",
    "    y = None\n",
    "    # === Complete the code (0.5')\n",
    "\n",
    "    # === Complete the code\n",
    "    return y"
   ]
  },
  {
   "cell_type": "code",
   "execution_count": null,
   "metadata": {
    "id": "9gsDytvKg5c1"
   },
   "outputs": [],
   "source": [
    "def my_conv(x, in_channels, out_channels, kernel_size, stride, padding, weight, bias):\n",
    "    \"\"\"\n",
    "    Args:\n",
    "        x: torch tensor with size (N, C_in, H_in, W_in),\n",
    "        in_channels: number of channels in the input image, it is C_in;\n",
    "        out_channels: number of channels produced by the convolution;\n",
    "        kernel_size: size of onvolving kernel, \n",
    "        stride: stride of the convolution,\n",
    "        padding: implicit zero padding to be added on both sides of each dimension,\n",
    "        \n",
    "    Return:\n",
    "        y: torch tensor of size (N, C_out, H_out, W_out)\n",
    "    \"\"\"\n",
    "\n",
    "    y = None\n",
    "    # === Complete the code (0.5')\n",
    "\n",
    "    # === Complete the code\n",
    "    return y"
   ]
  },
  {
   "cell_type": "code",
   "execution_count": null,
   "metadata": {
    "id": "8sX0oRyTg-m6"
   },
   "outputs": [],
   "source": [
    "def my_batchnorm(x, num_features, eps):\n",
    "    \"\"\"\n",
    "    Args:\n",
    "        x: torch tensor with size (N, C, H, W),\n",
    "        num_features: number of features in the input tensor, it is C;\n",
    "        eps: a value added to the denominator for numerical stability. Default: 1e-5\n",
    "        \n",
    "    Return:\n",
    "        y: torch tensor of size (N, C, H, W)\n",
    "    \"\"\"\n",
    "\n",
    "    y = torch.empty_like(x)\n",
    "    # === Complete the code (0.5')\n",
    "\n",
    "    # === Complete the code\n",
    "    return y"
   ]
  },
  {
   "cell_type": "code",
   "execution_count": null,
   "metadata": {
    "id": "ZqwnIjPOhCQm"
   },
   "outputs": [],
   "source": [
    "def my_sigmoid(x):\n",
    "    \"\"\"\n",
    "    Args:\n",
    "        x: torch tensor with any size\n",
    "\n",
    "    Return:\n",
    "        y: the logistic sigmoid function of x\n",
    "    \"\"\"\n",
    "    y = None\n",
    "    # === Complete the code (0.5')\n",
    "\n",
    "    # === Complete the code\n",
    "    return y"
   ]
  },
  {
   "cell_type": "code",
   "execution_count": null,
   "metadata": {
    "id": "ZPIFPl3ehEFh"
   },
   "outputs": [],
   "source": [
    "def my_cross_entropy(p, y):\n",
    "    \"\"\"\n",
    "    Args:\n",
    "        p: torch tensor with size of (N, C),\n",
    "        y (int): torch tensor with size of (N), the values range from 0 to C-1\n",
    "\n",
    "    Return:\n",
    "        loss: the cross_entropy of predicted values p and target y.\n",
    "    \"\"\"\n",
    "    loss = None\n",
    "    # === Complete the code (0.5')\n",
    "\n",
    "    # === Complete the code\n",
    "    return loss"
   ]
  },
  {
   "cell_type": "code",
   "execution_count": null,
   "metadata": {
    "id": "dMnKzeVuhGxu"
   },
   "outputs": [],
   "source": [
    "my_max_pool_out = my_max_pool(x, kernel_size=2, stride=1, padding=0)\n",
    "my_avg_pool_out = my_avg_pool(x, kernel_size=2, stride=1, padding=0)\n",
    "my_conv_out = my_conv(x,\n",
    "                      in_channels=3,\n",
    "                      out_channels=6,\n",
    "                      kernel_size=3,\n",
    "                      stride=1,\n",
    "                      padding=0,\n",
    "                      weight=torch_conv.weight,\n",
    "                      bias=torch_conv.bias)\n",
    "my_norm_out = my_batchnorm(x, num_features=3, eps=1e-5)"
   ]
  },
  {
   "cell_type": "code",
   "execution_count": null,
   "metadata": {
    "id": "yUOZJ875hLAD"
   },
   "outputs": [],
   "source": [
    "my_sigmoid_out = my_sigmoid(x)\n",
    "my_cross_entropy_out = my_cross_entropy(x[::, ::, 0, 0], tmp_tensor)"
   ]
  },
  {
   "cell_type": "markdown",
   "metadata": {
    "id": "jO-EHT7wm7Dk"
   },
   "source": [
    "### Step 4\n",
    "\n",
    "Compare and show that \"torch_xxx_out\" and \"my_xxx_out\" are equal up to small numerical errors."
   ]
  },
  {
   "cell_type": "code",
   "execution_count": null,
   "metadata": {
    "colab": {
     "base_uri": "https://localhost:8080/"
    },
    "id": "eXnNfKKJhOAi",
    "outputId": "e625a0d5-e049-4ec2-bd8b-d26c93f745db"
   },
   "outputs": [
    {
     "name": "stdout",
     "output_type": "stream",
     "text": [
      "tensor(0., dtype=torch.float64)\n",
      "tensor(0., dtype=torch.float64)\n",
      "tensor(3.6923e-15, dtype=torch.float64, grad_fn=<MseLossBackward0>)\n",
      "tensor(2.9662e-15, grad_fn=<MseLossBackward0>)\n"
     ]
    }
   ],
   "source": [
    "print(F.mse_loss(my_max_pool_out, torch_max_pool_out))\n",
    "print(F.mse_loss(my_avg_pool_out, torch_avg_pool_out))\n",
    "print(F.mse_loss(my_conv_out, torch_conv_out))\n",
    "print(F.mse_loss(my_norm_out, torch_norm_out))"
   ]
  },
  {
   "cell_type": "code",
   "execution_count": null,
   "metadata": {
    "colab": {
     "base_uri": "https://localhost:8080/"
    },
    "id": "hHxuCzkmhP4l",
    "outputId": "dff10a9a-7295-4959-9380-05afed82a514"
   },
   "outputs": [
    {
     "name": "stdout",
     "output_type": "stream",
     "text": [
      "tensor(3.6253e-16)\n",
      "tensor(0.)\n"
     ]
    }
   ],
   "source": [
    "print(F.mse_loss(my_sigmoid_out, torch_sigmoid_out))\n",
    "print(F.mse_loss(my_cross_entropy_out, torch_cross_entropy_out))"
   ]
  },
  {
   "cell_type": "markdown",
   "metadata": {
    "id": "CJFZB_A7ddrC"
   },
   "source": [
    "## Train CNNs on CIFAR-10 dataset"
   ]
  },
  {
   "cell_type": "markdown",
   "metadata": {
    "id": "88y6cXmPs7_E"
   },
   "source": [
    "Implement a CNN and train for CIFAR10 with these definitions:\n",
    "\n",
    "1. cA-B = Conv2d with input A channels, output B channels - kernel size 3x3, stride (1,1), padding with zeros to keep image size constant, followed by ReLU;\n",
    "\n",
    "2. mp = maxpool2d kernel size 2x2, stride (2,2);\n",
    "\n",
    "3. bn = batchnorm2d with affine=False (i.e. non learning batch norm);\n",
    "\n",
    "4. fcA-B = nn.linear with input A nodes, output B nodes;\n",
    "\n",
    "5. aap = adaptive average pooling.\n",
    "\n",
    "Use the definition to make the architecture c3-16 -> c16-16 -> mp -> c16-32 -> c32-32 -> mp -> c32-64 -> c64-64 -> mp -> c64-128 -> c128-128 -> aap -> flatten -> fc128-10 -> cross entropy loss. Adjust learning rate, batch size and other hyper parameters to make classification results **> 75%**."
   ]
  },
  {
   "cell_type": "code",
   "execution_count": null,
   "metadata": {
    "id": "HeUlgbGgg9JI"
   },
   "outputs": [],
   "source": [
    "# === Complete the code (1')\n",
    "num_epoch = None # TODO: please define the number of epoch here.\n",
    "batch_size = None # TODO: please fill the batch size here.\n",
    "# === Complete the code"
   ]
  },
  {
   "cell_type": "code",
   "execution_count": null,
   "metadata": {
    "colab": {
     "base_uri": "https://localhost:8080/"
    },
    "id": "e9DLvGs6hmLJ",
    "outputId": "486d0b4c-8e82-47b4-b6aa-2dbf668cb7fd"
   },
   "outputs": [
    {
     "name": "stdout",
     "output_type": "stream",
     "text": [
      "Files already downloaded and verified\n",
      "Files already downloaded and verified\n"
     ]
    }
   ],
   "source": [
    "transform = transforms.Compose(\n",
    "    [transforms.ToTensor(),\n",
    "     transforms.Normalize((0.5, 0.5, 0.5), (0.5, 0.5, 0.5))])\n",
    "\n",
    "trainset = torchvision.datasets.CIFAR10(root='./data',\n",
    "                                        train=True,\n",
    "                                        download=True,\n",
    "                                        transform=transform)\n",
    "trainloader = torch.utils.data.DataLoader(trainset,\n",
    "                                          batch_size=batch_size,\n",
    "                                          shuffle=True,\n",
    "                                          num_workers=1)\n",
    "\n",
    "testset = torchvision.datasets.CIFAR10(root='./data',\n",
    "                                       train=False,\n",
    "                                       download=True,\n",
    "                                       transform=transform)\n",
    "testloader = torch.utils.data.DataLoader(testset,\n",
    "                                         batch_size=batch_size,\n",
    "                                         shuffle=False,\n",
    "                                         num_workers=1)"
   ]
  },
  {
   "cell_type": "code",
   "execution_count": null,
   "metadata": {
    "id": "o0VD5zmxhvkT"
   },
   "outputs": [],
   "source": [
    "# Creating a CNN model\n",
    "class CNN(nn.Module):\n",
    "    \n",
    "    def __init__(self, num_classes):\n",
    "        super(CNN, self).__init__()\n",
    "       \n",
    "        # === Complete the code (1.5')\n",
    "\n",
    "        # === Complete the code\n",
    "        \n",
    "    def forward(self, x):\n",
    "        # === Complete the code (1.5')\n",
    "\n",
    "        # === Complete the code\n",
    "        return out"
   ]
  },
  {
   "cell_type": "code",
   "execution_count": null,
   "metadata": {
    "id": "Q8LfQbxThx_0"
   },
   "outputs": [],
   "source": [
    "device = torch.device('cuda:0' if torch.cuda.is_available() else 'cpu')\n",
    "model = CNN(10).to(device)\n",
    "criterion = nn.CrossEntropyLoss()\n",
    "optimizer = torch.optim.Adam(model.parameters(), lr=0.0005)"
   ]
  },
  {
   "cell_type": "code",
   "execution_count": null,
   "metadata": {
    "colab": {
     "background_save": true,
     "base_uri": "https://localhost:8080/"
    },
    "id": "pYClpDydh0qA",
    "outputId": "ce9681c2-2991-48d2-94d4-d15d7997b1c0"
   },
   "outputs": [
    {
     "name": "stdout",
     "output_type": "stream",
     "text": [
      "epoch   0 |   128 batches loss: 2.1141\n",
      "epoch   0 |   256 batches loss: 1.9330\n",
      "epoch   0 |   384 batches loss: 1.8620\n",
      "epoch   0 |   512 batches loss: 1.7758\n",
      "epoch   0 |   640 batches loss: 1.6934\n",
      "epoch   0 |   768 batches loss: 1.6152\n",
      "epoch   1 |   128 batches loss: 1.5616\n",
      "epoch   1 |   256 batches loss: 1.5417\n",
      "epoch   1 |   384 batches loss: 1.4938\n",
      "epoch   1 |   512 batches loss: 1.4693\n",
      "epoch   1 |   640 batches loss: 1.4302\n",
      "epoch   1 |   768 batches loss: 1.4216\n",
      "epoch   2 |   128 batches loss: 1.3928\n",
      "epoch   2 |   256 batches loss: 1.3423\n",
      "epoch   2 |   384 batches loss: 1.3177\n",
      "epoch   2 |   512 batches loss: 1.3131\n",
      "epoch   2 |   640 batches loss: 1.2878\n",
      "epoch   2 |   768 batches loss: 1.2606\n",
      "epoch   3 |   128 batches loss: 1.2365\n",
      "epoch   3 |   256 batches loss: 1.1990\n",
      "epoch   3 |   384 batches loss: 1.1874\n",
      "epoch   3 |   512 batches loss: 1.1579\n",
      "epoch   3 |   640 batches loss: 1.1475\n",
      "epoch   3 |   768 batches loss: 1.1276\n",
      "epoch   4 |   128 batches loss: 1.0997\n",
      "epoch   4 |   256 batches loss: 1.0943\n",
      "epoch   4 |   384 batches loss: 1.0628\n",
      "epoch   4 |   512 batches loss: 1.0659\n",
      "epoch   4 |   640 batches loss: 1.0331\n",
      "epoch   4 |   768 batches loss: 1.0271\n",
      "epoch   5 |   128 batches loss: 1.0139\n",
      "epoch   5 |   256 batches loss: 1.0059\n",
      "epoch   5 |   384 batches loss: 0.9756\n",
      "epoch   5 |   512 batches loss: 0.9692\n",
      "epoch   5 |   640 batches loss: 0.9625\n",
      "epoch   5 |   768 batches loss: 0.9319\n",
      "epoch   6 |   128 batches loss: 0.9183\n",
      "epoch   6 |   256 batches loss: 0.8971\n",
      "epoch   6 |   384 batches loss: 0.9108\n",
      "epoch   6 |   512 batches loss: 0.9114\n",
      "epoch   6 |   640 batches loss: 0.8985\n",
      "epoch   6 |   768 batches loss: 0.8945\n",
      "epoch   7 |   128 batches loss: 0.8580\n",
      "epoch   7 |   256 batches loss: 0.8302\n",
      "epoch   7 |   384 batches loss: 0.8243\n",
      "epoch   7 |   512 batches loss: 0.8273\n",
      "epoch   7 |   640 batches loss: 0.8367\n",
      "epoch   7 |   768 batches loss: 0.8136\n",
      "epoch   8 |   128 batches loss: 0.7729\n",
      "epoch   8 |   256 batches loss: 0.7768\n",
      "epoch   8 |   384 batches loss: 0.7659\n",
      "epoch   8 |   512 batches loss: 0.7774\n",
      "epoch   8 |   640 batches loss: 0.7885\n",
      "epoch   8 |   768 batches loss: 0.7749\n",
      "epoch   9 |   128 batches loss: 0.7296\n",
      "epoch   9 |   256 batches loss: 0.7349\n",
      "epoch   9 |   384 batches loss: 0.7169\n",
      "epoch   9 |   512 batches loss: 0.7287\n",
      "epoch   9 |   640 batches loss: 0.7183\n",
      "epoch   9 |   768 batches loss: 0.7423\n",
      "epoch  10 |   128 batches loss: 0.6876\n",
      "epoch  10 |   256 batches loss: 0.6811\n",
      "epoch  10 |   384 batches loss: 0.6906\n",
      "epoch  10 |   512 batches loss: 0.6768\n",
      "epoch  10 |   640 batches loss: 0.6975\n",
      "epoch  10 |   768 batches loss: 0.6611\n",
      "epoch  11 |   128 batches loss: 0.6302\n",
      "epoch  11 |   256 batches loss: 0.6541\n",
      "epoch  11 |   384 batches loss: 0.6372\n",
      "epoch  11 |   512 batches loss: 0.6431\n",
      "epoch  11 |   640 batches loss: 0.6383\n",
      "epoch  11 |   768 batches loss: 0.6225\n",
      "epoch  12 |   128 batches loss: 0.5860\n",
      "epoch  12 |   256 batches loss: 0.5987\n",
      "epoch  12 |   384 batches loss: 0.6024\n",
      "epoch  12 |   512 batches loss: 0.6030\n",
      "epoch  12 |   640 batches loss: 0.6051\n",
      "epoch  12 |   768 batches loss: 0.6082\n",
      "epoch  13 |   128 batches loss: 0.5418\n",
      "epoch  13 |   256 batches loss: 0.5403\n",
      "epoch  13 |   384 batches loss: 0.5583\n",
      "epoch  13 |   512 batches loss: 0.5757\n",
      "epoch  13 |   640 batches loss: 0.5714\n",
      "epoch  13 |   768 batches loss: 0.5562\n",
      "epoch  14 |   128 batches loss: 0.4955\n",
      "epoch  14 |   256 batches loss: 0.5080\n",
      "epoch  14 |   384 batches loss: 0.5347\n",
      "epoch  14 |   512 batches loss: 0.5278\n",
      "epoch  14 |   640 batches loss: 0.5409\n",
      "epoch  14 |   768 batches loss: 0.5256\n",
      "epoch  15 |   128 batches loss: 0.4915\n",
      "epoch  15 |   256 batches loss: 0.5000\n",
      "epoch  15 |   384 batches loss: 0.4694\n",
      "epoch  15 |   512 batches loss: 0.4825\n",
      "epoch  15 |   640 batches loss: 0.5038\n",
      "epoch  15 |   768 batches loss: 0.4914\n",
      "epoch  16 |   128 batches loss: 0.4296\n",
      "epoch  16 |   256 batches loss: 0.4431\n",
      "epoch  16 |   384 batches loss: 0.4763\n",
      "epoch  16 |   512 batches loss: 0.4605\n",
      "epoch  16 |   640 batches loss: 0.4678\n",
      "epoch  16 |   768 batches loss: 0.4647\n",
      "epoch  17 |   128 batches loss: 0.4135\n",
      "epoch  17 |   256 batches loss: 0.4241\n",
      "epoch  17 |   384 batches loss: 0.4227\n",
      "epoch  17 |   512 batches loss: 0.4364\n",
      "epoch  17 |   640 batches loss: 0.4245\n",
      "epoch  17 |   768 batches loss: 0.4231\n",
      "epoch  18 |   128 batches loss: 0.3816\n",
      "epoch  18 |   256 batches loss: 0.3805\n",
      "epoch  18 |   384 batches loss: 0.4134\n",
      "epoch  18 |   512 batches loss: 0.3985\n",
      "epoch  18 |   640 batches loss: 0.4054\n",
      "epoch  18 |   768 batches loss: 0.3991\n",
      "epoch  19 |   128 batches loss: 0.3424\n",
      "epoch  19 |   256 batches loss: 0.3713\n",
      "epoch  19 |   384 batches loss: 0.3734\n",
      "epoch  19 |   512 batches loss: 0.3724\n",
      "epoch  19 |   640 batches loss: 0.3760\n",
      "epoch  19 |   768 batches loss: 0.3767\n",
      "Finished Training\n"
     ]
    }
   ],
   "source": [
    "for epoch in range(num_epoch):\n",
    "\n",
    "    running_loss = 0.0\n",
    "    for i, data in enumerate(trainloader, 0):\n",
    "\n",
    "        inputs, labels = data[0].to(device), data[1].to(device)\n",
    "        # === Complete the code (1')\n",
    "\n",
    "        # === Complete the code\n",
    "\n",
    "        running_loss += loss.item()\n",
    "        if (i + 1) % 128 == 0:\n",
    "            print('epoch {:3d} | {:5d} batches loss: {:.4f}'.format(epoch, i + 1, running_loss/128))\n",
    "            running_loss = 0.0\n",
    "\n",
    "print('Finished Training')"
   ]
  },
  {
   "cell_type": "code",
   "execution_count": null,
   "metadata": {
    "id": "kuzhd2zWh415"
   },
   "outputs": [],
   "source": [
    "dataiter = iter(testloader)\n",
    "images, labels = dataiter.next()"
   ]
  },
  {
   "cell_type": "code",
   "execution_count": null,
   "metadata": {
    "colab": {
     "base_uri": "https://localhost:8080/"
    },
    "id": "K0_3yVTTh-U6",
    "outputId": "dce7c872-5dcc-47d6-9cc7-ea0c8aa30cf6"
   },
   "outputs": [
    {
     "name": "stdout",
     "output_type": "stream",
     "text": [
      "Accuracy of the network on the 10000 test images: 77 %\n"
     ]
    }
   ],
   "source": [
    "correct = 0\n",
    "total = 0\n",
    "with torch.no_grad():\n",
    "    for data in testloader:\n",
    "        #images, labels = data\n",
    "        images, labels = data[0].to(device), data[1].to(device)\n",
    "        outputs = model(images)\n",
    "        _, predicted = torch.max(outputs.data, 1)\n",
    "        total += labels.size(0)\n",
    "        correct += (predicted == labels).sum().item()\n",
    "\n",
    "print(f'Accuracy of the network on the 10000 test images: {100 * correct // total} %')"
   ]
  },
  {
   "cell_type": "markdown",
   "metadata": {
    "id": "z53XxMASdm-A"
   },
   "source": [
    "## Discussion (2 points)"
   ]
  },
  {
   "cell_type": "markdown",
   "metadata": {
    "id": "QpbGzIo9dqWN"
   },
   "source": [
    "Calculate Parameters and FLOPs(Floating point operations) of **AlexNet** and analyse the ratio of the number of parameters and the amount of calculations for different layers in AlexNet.\n",
    "\n",
    "Hint:\n",
    "\n",
    "1. You can refer https://pytorch.org/vision/stable/_modules/torchvision/models/alexnet.html for architecture of AlexNet.\n",
    "2. You only need to make estimates and do not need to perform rigorous calculations, (e.g. only consider the FLOPs of the convolution and FC in AlexNet model)\n",
    "3. Because Multiply Accumulate (MAC) operations are performed on the hardware, it is possible to simply consider only the number of multiplications when considering the number of operations when calculating FLOPs."
   ]
  },
  {
   "cell_type": "markdown",
   "metadata": {
    "id": "PB9Y3Ag5fPnV"
   },
   "source": []
  }
 ],
 "metadata": {
  "accelerator": "GPU",
  "colab": {
   "collapsed_sections": [],
   "provenance": []
  },
  "gpuClass": "standard",
  "kernelspec": {
   "display_name": "Python 3 (ipykernel)",
   "language": "python",
   "name": "python3"
  },
  "language_info": {
   "codemirror_mode": {
    "name": "ipython",
    "version": 3
   },
   "file_extension": ".py",
   "mimetype": "text/x-python",
   "name": "python",
   "nbconvert_exporter": "python",
   "pygments_lexer": "ipython3",
   "version": "3.10.6"
  }
 },
 "nbformat": 4,
 "nbformat_minor": 1
}
