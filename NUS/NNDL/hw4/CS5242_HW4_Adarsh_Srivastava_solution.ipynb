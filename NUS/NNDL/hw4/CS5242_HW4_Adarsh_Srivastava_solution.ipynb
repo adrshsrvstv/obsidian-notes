{
 "cells": [
  {
   "cell_type": "markdown",
   "metadata": {
    "id": "GXMX8yuAyl55"
   },
   "source": [
    "# Welcome to CS 5242 **Homework 4**\n",
    "\n",
    "ASSIGNMENT DEADLINE ⏰ : **19 Sept 2022** \n",
    "\n",
    "In this assignment, we have three parts:\n",
    "\n",
    "1. Implement some functions in CNNs from scratch *(3 Points)*\n",
    "2. Implement a CNN and train for CIFAR10 using PyTorch *(5 Points)*\n",
    "3. Discussion (parametes and flops for AlexNet) *(2 Points)*\n",
    "\n",
    "Colab is a hosted Jupyter notebook service that requires no setup to use, while providing access free of charge to computing resources including GPUs. In this semester, we will use Colab to run our experiments.\n",
    "\n",
    "> In this assignment, We **need GPU** to training the CNN model. You may need to **choose GPU in Runtime -> Change runtime type -> Hardware accerator**\n",
    "\n",
    "### **Grades Policy**\n",
    "\n",
    "We have 10 points for this homework. 15% off per day late, 0 scores if you submit it 7 days after the deadline.\n",
    "\n",
    "### **Cautions**\n",
    "\n",
    "**DO NOT** use external libraries like PyTorch or TensorFlow in your implementation.\n",
    "\n",
    "**DO NOT** copy the code from the internet, e.g. GitHub.\n",
    "\n",
    "---\n",
    "\n",
    "### **Contact**\n",
    "\n",
    "Please feel free to contact us if you have any question about this homework or need any further information.\n",
    "\n",
    "Slack (Recommend): Shenggan Cheng\n",
    "\n",
    "TA Email: shenggan@comp.nus.edu.sg\n",
    "\n",
    "> If you have not join the slack group, you can click [here](https://join.slack.com/t/cs5242ay20222-oiw1784/shared_invite/zt-1eiv24k1t-0J9EI7vz3uQmAHa68qU0aw)"
   ]
  },
  {
   "cell_type": "markdown",
   "metadata": {
    "id": "oLeZHcOVBp4U"
   },
   "source": [
    "## Setup\n",
    "\n",
    "Start by running the cell below to set up all required software."
   ]
  },
  {
   "cell_type": "code",
   "execution_count": 1,
   "metadata": {
    "colab": {
     "base_uri": "https://localhost:8080/"
    },
    "id": "HIgu_q2HBg-E",
    "outputId": "de9cb893-3864-4c20-91f8-c5d8dd95cf99"
   },
   "outputs": [
    {
     "name": "stdout",
     "output_type": "stream",
     "text": [
      "Looking in indexes: https://pypi.org/simple, https://us-python.pkg.dev/colab-wheels/public/simple/\n",
      "Requirement already satisfied: numpy in /usr/local/lib/python3.7/dist-packages (1.21.6)\n",
      "Requirement already satisfied: matplotlib in /usr/local/lib/python3.7/dist-packages (3.2.2)\n",
      "Requirement already satisfied: torch in /usr/local/lib/python3.7/dist-packages (1.12.1+cu113)\n",
      "Requirement already satisfied: cycler>=0.10 in /usr/local/lib/python3.7/dist-packages (from matplotlib) (0.11.0)\n",
      "Requirement already satisfied: python-dateutil>=2.1 in /usr/local/lib/python3.7/dist-packages (from matplotlib) (2.8.2)\n",
      "Requirement already satisfied: kiwisolver>=1.0.1 in /usr/local/lib/python3.7/dist-packages (from matplotlib) (1.4.4)\n",
      "Requirement already satisfied: pyparsing!=2.0.4,!=2.1.2,!=2.1.6,>=2.0.1 in /usr/local/lib/python3.7/dist-packages (from matplotlib) (3.0.9)\n",
      "Requirement already satisfied: typing-extensions in /usr/local/lib/python3.7/dist-packages (from kiwisolver>=1.0.1->matplotlib) (4.1.1)\n",
      "Requirement already satisfied: six>=1.5 in /usr/local/lib/python3.7/dist-packages (from python-dateutil>=2.1->matplotlib) (1.15.0)\n"
     ]
    }
   ],
   "source": [
    "!pip install numpy matplotlib torch"
   ]
  },
  {
   "cell_type": "markdown",
   "metadata": {
    "id": "vtXcchT5H2PH"
   },
   "source": [
    "Import the neccesary library and fix seed for Python, NumPy and PyTorch."
   ]
  },
  {
   "cell_type": "code",
   "execution_count": 2,
   "metadata": {
    "colab": {
     "base_uri": "https://localhost:8080/"
    },
    "id": "I2Yodsn4H6CB",
    "outputId": "a2e311cc-5907-44a2-eb06-ae52b0f98ba6"
   },
   "outputs": [
    {
     "data": {
      "text/plain": [
       "<torch._C.Generator at 0x7f366d166950>"
      ]
     },
     "execution_count": 2,
     "metadata": {},
     "output_type": "execute_result"
    }
   ],
   "source": [
    "import math\n",
    "import random\n",
    "\n",
    "import numpy as np\n",
    "import torch\n",
    "import torchvision\n",
    "import torch.nn as nn\n",
    "import torch.nn.functional as F\n",
    "import torch.optim as optim\n",
    "import torchvision.transforms as transforms\n",
    "import matplotlib.pyplot as plt\n",
    "\n",
    "random.seed(0)\n",
    "np.random.seed(0)\n",
    "torch.manual_seed(0)"
   ]
  },
  {
   "cell_type": "markdown",
   "metadata": {
    "id": "RTpFBLKSkKI0"
   },
   "source": [
    "Now let's setup the GPU environment. The colab provides a free GPU to use. Do as follows:\n",
    "\n",
    "- Runtime -> Change Runtime Type -> select `GPU` in Hardware accelerator\n",
    "- Click `connect` on the top-right\n",
    "\n",
    "After connecting to one GPU, you can check its status using `nvidia-smi` command."
   ]
  },
  {
   "cell_type": "code",
   "execution_count": 3,
   "metadata": {
    "colab": {
     "base_uri": "https://localhost:8080/"
    },
    "id": "ES8KOxziiYky",
    "outputId": "4a57f3c4-9fbe-44d4-bd81-7cee6d43f6c8"
   },
   "outputs": [
    {
     "name": "stdout",
     "output_type": "stream",
     "text": [
      "Mon Sep 26 15:46:34 2022       \n",
      "+-----------------------------------------------------------------------------+\n",
      "| NVIDIA-SMI 460.32.03    Driver Version: 460.32.03    CUDA Version: 11.2     |\n",
      "|-------------------------------+----------------------+----------------------+\n",
      "| GPU  Name        Persistence-M| Bus-Id        Disp.A | Volatile Uncorr. ECC |\n",
      "| Fan  Temp  Perf  Pwr:Usage/Cap|         Memory-Usage | GPU-Util  Compute M. |\n",
      "|                               |                      |               MIG M. |\n",
      "|===============================+======================+======================|\n",
      "|   0  Tesla T4            Off  | 00000000:00:04.0 Off |                    0 |\n",
      "| N/A   58C    P8    11W /  70W |      0MiB / 15109MiB |      0%      Default |\n",
      "|                               |                      |                  N/A |\n",
      "+-------------------------------+----------------------+----------------------+\n",
      "                                                                               \n",
      "+-----------------------------------------------------------------------------+\n",
      "| Processes:                                                                  |\n",
      "|  GPU   GI   CI        PID   Type   Process name                  GPU Memory |\n",
      "|        ID   ID                                                   Usage      |\n",
      "|=============================================================================|\n",
      "|  No running processes found                                                 |\n",
      "+-----------------------------------------------------------------------------+\n"
     ]
    },
    {
     "data": {
      "text/plain": [
       "True"
      ]
     },
     "execution_count": 3,
     "metadata": {},
     "output_type": "execute_result"
    }
   ],
   "source": [
    "!nvidia-smi\n",
    "\n",
    "torch.cuda.is_available()"
   ]
  },
  {
   "cell_type": "markdown",
   "metadata": {
    "id": "3yrZD7DDExF4"
   },
   "source": [
    "Everything is ready, you can move on and ***Good Luck !*** 😃"
   ]
  },
  {
   "cell_type": "markdown",
   "metadata": {
    "id": "tm1f362vdRgF"
   },
   "source": [
    "## Implement functions in CNNs from scratch\n",
    "\n",
    "In this section, you need to implement some functions commonly used in CNNs, including convolution, pooling, etc. \n",
    "\n",
    "We will compare the computational results of your implemented version with those of pytorch, expecting that the error between the correct implementation and pytorch will be very small.\n",
    "\n",
    "NOTE: \n",
    "\n",
    "1. Implement these functions from scratch, **without** using any neural network libraries. Use linear algebra libraries in python is ok.\n",
    "\n",
    "2. The performance of the function is not included in this scoring, You just need to pay attention to the correctness of your implementation."
   ]
  },
  {
   "cell_type": "markdown",
   "metadata": {
    "id": "NV3DXc2jgeg7"
   },
   "source": [
    "### Step 1\n",
    "Given a 32x32 pixels, 3 channels input, get a torch tensor with torch.randn()."
   ]
  },
  {
   "cell_type": "code",
   "execution_count": 4,
   "metadata": {
    "id": "3UxGJxTegq9O"
   },
   "outputs": [],
   "source": [
    "batch_size = 2\n",
    "x = torch.randn(batch_size, 3, 32, 32)"
   ]
  },
  {
   "cell_type": "markdown",
   "metadata": {
    "id": "xxnlbBnFw9wB"
   },
   "source": [
    "### Step 2\n",
    "\n",
    "For each following functions in the list, get the output tensor \"torch_xxx_out\" with input as x:"
   ]
  },
  {
   "cell_type": "code",
   "execution_count": 5,
   "metadata": {
    "id": "OLQGhRbJgpIZ"
   },
   "outputs": [],
   "source": [
    "torch_max_pool = nn.MaxPool2d(kernel_size=2,\n",
    "                              stride=2,\n",
    "                              padding=1,\n",
    "                              dilation=1,\n",
    "                              return_indices=False,\n",
    "                              ceil_mode=False)\n",
    "torch_avg_pool = nn.AvgPool2d(kernel_size=2,\n",
    "                              stride=2,\n",
    "                              padding=1,\n",
    "                              ceil_mode=False,\n",
    "                              count_include_pad=True,\n",
    "                              divisor_override=None)\n",
    "torch_conv = nn.Conv2d(in_channels=3,\n",
    "                       out_channels=6,\n",
    "                       kernel_size=3,\n",
    "                       stride=1,\n",
    "                       padding=0,\n",
    "                       dilation=1,\n",
    "                       groups=1,\n",
    "                       bias=True,\n",
    "                       padding_mode='zeros')\n",
    "torch_norm = nn.BatchNorm2d(3)"
   ]
  },
  {
   "cell_type": "code",
   "execution_count": 6,
   "metadata": {
    "id": "ri163mxZgvEm"
   },
   "outputs": [],
   "source": [
    "torch_sigmoid_out = torch.sigmoid(x, out=None)\n",
    "tmp_tensor = torch.randint(3, (batch_size,))\n",
    "torch_cross_entropy_out = F.cross_entropy(x[::, ::, 0, 0], tmp_tensor)"
   ]
  },
  {
   "cell_type": "code",
   "execution_count": 7,
   "metadata": {
    "id": "PBzDAo2rgwmx"
   },
   "outputs": [],
   "source": [
    "torch_max_pool_out = torch_max_pool(x)\n",
    "torch_avg_pool_out = torch_avg_pool(x)\n",
    "torch_conv_out = torch_conv(x)\n",
    "torch_norm_out = torch_norm(x)"
   ]
  },
  {
   "cell_type": "markdown",
   "metadata": {
    "id": "w6YBRP6Qgylg"
   },
   "source": [
    "### Step 3\n",
    "\n",
    "Implement these functions from scratch, without using any neural network libraries. Use linear algebra libraries in python is ok. Output your tensors as \"my_xxx_out\"."
   ]
  },
  {
   "cell_type": "code",
   "execution_count": 8,
   "metadata": {
    "id": "CsO5I40fgzWY"
   },
   "outputs": [],
   "source": [
    "def my_max_pool(x, kernel_size, stride, padding):\n",
    "    \"\"\"\n",
    "    Args:\n",
    "        x: torch tensor with size (N, C_in, H_in, W_in),\n",
    "        kernel_size: size of the window to take a max over, \n",
    "        stride: stride of the window,\n",
    "        padding: implicit zero padding to be added on both sides,\n",
    "        \n",
    "    Return:\n",
    "        y: torch tensor of size (N, C_out, H_out, W_out).\n",
    "    \"\"\"\n",
    "\n",
    "    y = None\n",
    "    # === Complete the code (0.5')\n",
    "    batch_out = []\n",
    "    for sample in x:\n",
    "      smaple_max = []\n",
    "      for feature_map in sample:\n",
    "        feature_map = np.pad(feature_map, padding, constant_values=-math.inf)\n",
    "\n",
    "        sliding_windows = np.lib.stride_tricks.sliding_window_view(feature_map, window_shape = (kernel_size,kernel_size))[::stride,::stride]\n",
    "        sw_shape = sliding_windows.shape\n",
    "        \n",
    "        feature_max = np.empty([sw_shape[0], sw_shape[1]])\n",
    "\n",
    "        for i in range(sw_shape[0]):\n",
    "          for j in range(sw_shape[1]):\n",
    "            feature_max[i][j] = np.amax(sliding_windows[i][j])\n",
    "\n",
    "        smaple_max.append(feature_max)\n",
    "      batch_out.append(smaple_max)\n",
    "\n",
    "    y = torch.FloatTensor(np.array(batch_out))\n",
    "    # === Complete the code\n",
    "    return y"
   ]
  },
  {
   "cell_type": "code",
   "execution_count": 9,
   "metadata": {
    "id": "nGbn6oQcg4pM"
   },
   "outputs": [],
   "source": [
    "def my_avg_pool(x, kernel_size, stride, padding):\n",
    "    \"\"\"\n",
    "    Args:\n",
    "        x: torch tensor with size (N, C_in, H_in, W_in),\n",
    "        kernel_size: size of the window, \n",
    "        stride: stride of the window,\n",
    "        padding: implicit zero padding to be added on both sides,\n",
    "        \n",
    "    Return:\n",
    "        y: torch tensor of size (N, C_out, H_out, W_out).\n",
    "    \"\"\"\n",
    "\n",
    "    y = None\n",
    "    # === Complete the code (0.5')\n",
    "    batch_out = []\n",
    "    for sample in x:\n",
    "      smaple_avg = []\n",
    "      for feature_map in sample:\n",
    "        feature_map = np.pad(feature_map, padding, constant_values=0)\n",
    "\n",
    "        sliding_windows = np.lib.stride_tricks.sliding_window_view(feature_map, window_shape = (kernel_size,kernel_size))[::stride,::stride]\n",
    "        sw_shape = sliding_windows.shape\n",
    "        \n",
    "        feature_avg = np.empty([sw_shape[0], sw_shape[1]])\n",
    "\n",
    "        for i in range(sw_shape[0]):\n",
    "          for j in range(sw_shape[1]):\n",
    "            feature_avg[i][j] = np.mean(sliding_windows[i][j])\n",
    "\n",
    "        smaple_avg.append(feature_avg)\n",
    "      batch_out.append(smaple_avg)\n",
    "\n",
    "    y = torch.FloatTensor(np.array(batch_out))\n",
    "    # === Complete the code\n",
    "    return y"
   ]
  },
  {
   "cell_type": "code",
   "execution_count": 10,
   "metadata": {
    "id": "9gsDytvKg5c1"
   },
   "outputs": [],
   "source": [
    "def my_conv(x, in_channels, out_channels, kernel_size, stride, padding, weight, bias):\n",
    "    \"\"\"\n",
    "    Args:\n",
    "        x: torch tensor with size (N, C_in, H_in, W_in),\n",
    "        in_channels: number of channels in the input image, it is C_in;\n",
    "        out_channels: number of channels produced by the convolution;\n",
    "        kernel_size: size of onvolving kernel, \n",
    "        stride: stride of the convolution,\n",
    "        padding: implicit zero padding to be added on both sides of each dimension,\n",
    "        \n",
    "    Return:\n",
    "        y: torch tensor of size (N, C_out, H_out, W_out)\n",
    "    \"\"\"\n",
    "\n",
    "    y = None\n",
    "    # === Complete the code (0.5')\n",
    "    H_out = math.floor((x.shape[2] + 2*padding - kernel_size)/float(stride))+1\n",
    "    W_out = math.floor((x.shape[3] + 2*padding - kernel_size)/float(stride))+1\n",
    "\n",
    "    y = torch.zeros(x.shape[0], out_channels, H_out, W_out)\n",
    "\n",
    "    W = np.zeros((out_channels, in_channels*kernel_size*kernel_size))\n",
    "    for i in range(out_channels):\n",
    "      W[i] = torch.cat(tuple(t.flatten() for t in torch.split(weight[i], 1))).detach().numpy()\n",
    "\n",
    "    for i in range(x.shape[0]):\n",
    "      list_of_map_cols = []\n",
    "      for j in range(x.shape[1]):\n",
    "        feature_map = np.pad(x[i][j], padding, constant_values=0)\n",
    "        sliding_windows = np.lib.stride_tricks.sliding_window_view(feature_map, window_shape = (kernel_size,kernel_size))[::stride,::stride]\n",
    "        list_of_map_cols.append(np.column_stack(tuple(w.flatten() for rows in sliding_windows for w in rows)))\n",
    "\n",
    "      X = np.vstack(tuple(list_of_map_cols))\n",
    "      W_dot_X = np.matmul(W, X)\n",
    "      W_dot_X_plus_bias = W_dot_X + np.tile( np.reshape(bias.detach().numpy(), (bias.shape[0],1)), (1,W_dot_X.shape[1]))\n",
    "      W_dot_X_plus_bias = np.reshape(W_dot_X_plus_bias, (out_channels, H_out, W_out))\n",
    "      y[i] = torch.FloatTensor(W_dot_X_plus_bias)\n",
    "      \n",
    "    # === Complete the code\n",
    "    return y"
   ]
  },
  {
   "cell_type": "code",
   "execution_count": 11,
   "metadata": {
    "id": "8sX0oRyTg-m6"
   },
   "outputs": [],
   "source": [
    "def my_batchnorm(x, num_features, eps):\n",
    "    \"\"\"\n",
    "    Args:\n",
    "        x: torch tensor with size (N, C, H, W),\n",
    "        num_features: number of features in the input tensor, it is C;\n",
    "        eps: a value added to the denominator for numerical stability. Default: 1e-5\n",
    "        \n",
    "    Return:\n",
    "        y: torch tensor of size (N, C, H, W)\n",
    "    \"\"\"\n",
    "\n",
    "    y = torch.empty_like(x)\n",
    "    # === Complete the code (0.5')\n",
    "    mean = torch.mean(x, 0)\n",
    "    variance = torch.var(x, 0, unbiased=False)\n",
    "    std = torch.sqrt(variance + eps)\n",
    "\n",
    "    for i in range(y.shape[0]):\n",
    "      y[i] = (x[i]-mean)/std\n",
    "\n",
    "    # === Complete the code\n",
    "    return y"
   ]
  },
  {
   "cell_type": "code",
   "execution_count": 12,
   "metadata": {
    "id": "ZqwnIjPOhCQm"
   },
   "outputs": [],
   "source": [
    "def my_sigmoid(x):\n",
    "    \"\"\"\n",
    "    Args:\n",
    "        x: torch tensor with any size\n",
    "\n",
    "    Return:\n",
    "        y: the logistic sigmoid function of x\n",
    "    \"\"\"\n",
    "    y = None\n",
    "    # === Complete the code (0.5')\n",
    "    y = 1.0 / (1.0 + torch.exp(-x))\n",
    "\n",
    "    # === Complete the code\n",
    "    return y"
   ]
  },
  {
   "cell_type": "code",
   "execution_count": 13,
   "metadata": {
    "id": "ZPIFPl3ehEFh"
   },
   "outputs": [],
   "source": [
    "def softmax(x):\n",
    "    x = np.array(x)\n",
    "    x = x - np.broadcast_to(np.max(x, axis=1, keepdims=True), x.shape)\n",
    "    result = np.exp(x)/np.sum(np.exp(x), axis=1, keepdims=True)\n",
    "\n",
    "    return result\n",
    "  \n",
    "def my_cross_entropy(p, y):\n",
    "    \"\"\"\n",
    "    Args:\n",
    "        p: torch tensor with size of (N, C),\n",
    "        y (int): torch tensor with size of (N), the values range from 0 to C-1\n",
    "\n",
    "    Return:\n",
    "        loss: the cross_entropy of predicted values p and target y.\n",
    "    \"\"\"\n",
    "    \n",
    "    # === Complete the code (0.5')\n",
    "    loss = np.zeros((p.shape[0],1))\n",
    "    y_one_hot = np.zeros((p.shape[0], p.shape[1]))\n",
    "\n",
    "    for i in range(p.shape[0]):\n",
    "      y_one_hot[i][int(y[i])] = 1 \n",
    "    p = softmax(p)\n",
    "    loss = torch.tensor(np.multiply(-np.log(p), y_one_hot).sum(axis = 1).mean(axis = 0))\n",
    "    # === Complete the code\n",
    "    return loss"
   ]
  },
  {
   "cell_type": "code",
   "execution_count": 14,
   "metadata": {
    "id": "dMnKzeVuhGxu"
   },
   "outputs": [],
   "source": [
    "my_max_pool_out = my_max_pool(x, kernel_size=2, stride=2, padding=1)\n",
    "my_avg_pool_out = my_avg_pool(x, kernel_size=2, stride=2, padding=1)\n",
    "my_conv_out = my_conv(x,\n",
    "                      in_channels=3,\n",
    "                      out_channels=6,\n",
    "                      kernel_size=3,\n",
    "                      stride=1,\n",
    "                      padding=0,\n",
    "                      weight=torch_conv.weight,\n",
    "                      bias=torch_conv.bias)\n",
    "my_norm_out = my_batchnorm(x, num_features=3, eps=1e-5)"
   ]
  },
  {
   "cell_type": "code",
   "execution_count": 15,
   "metadata": {
    "id": "yUOZJ875hLAD"
   },
   "outputs": [],
   "source": [
    "my_sigmoid_out = my_sigmoid(x)\n",
    "my_cross_entropy_out = my_cross_entropy(x[::, ::, 0, 0], tmp_tensor)"
   ]
  },
  {
   "cell_type": "markdown",
   "metadata": {
    "id": "jO-EHT7wm7Dk"
   },
   "source": [
    "### Step 4\n",
    "\n",
    "Compare and show that \"torch_xxx_out\" and \"my_xxx_out\" are equal up to small numerical errors."
   ]
  },
  {
   "cell_type": "code",
   "execution_count": 16,
   "metadata": {
    "colab": {
     "base_uri": "https://localhost:8080/"
    },
    "id": "eXnNfKKJhOAi",
    "outputId": "b505f1b4-43f5-48fa-bd9f-75d4a7826908"
   },
   "outputs": [
    {
     "name": "stdout",
     "output_type": "stream",
     "text": [
      "tensor(0.)\n",
      "tensor(0.)\n",
      "tensor(3.3662e-15, grad_fn=<MseLossBackward0>)\n",
      "tensor(0.8725, grad_fn=<MseLossBackward0>)\n"
     ]
    }
   ],
   "source": [
    "print(F.mse_loss(my_max_pool_out, torch_max_pool_out))\n",
    "print(F.mse_loss(my_avg_pool_out, torch_avg_pool_out))\n",
    "print(F.mse_loss(my_conv_out, torch_conv_out))\n",
    "print(F.mse_loss(my_norm_out, torch_norm_out))"
   ]
  },
  {
   "cell_type": "code",
   "execution_count": 17,
   "metadata": {
    "colab": {
     "base_uri": "https://localhost:8080/"
    },
    "id": "hHxuCzkmhP4l",
    "outputId": "fb038012-2c3a-4325-e8e4-83603f581152"
   },
   "outputs": [
    {
     "name": "stdout",
     "output_type": "stream",
     "text": [
      "tensor(8.9178e-17)\n",
      "tensor(0., dtype=torch.float64)\n"
     ]
    }
   ],
   "source": [
    "print(F.mse_loss(my_sigmoid_out, torch_sigmoid_out))\n",
    "print(F.mse_loss(my_cross_entropy_out, torch_cross_entropy_out))"
   ]
  },
  {
   "cell_type": "markdown",
   "metadata": {
    "id": "CJFZB_A7ddrC"
   },
   "source": [
    "## Train CNNs on CIFAR-10 dataset"
   ]
  },
  {
   "cell_type": "markdown",
   "metadata": {
    "id": "88y6cXmPs7_E"
   },
   "source": [
    "Implement a CNN and train for CIFAR10 with these definitions:\n",
    "\n",
    "1. cA-B = Conv2d with input A channels, output B channels - kernel size 3x3, stride (1,1), padding with zeros to keep image size constant, followed by ReLU;\n",
    "\n",
    "2. mp = maxpool2d kernel size 2x2, stride (2,2);\n",
    "\n",
    "3. bn = batchnorm2d with affine=False (i.e. non learning batch norm);\n",
    "\n",
    "4. fcA-B = nn.linear with input A nodes, output B nodes;\n",
    "\n",
    "5. aap = adaptive average pooling.\n",
    "\n",
    "Use the definition to make the architecture c3-16 -> c16-16 -> mp -> c16-32 -> c32-32 -> mp -> c32-64 -> c64-64 -> mp -> c64-128 -> c128-128 -> aap -> flatten -> fc128-10 -> cross entropy loss. Adjust learning rate, batch size and other hyper parameters to make classification results **> 75%**."
   ]
  },
  {
   "cell_type": "code",
   "execution_count": 18,
   "metadata": {
    "id": "HeUlgbGgg9JI"
   },
   "outputs": [],
   "source": [
    "# === Complete the code (1')\n",
    "num_epoch = 20 # TODO: please define the number of epoch here.\n",
    "batch_size = 64 # TODO: please fill the batch size here.\n",
    "# === Complete the code"
   ]
  },
  {
   "cell_type": "code",
   "execution_count": 19,
   "metadata": {
    "colab": {
     "base_uri": "https://localhost:8080/",
     "height": 100,
     "referenced_widgets": [
      "5b2a6fe68ded4af1b181c9821ea3901a",
      "1a4bcd2685ad43a1bb03055741e08e71",
      "c2f42f716db54bc6a0a92498efd16341",
      "69e87522543a49ffa93a8f4c432656d4",
      "bb67ff831e73418c8bb16fa5819c0931",
      "71e298cac3eb45f491f3da66b8cba55f",
      "5b2754e5906a4e33bbf45a377fb5dcc2",
      "801d03eac72442b5aefbe199ac21db32",
      "beeebb119b954b54a14df10fe0562a8e",
      "6d875c215bd54ce18f851d9acad678a6",
      "699ba414224d45488a5bc2463c0502c5"
     ]
    },
    "id": "e9DLvGs6hmLJ",
    "outputId": "ae80ec12-85bf-4b8b-c622-45503fdc5866"
   },
   "outputs": [
    {
     "name": "stdout",
     "output_type": "stream",
     "text": [
      "Downloading https://www.cs.toronto.edu/~kriz/cifar-10-python.tar.gz to ./data/cifar-10-python.tar.gz\n"
     ]
    },
    {
     "data": {
      "application/vnd.jupyter.widget-view+json": {
       "model_id": "5b2a6fe68ded4af1b181c9821ea3901a",
       "version_major": 2,
       "version_minor": 0
      },
      "text/plain": [
       "  0%|          | 0/170498071 [00:00<?, ?it/s]"
      ]
     },
     "metadata": {},
     "output_type": "display_data"
    },
    {
     "name": "stdout",
     "output_type": "stream",
     "text": [
      "Extracting ./data/cifar-10-python.tar.gz to ./data\n",
      "Files already downloaded and verified\n"
     ]
    }
   ],
   "source": [
    "transform = transforms.Compose(\n",
    "    [transforms.ToTensor(),\n",
    "     transforms.Normalize((0.5, 0.5, 0.5), (0.5, 0.5, 0.5))])\n",
    "\n",
    "trainset = torchvision.datasets.CIFAR10(root='./data',\n",
    "                                        train=True,\n",
    "                                        download=True,\n",
    "                                        transform=transform)\n",
    "trainloader = torch.utils.data.DataLoader(trainset,\n",
    "                                          batch_size=batch_size,\n",
    "                                          shuffle=True,\n",
    "                                          num_workers=1)\n",
    "\n",
    "testset = torchvision.datasets.CIFAR10(root='./data',\n",
    "                                       train=False,\n",
    "                                       download=True,\n",
    "                                       transform=transform)\n",
    "testloader = torch.utils.data.DataLoader(testset,\n",
    "                                         batch_size=batch_size,\n",
    "                                         shuffle=False,\n",
    "                                         num_workers=1)"
   ]
  },
  {
   "cell_type": "code",
   "execution_count": 20,
   "metadata": {
    "id": "o0VD5zmxhvkT"
   },
   "outputs": [],
   "source": [
    "# Creating a CNN model\n",
    "class CNN(nn.Module):\n",
    "    \n",
    "    def __init__(self, num_classes):\n",
    "        super(CNN, self).__init__()\n",
    "       \n",
    "        # === Complete the code (1.5')\n",
    "\n",
    "        self.cnn_layers = nn.Sequential(\n",
    "            nn.Conv2d(3, 16, kernel_size=3, stride=1, padding='same'),\n",
    "            nn.ReLU(),\n",
    "            nn.Conv2d(16, 16, kernel_size=3, stride=1, padding='same'),\n",
    "            nn.ReLU(),\n",
    "\n",
    "            nn.MaxPool2d(kernel_size=2, stride=2),\n",
    "\n",
    "            nn.Conv2d(16, 32, kernel_size=3, stride=1, padding='same'),\n",
    "            nn.ReLU(),\n",
    "            nn.Conv2d(32, 32, kernel_size=3, stride=1, padding='same'),\n",
    "            nn.ReLU(),\n",
    "\n",
    "            nn.MaxPool2d(kernel_size=2, stride=2),\n",
    "\n",
    "            nn.Conv2d(32, 64, kernel_size=3, stride=1, padding='same'),\n",
    "            nn.ReLU(),\n",
    "            nn.Conv2d(64, 64, kernel_size=3, stride=1, padding='same'),\n",
    "            nn.ReLU(),\n",
    "\n",
    "            nn.MaxPool2d(kernel_size=2, stride=2),\n",
    "\n",
    "            nn.Conv2d(64, 128, kernel_size=3, stride=1, padding='same'),\n",
    "            nn.ReLU(),\n",
    "            nn.Conv2d(128, 128, kernel_size=3, stride=1, padding='same'),\n",
    "            nn.ReLU(),\n",
    "\n",
    "            nn.AdaptiveAvgPool2d(1),\n",
    "\n",
    "            nn.Flatten(),\n",
    "            \n",
    "            nn.Linear(128, 10)\n",
    "        )\n",
    "\n",
    "        # === Complete the code\n",
    "        \n",
    "    def forward(self, x):\n",
    "        # === Complete the code (1.5')\n",
    "        out = self.cnn_layers(x)\n",
    "        # === Complete the code\n",
    "        return out"
   ]
  },
  {
   "cell_type": "code",
   "execution_count": 21,
   "metadata": {
    "id": "Q8LfQbxThx_0"
   },
   "outputs": [],
   "source": [
    "device = torch.device('cuda:0' if torch.cuda.is_available() else 'cpu')\n",
    "model = CNN(10).to(device)\n",
    "criterion = nn.CrossEntropyLoss()\n",
    "optimizer = torch.optim.Adam(model.parameters(), lr=0.0005)"
   ]
  },
  {
   "cell_type": "code",
   "execution_count": 22,
   "metadata": {
    "colab": {
     "base_uri": "https://localhost:8080/"
    },
    "id": "pYClpDydh0qA",
    "outputId": "8766ff14-6c6a-4bd4-d31e-19e9f62f16cf"
   },
   "outputs": [
    {
     "name": "stdout",
     "output_type": "stream",
     "text": [
      "epoch   0 |   128 batches loss: 2.1524\n",
      "epoch   0 |   256 batches loss: 1.9640\n",
      "epoch   0 |   384 batches loss: 1.8074\n",
      "epoch   0 |   512 batches loss: 1.7234\n",
      "epoch   0 |   640 batches loss: 1.6498\n",
      "epoch   0 |   768 batches loss: 1.5916\n",
      "epoch   1 |   128 batches loss: 1.5352\n",
      "epoch   1 |   256 batches loss: 1.4719\n",
      "epoch   1 |   384 batches loss: 1.4446\n",
      "epoch   1 |   512 batches loss: 1.4073\n",
      "epoch   1 |   640 batches loss: 1.3395\n",
      "epoch   1 |   768 batches loss: 1.3045\n",
      "epoch   2 |   128 batches loss: 1.2881\n",
      "epoch   2 |   256 batches loss: 1.2670\n",
      "epoch   2 |   384 batches loss: 1.2483\n",
      "epoch   2 |   512 batches loss: 1.2209\n",
      "epoch   2 |   640 batches loss: 1.2002\n",
      "epoch   2 |   768 batches loss: 1.1571\n",
      "epoch   3 |   128 batches loss: 1.1508\n",
      "epoch   3 |   256 batches loss: 1.1352\n",
      "epoch   3 |   384 batches loss: 1.1143\n",
      "epoch   3 |   512 batches loss: 1.1004\n",
      "epoch   3 |   640 batches loss: 1.0619\n",
      "epoch   3 |   768 batches loss: 1.0753\n",
      "epoch   4 |   128 batches loss: 1.0483\n",
      "epoch   4 |   256 batches loss: 1.0104\n",
      "epoch   4 |   384 batches loss: 1.0142\n",
      "epoch   4 |   512 batches loss: 1.0141\n",
      "epoch   4 |   640 batches loss: 0.9781\n",
      "epoch   4 |   768 batches loss: 0.9840\n",
      "epoch   5 |   128 batches loss: 0.9524\n",
      "epoch   5 |   256 batches loss: 0.9282\n",
      "epoch   5 |   384 batches loss: 0.9190\n",
      "epoch   5 |   512 batches loss: 0.9053\n",
      "epoch   5 |   640 batches loss: 0.9151\n",
      "epoch   5 |   768 batches loss: 0.9114\n",
      "epoch   6 |   128 batches loss: 0.8714\n",
      "epoch   6 |   256 batches loss: 0.8521\n",
      "epoch   6 |   384 batches loss: 0.8595\n",
      "epoch   6 |   512 batches loss: 0.8381\n",
      "epoch   6 |   640 batches loss: 0.8436\n",
      "epoch   6 |   768 batches loss: 0.8609\n",
      "epoch   7 |   128 batches loss: 0.7959\n",
      "epoch   7 |   256 batches loss: 0.8235\n",
      "epoch   7 |   384 batches loss: 0.8064\n",
      "epoch   7 |   512 batches loss: 0.8053\n",
      "epoch   7 |   640 batches loss: 0.7640\n",
      "epoch   7 |   768 batches loss: 0.7987\n",
      "epoch   8 |   128 batches loss: 0.7312\n",
      "epoch   8 |   256 batches loss: 0.7466\n",
      "epoch   8 |   384 batches loss: 0.7522\n",
      "epoch   8 |   512 batches loss: 0.7326\n",
      "epoch   8 |   640 batches loss: 0.7447\n",
      "epoch   8 |   768 batches loss: 0.7177\n",
      "epoch   9 |   128 batches loss: 0.6897\n",
      "epoch   9 |   256 batches loss: 0.6936\n",
      "epoch   9 |   384 batches loss: 0.6961\n",
      "epoch   9 |   512 batches loss: 0.7003\n",
      "epoch   9 |   640 batches loss: 0.6932\n",
      "epoch   9 |   768 batches loss: 0.6826\n",
      "epoch  10 |   128 batches loss: 0.6399\n",
      "epoch  10 |   256 batches loss: 0.6553\n",
      "epoch  10 |   384 batches loss: 0.6458\n",
      "epoch  10 |   512 batches loss: 0.6510\n",
      "epoch  10 |   640 batches loss: 0.6514\n",
      "epoch  10 |   768 batches loss: 0.6598\n",
      "epoch  11 |   128 batches loss: 0.5971\n",
      "epoch  11 |   256 batches loss: 0.6274\n",
      "epoch  11 |   384 batches loss: 0.6187\n",
      "epoch  11 |   512 batches loss: 0.6173\n",
      "epoch  11 |   640 batches loss: 0.6061\n",
      "epoch  11 |   768 batches loss: 0.6111\n",
      "epoch  12 |   128 batches loss: 0.5795\n",
      "epoch  12 |   256 batches loss: 0.5537\n",
      "epoch  12 |   384 batches loss: 0.5547\n",
      "epoch  12 |   512 batches loss: 0.5728\n",
      "epoch  12 |   640 batches loss: 0.5758\n",
      "epoch  12 |   768 batches loss: 0.5620\n",
      "epoch  13 |   128 batches loss: 0.5483\n",
      "epoch  13 |   256 batches loss: 0.5430\n",
      "epoch  13 |   384 batches loss: 0.5349\n",
      "epoch  13 |   512 batches loss: 0.5451\n",
      "epoch  13 |   640 batches loss: 0.5158\n",
      "epoch  13 |   768 batches loss: 0.5302\n",
      "epoch  14 |   128 batches loss: 0.4992\n",
      "epoch  14 |   256 batches loss: 0.4849\n",
      "epoch  14 |   384 batches loss: 0.5011\n",
      "epoch  14 |   512 batches loss: 0.5072\n",
      "epoch  14 |   640 batches loss: 0.5096\n",
      "epoch  14 |   768 batches loss: 0.5004\n",
      "epoch  15 |   128 batches loss: 0.4824\n",
      "epoch  15 |   256 batches loss: 0.4584\n",
      "epoch  15 |   384 batches loss: 0.4689\n",
      "epoch  15 |   512 batches loss: 0.4682\n",
      "epoch  15 |   640 batches loss: 0.4878\n",
      "epoch  15 |   768 batches loss: 0.4753\n",
      "epoch  16 |   128 batches loss: 0.4553\n",
      "epoch  16 |   256 batches loss: 0.4478\n",
      "epoch  16 |   384 batches loss: 0.4353\n",
      "epoch  16 |   512 batches loss: 0.4466\n",
      "epoch  16 |   640 batches loss: 0.4518\n",
      "epoch  16 |   768 batches loss: 0.4547\n",
      "epoch  17 |   128 batches loss: 0.4130\n",
      "epoch  17 |   256 batches loss: 0.4078\n",
      "epoch  17 |   384 batches loss: 0.4213\n",
      "epoch  17 |   512 batches loss: 0.4173\n",
      "epoch  17 |   640 batches loss: 0.4390\n",
      "epoch  17 |   768 batches loss: 0.4154\n",
      "epoch  18 |   128 batches loss: 0.3693\n",
      "epoch  18 |   256 batches loss: 0.3821\n",
      "epoch  18 |   384 batches loss: 0.3979\n",
      "epoch  18 |   512 batches loss: 0.3883\n",
      "epoch  18 |   640 batches loss: 0.3893\n",
      "epoch  18 |   768 batches loss: 0.4018\n",
      "epoch  19 |   128 batches loss: 0.3524\n",
      "epoch  19 |   256 batches loss: 0.3410\n",
      "epoch  19 |   384 batches loss: 0.3431\n",
      "epoch  19 |   512 batches loss: 0.3687\n",
      "epoch  19 |   640 batches loss: 0.3690\n",
      "epoch  19 |   768 batches loss: 0.3637\n",
      "Finished Training\n"
     ]
    }
   ],
   "source": [
    "for epoch in range(num_epoch):\n",
    "\n",
    "    running_loss = 0.0\n",
    "    for i, data in enumerate(trainloader, 0):\n",
    "\n",
    "        inputs, labels = data[0].to(device), data[1].to(device)\n",
    "        # === Complete the code (1')\n",
    "        optimizer.zero_grad()\n",
    "\n",
    "        outputs = model(inputs)\n",
    "        loss = criterion(outputs, labels)\n",
    "        loss.backward()\n",
    "        optimizer.step()\n",
    "        # === Complete the code\n",
    "\n",
    "        running_loss += loss.item()\n",
    "        if (i + 1) % 128 == 0:\n",
    "            print('epoch {:3d} | {:5d} batches loss: {:.4f}'.format(epoch, i + 1, running_loss/128))\n",
    "            running_loss = 0.0\n",
    "\n",
    "print('Finished Training')"
   ]
  },
  {
   "cell_type": "code",
   "execution_count": 23,
   "metadata": {
    "id": "kuzhd2zWh415"
   },
   "outputs": [],
   "source": [
    "dataiter = iter(testloader)\n",
    "images, labels = dataiter.next()"
   ]
  },
  {
   "cell_type": "code",
   "execution_count": 24,
   "metadata": {
    "colab": {
     "base_uri": "https://localhost:8080/"
    },
    "id": "K0_3yVTTh-U6",
    "outputId": "d431e0f8-40b9-48fa-fc50-5c3adfa2f1c4"
   },
   "outputs": [
    {
     "name": "stdout",
     "output_type": "stream",
     "text": [
      "Accuracy of the network on the 10000 test images: 78 %\n"
     ]
    }
   ],
   "source": [
    "correct = 0\n",
    "total = 0\n",
    "with torch.no_grad():\n",
    "    for data in testloader:\n",
    "        #images, labels = data\n",
    "        images, labels = data[0].to(device), data[1].to(device)\n",
    "        outputs = model(images)\n",
    "        _, predicted = torch.max(outputs.data, 1)\n",
    "        total += labels.size(0)\n",
    "        correct += (predicted == labels).sum().item()\n",
    "\n",
    "print(f'Accuracy of the network on the 10000 test images: {100 * correct // total} %')"
   ]
  },
  {
   "cell_type": "markdown",
   "metadata": {
    "id": "z53XxMASdm-A"
   },
   "source": [
    "## Discussion (2 points)"
   ]
  },
  {
   "cell_type": "markdown",
   "metadata": {
    "id": "QpbGzIo9dqWN"
   },
   "source": [
    "Calculate Parameters and FLOPs(Floating point operations) of **AlexNet** and analyse the ratio of the number of parameters and the amount of calculations for different layers in AlexNet.\n",
    "\n",
    "Hint:\n",
    "\n",
    "1. You can refer https://pytorch.org/vision/stable/_modules/torchvision/models/alexnet.html for architecture of AlexNet.\n",
    "2. You only need to make estimates and do not need to perform rigorous calculations, (e.g. only consider the FLOPs of the convolution and FC in AlexNet model)\n",
    "3. Because Multiply Accumulate (MAC) operations are performed on the hardware, it is possible to simply consider only the number of multiplications when considering the number of operations when calculating FLOPs."
   ]
  },
  {
   "cell_type": "markdown",
   "metadata": {
    "id": "PB9Y3Ag5fPnV"
   },
   "source": [
    "AlexNet trained on Imagenet. Number of classes = 1000. Resolution was 224x224 with 3 input channels RGB.\n",
    "\n",
    "Only consider the FLOPs of the convolution and FC in AlexNet model.\n",
    "\n",
    "FLOPs are per sample per forward pass. \n",
    "\n",
    "**CNN:**\n",
    "\n",
    "params to learn = len(receptive field) x out_channels x in_channels + out_channels (for bias)\n",
    "\n",
    "FLOPs per convolution = len(receptive field) x (# of receptive fields) x (in_channels) x (out_channels)\n",
    "\n",
    "**Linear layer:**\n",
    "\n",
    "params to learn = (in_features +1) x out_features\n",
    "\n",
    "FLOPs = in_features mult-adds per element of output = in_features x (batch_size x out_features)\n",
    "\n",
    "| Layer                                                  | Params                                                    |         FLOPs per sample         | (flops/params)               |\n",
    "| ------------------------------------------------------ | --------------------------------------------------------- | :------------------------------: | ---------------------------- |\n",
    "| **Conv2D**                                             | (kernel_size) * out_channels * in_channels + out_channels | params * (# of receptive fields) | # of receptive fields        |\n",
    "| **Linear layer**                                       | (in_features + 1) * out_features                          |    in_features * out_features    | ~1                           |\n",
    "| nn.Conv2d(3, 64, kernel_size=11, stride=4, padding=2), | (11 * 11) * 64 * 3 + 64 = 23296                           |         70470400 = ~70M          | # of receptive fields = 3025 |\n",
    "| nn.ReLU(inplace=True)                                  | 0                                                         |                -                 |                              |\n",
    "| nn.MaxPool2d(kernel_size=3, stride=2),                 | 0                                                         |                -                 |                              |\n",
    "| nn.Conv2d(64, 192, kernel_size=5, padding=2),          | (5 * 5) * 192 * 64 + 192 = 307392                         |        224088768 = ~224M         | # of receptive fields = 729  |\n",
    "| nn.ReLU(inplace=True),                                 | 0                                                         |                -                 |                              |\n",
    "| nn.MaxPool2d(kernel_size=3, stride=2),                 | 0                                                         |                -                 |                              |\n",
    "| nn.Conv2d(192, 384, kernel_size=3, padding=1),         | (3 * 3) * 384 * 192 + 384 = 663936                        |        112205184 = ~112M         | # of receptive fields = 169  |\n",
    "| nn.ReLU(inplace=True),                                 | 0                                                         |                -                 |                              |\n",
    "| nn.Conv2d(384, 256, kernel_size=3, padding=1),         | (3 * 3) * 256 * 384 + 256 = 884992                        |        149563648 = ~149M         | # of receptive fields = 169  |\n",
    "| nn.ReLU(inplace=True),                                 | 0                                                         |                -                 |                              |\n",
    "| nn.Conv2d(256, 256, kernel_size=3, padding=1)          | (3 * 3) * 256 * 256 + 256 = 590080                        |         99723520 = ~99M          | # of receptive fields = 169  |\n",
    "| nn.ReLU(inplace=True),                                 | 0                                                         |                -                 |                              |\n",
    "| nn.MaxPool2d(kernel_size=3, stride=2),                 | 0                                                         |                -                 |                              |\n",
    "| nn.AdaptiveAvgPool2d((6, 6))                           | 0                                                         |                -                 |                              |\n",
    "| nn.Dropout(p=dropout),                                 | 0                                                         |                -                 |                              |\n",
    "| nn.Linear(256 * 6 * 6, 4096),                          | ((256 * 6 * 6)+1) * 4096 = 37752832                       |    256 * 6 * 6 * 4096 = 37.7M    | ~1                           |\n",
    "| nn.ReLU(inplace=True),                                 | 0                                                         |                -                 |                              |\n",
    "| nn.Dropout(p=dropout),                                 | 0                                                         |                -                 |                              |\n",
    "| nn.Linear(4096, 4096),                                 | (4096+1) * 4096 = 16781312                                |       4096 * 4096 = 16.7M        | ~1                           |\n",
    "| nn.ReLU(inplace=True),                                 | 0                                                         |                -                 |                              |\n",
    "| nn.Linear(4096, num_classes),                          | (4096+1) * 1000                                           |       (4096) * 1000 = ~4M        | ~1                           |\n",
    "\n",
    "\n",
    "\n"
   ]
  }
 ],
 "metadata": {
  "accelerator": "GPU",
  "colab": {
   "collapsed_sections": [],
   "provenance": []
  },
  "gpuClass": "standard",
  "kernelspec": {
   "display_name": "Python 3 (ipykernel)",
   "language": "python",
   "name": "python3"
  },
  "language_info": {
   "codemirror_mode": {
    "name": "ipython",
    "version": 3
   },
   "file_extension": ".py",
   "mimetype": "text/x-python",
   "name": "python",
   "nbconvert_exporter": "python",
   "pygments_lexer": "ipython3",
   "version": "3.10.10"
  },
  "widgets": {
   "application/vnd.jupyter.widget-state+json": {
    "1a4bcd2685ad43a1bb03055741e08e71": {
     "model_module": "@jupyter-widgets/controls",
     "model_module_version": "1.5.0",
     "model_name": "HTMLModel",
     "state": {
      "_dom_classes": [],
      "_model_module": "@jupyter-widgets/controls",
      "_model_module_version": "1.5.0",
      "_model_name": "HTMLModel",
      "_view_count": null,
      "_view_module": "@jupyter-widgets/controls",
      "_view_module_version": "1.5.0",
      "_view_name": "HTMLView",
      "description": "",
      "description_tooltip": null,
      "layout": "IPY_MODEL_71e298cac3eb45f491f3da66b8cba55f",
      "placeholder": "​",
      "style": "IPY_MODEL_5b2754e5906a4e33bbf45a377fb5dcc2",
      "value": "100%"
     }
    },
    "5b2754e5906a4e33bbf45a377fb5dcc2": {
     "model_module": "@jupyter-widgets/controls",
     "model_module_version": "1.5.0",
     "model_name": "DescriptionStyleModel",
     "state": {
      "_model_module": "@jupyter-widgets/controls",
      "_model_module_version": "1.5.0",
      "_model_name": "DescriptionStyleModel",
      "_view_count": null,
      "_view_module": "@jupyter-widgets/base",
      "_view_module_version": "1.2.0",
      "_view_name": "StyleView",
      "description_width": ""
     }
    },
    "5b2a6fe68ded4af1b181c9821ea3901a": {
     "model_module": "@jupyter-widgets/controls",
     "model_module_version": "1.5.0",
     "model_name": "HBoxModel",
     "state": {
      "_dom_classes": [],
      "_model_module": "@jupyter-widgets/controls",
      "_model_module_version": "1.5.0",
      "_model_name": "HBoxModel",
      "_view_count": null,
      "_view_module": "@jupyter-widgets/controls",
      "_view_module_version": "1.5.0",
      "_view_name": "HBoxView",
      "box_style": "",
      "children": [
       "IPY_MODEL_1a4bcd2685ad43a1bb03055741e08e71",
       "IPY_MODEL_c2f42f716db54bc6a0a92498efd16341",
       "IPY_MODEL_69e87522543a49ffa93a8f4c432656d4"
      ],
      "layout": "IPY_MODEL_bb67ff831e73418c8bb16fa5819c0931"
     }
    },
    "699ba414224d45488a5bc2463c0502c5": {
     "model_module": "@jupyter-widgets/controls",
     "model_module_version": "1.5.0",
     "model_name": "DescriptionStyleModel",
     "state": {
      "_model_module": "@jupyter-widgets/controls",
      "_model_module_version": "1.5.0",
      "_model_name": "DescriptionStyleModel",
      "_view_count": null,
      "_view_module": "@jupyter-widgets/base",
      "_view_module_version": "1.2.0",
      "_view_name": "StyleView",
      "description_width": ""
     }
    },
    "69e87522543a49ffa93a8f4c432656d4": {
     "model_module": "@jupyter-widgets/controls",
     "model_module_version": "1.5.0",
     "model_name": "HTMLModel",
     "state": {
      "_dom_classes": [],
      "_model_module": "@jupyter-widgets/controls",
      "_model_module_version": "1.5.0",
      "_model_name": "HTMLModel",
      "_view_count": null,
      "_view_module": "@jupyter-widgets/controls",
      "_view_module_version": "1.5.0",
      "_view_name": "HTMLView",
      "description": "",
      "description_tooltip": null,
      "layout": "IPY_MODEL_6d875c215bd54ce18f851d9acad678a6",
      "placeholder": "​",
      "style": "IPY_MODEL_699ba414224d45488a5bc2463c0502c5",
      "value": " 170498071/170498071 [00:03&lt;00:00, 49543925.77it/s]"
     }
    },
    "6d875c215bd54ce18f851d9acad678a6": {
     "model_module": "@jupyter-widgets/base",
     "model_module_version": "1.2.0",
     "model_name": "LayoutModel",
     "state": {
      "_model_module": "@jupyter-widgets/base",
      "_model_module_version": "1.2.0",
      "_model_name": "LayoutModel",
      "_view_count": null,
      "_view_module": "@jupyter-widgets/base",
      "_view_module_version": "1.2.0",
      "_view_name": "LayoutView",
      "align_content": null,
      "align_items": null,
      "align_self": null,
      "border": null,
      "bottom": null,
      "display": null,
      "flex": null,
      "flex_flow": null,
      "grid_area": null,
      "grid_auto_columns": null,
      "grid_auto_flow": null,
      "grid_auto_rows": null,
      "grid_column": null,
      "grid_gap": null,
      "grid_row": null,
      "grid_template_areas": null,
      "grid_template_columns": null,
      "grid_template_rows": null,
      "height": null,
      "justify_content": null,
      "justify_items": null,
      "left": null,
      "margin": null,
      "max_height": null,
      "max_width": null,
      "min_height": null,
      "min_width": null,
      "object_fit": null,
      "object_position": null,
      "order": null,
      "overflow": null,
      "overflow_x": null,
      "overflow_y": null,
      "padding": null,
      "right": null,
      "top": null,
      "visibility": null,
      "width": null
     }
    },
    "71e298cac3eb45f491f3da66b8cba55f": {
     "model_module": "@jupyter-widgets/base",
     "model_module_version": "1.2.0",
     "model_name": "LayoutModel",
     "state": {
      "_model_module": "@jupyter-widgets/base",
      "_model_module_version": "1.2.0",
      "_model_name": "LayoutModel",
      "_view_count": null,
      "_view_module": "@jupyter-widgets/base",
      "_view_module_version": "1.2.0",
      "_view_name": "LayoutView",
      "align_content": null,
      "align_items": null,
      "align_self": null,
      "border": null,
      "bottom": null,
      "display": null,
      "flex": null,
      "flex_flow": null,
      "grid_area": null,
      "grid_auto_columns": null,
      "grid_auto_flow": null,
      "grid_auto_rows": null,
      "grid_column": null,
      "grid_gap": null,
      "grid_row": null,
      "grid_template_areas": null,
      "grid_template_columns": null,
      "grid_template_rows": null,
      "height": null,
      "justify_content": null,
      "justify_items": null,
      "left": null,
      "margin": null,
      "max_height": null,
      "max_width": null,
      "min_height": null,
      "min_width": null,
      "object_fit": null,
      "object_position": null,
      "order": null,
      "overflow": null,
      "overflow_x": null,
      "overflow_y": null,
      "padding": null,
      "right": null,
      "top": null,
      "visibility": null,
      "width": null
     }
    },
    "801d03eac72442b5aefbe199ac21db32": {
     "model_module": "@jupyter-widgets/base",
     "model_module_version": "1.2.0",
     "model_name": "LayoutModel",
     "state": {
      "_model_module": "@jupyter-widgets/base",
      "_model_module_version": "1.2.0",
      "_model_name": "LayoutModel",
      "_view_count": null,
      "_view_module": "@jupyter-widgets/base",
      "_view_module_version": "1.2.0",
      "_view_name": "LayoutView",
      "align_content": null,
      "align_items": null,
      "align_self": null,
      "border": null,
      "bottom": null,
      "display": null,
      "flex": null,
      "flex_flow": null,
      "grid_area": null,
      "grid_auto_columns": null,
      "grid_auto_flow": null,
      "grid_auto_rows": null,
      "grid_column": null,
      "grid_gap": null,
      "grid_row": null,
      "grid_template_areas": null,
      "grid_template_columns": null,
      "grid_template_rows": null,
      "height": null,
      "justify_content": null,
      "justify_items": null,
      "left": null,
      "margin": null,
      "max_height": null,
      "max_width": null,
      "min_height": null,
      "min_width": null,
      "object_fit": null,
      "object_position": null,
      "order": null,
      "overflow": null,
      "overflow_x": null,
      "overflow_y": null,
      "padding": null,
      "right": null,
      "top": null,
      "visibility": null,
      "width": null
     }
    },
    "bb67ff831e73418c8bb16fa5819c0931": {
     "model_module": "@jupyter-widgets/base",
     "model_module_version": "1.2.0",
     "model_name": "LayoutModel",
     "state": {
      "_model_module": "@jupyter-widgets/base",
      "_model_module_version": "1.2.0",
      "_model_name": "LayoutModel",
      "_view_count": null,
      "_view_module": "@jupyter-widgets/base",
      "_view_module_version": "1.2.0",
      "_view_name": "LayoutView",
      "align_content": null,
      "align_items": null,
      "align_self": null,
      "border": null,
      "bottom": null,
      "display": null,
      "flex": null,
      "flex_flow": null,
      "grid_area": null,
      "grid_auto_columns": null,
      "grid_auto_flow": null,
      "grid_auto_rows": null,
      "grid_column": null,
      "grid_gap": null,
      "grid_row": null,
      "grid_template_areas": null,
      "grid_template_columns": null,
      "grid_template_rows": null,
      "height": null,
      "justify_content": null,
      "justify_items": null,
      "left": null,
      "margin": null,
      "max_height": null,
      "max_width": null,
      "min_height": null,
      "min_width": null,
      "object_fit": null,
      "object_position": null,
      "order": null,
      "overflow": null,
      "overflow_x": null,
      "overflow_y": null,
      "padding": null,
      "right": null,
      "top": null,
      "visibility": null,
      "width": null
     }
    },
    "beeebb119b954b54a14df10fe0562a8e": {
     "model_module": "@jupyter-widgets/controls",
     "model_module_version": "1.5.0",
     "model_name": "ProgressStyleModel",
     "state": {
      "_model_module": "@jupyter-widgets/controls",
      "_model_module_version": "1.5.0",
      "_model_name": "ProgressStyleModel",
      "_view_count": null,
      "_view_module": "@jupyter-widgets/base",
      "_view_module_version": "1.2.0",
      "_view_name": "StyleView",
      "bar_color": null,
      "description_width": ""
     }
    },
    "c2f42f716db54bc6a0a92498efd16341": {
     "model_module": "@jupyter-widgets/controls",
     "model_module_version": "1.5.0",
     "model_name": "FloatProgressModel",
     "state": {
      "_dom_classes": [],
      "_model_module": "@jupyter-widgets/controls",
      "_model_module_version": "1.5.0",
      "_model_name": "FloatProgressModel",
      "_view_count": null,
      "_view_module": "@jupyter-widgets/controls",
      "_view_module_version": "1.5.0",
      "_view_name": "ProgressView",
      "bar_style": "success",
      "description": "",
      "description_tooltip": null,
      "layout": "IPY_MODEL_801d03eac72442b5aefbe199ac21db32",
      "max": 170498071,
      "min": 0,
      "orientation": "horizontal",
      "style": "IPY_MODEL_beeebb119b954b54a14df10fe0562a8e",
      "value": 170498071
     }
    }
   }
  }
 },
 "nbformat": 4,
 "nbformat_minor": 1
}
