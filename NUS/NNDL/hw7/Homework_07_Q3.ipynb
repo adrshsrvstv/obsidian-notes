{
  "cells": [
    {
      "cell_type": "markdown",
      "metadata": {
        "id": "0n_Je_X2yzOt"
      },
      "source": [
        "# Welcome to CS 5242 **Homework 7**\n",
        "\n",
        "ASSIGNMENT DEADLINE ⏰ : **6 Nov 2022, 23:59**\n",
        "\n",
        "In this assignment, we have three questions. This is the third question and please write the answer in this notebook.\n",
        "\n",
        "Colab is a hosted Jupyter notebook service that requires no setup to use, while providing access free of charge to computing resources including GPUs. In this semester, we will use Colab to run our experiments.\n",
        "\n",
        "### **Grades Policy**\n",
        "\n",
        "We have 10 points for this homework. 15% off per day late, 0 scores if you submit it 7 days after the deadline.\n",
        "\n",
        "### **Cautions**\n",
        "\n",
        "**DO NOT** copy the code from the internet, e.g. GitHub.\n",
        "\n",
        "**DO NOT** use external libraries like Tensorflow, keras in your implementation.\n",
        "\n",
        "---\n",
        "\n",
        "### **Contact**\n",
        "\n",
        "Please feel free to contact us if you have any question about this homework or need any further information.\n",
        "\n",
        "Slack (Recommend): Lin Qiuxia\n",
        "\n",
        "TA Email: qiuxia.lin@u.nus.edu\n",
        "\n",
        "> If you have not join the slack group, you can click [here](https://join.slack.com/t/cs5242ay20222-oiw1784/shared_invite/zt-1eiv24k1t-0J9EI7vz3uQmAHa68qU0aw)"
      ]
    },
    {
      "cell_type": "markdown",
      "metadata": {
        "id": "YsSR6XdA_J_U"
      },
      "source": [
        "# Question 3 (3 Points)\n",
        "In this question, we will implement a Deep Convolutional GANs to generate face images. \n",
        "\n",
        "Most codes are provided and a few codes are missing. Please enter your codes in the highlighted parts and run all the cells to provide proper outputs. \n",
        "\n",
        "Feel free to adjust model hyperparameter values when training the model. "
      ]
    },
    {
      "cell_type": "code",
      "execution_count": null,
      "metadata": {
        "id": "wI3WwhKvfHgm",
        "vscode": {
          "languageId": "python"
        }
      },
      "outputs": [],
      "source": [
        "!wget https://www.dropbox.com/s/rbajpdlh7efkdo1/male_female_face_images.zip\n",
        "!unzip -q male_female_face_images.zip"
      ]
    },
    {
      "cell_type": "code",
      "execution_count": null,
      "metadata": {
        "id": "WeJpNSnLfLr5",
        "vscode": {
          "languageId": "python"
        }
      },
      "outputs": [],
      "source": [
        "!pip install -q --upgrade torch_snippets\n",
        "from torch_snippets import *\n",
        "import torchvision\n",
        "from torchvision import transforms\n",
        "import torchvision.utils as vutils\n",
        "import cv2, numpy as np, pandas as pd\n",
        "device = \"cuda\" if torch.cuda.is_available() else \"cpu\""
      ]
    },
    {
      "cell_type": "code",
      "execution_count": null,
      "metadata": {
        "id": "MxnHjD0bfNnP",
        "vscode": {
          "languageId": "python"
        }
      },
      "outputs": [],
      "source": [
        "face_cascade = cv2.CascadeClassifier(cv2.data.haarcascades + 'haarcascade_frontalface_default.xml')"
      ]
    },
    {
      "cell_type": "code",
      "execution_count": null,
      "metadata": {
        "id": "4toje9ZyfPJw",
        "vscode": {
          "languageId": "python"
        }
      },
      "outputs": [],
      "source": [
        "!mkdir cropped_faces\n",
        "images = Glob('/content/females/*.jpg')+Glob('/content/males/*.jpg')\n",
        "for i in range(len(images)):\n",
        "    img = read(images[i],1)\n",
        "    gray = cv2.cvtColor(img, cv2.COLOR_BGR2GRAY)\n",
        "    faces = face_cascade.detectMultiScale(gray, 1.3, 5)\n",
        "    for (x,y,w,h) in faces:\n",
        "        img2 = img[y:(y+h),x:(x+w),:]\n",
        "    cv2.imwrite('cropped_faces/'+str(i)+'.jpg',cv2.cvtColor(img2, cv2.COLOR_RGB2BGR))"
      ]
    },
    {
      "cell_type": "code",
      "execution_count": null,
      "metadata": {
        "id": "XqeA3FRrfRaW",
        "vscode": {
          "languageId": "python"
        }
      },
      "outputs": [],
      "source": [
        "transform=transforms.Compose([\n",
        "                               transforms.Resize(64),\n",
        "                               transforms.CenterCrop(64),\n",
        "                               transforms.ToTensor(),\n",
        "                               transforms.Normalize((0.5, 0.5, 0.5), (0.5, 0.5, 0.5))])"
      ]
    },
    {
      "cell_type": "code",
      "execution_count": null,
      "metadata": {
        "id": "0iSU5PzTfhlu",
        "vscode": {
          "languageId": "python"
        }
      },
      "outputs": [],
      "source": [
        "class Faces(Dataset):\n",
        "    def __init__(self, folder):\n",
        "        super().__init__()\n",
        "        self.folder = folder\n",
        "        self.images = sorted(Glob(folder))\n",
        "    def __len__(self):\n",
        "        return len(self.images)\n",
        "    def __getitem__(self, ix):\n",
        "        image_path = self.images[ix]\n",
        "        image = Image.open(image_path)\n",
        "        image = transform(image)\n",
        "        return image"
      ]
    },
    {
      "cell_type": "code",
      "execution_count": null,
      "metadata": {
        "id": "gX1o-X16fil0",
        "vscode": {
          "languageId": "python"
        }
      },
      "outputs": [],
      "source": [
        "ds = Faces(folder='cropped_faces/')"
      ]
    },
    {
      "cell_type": "code",
      "execution_count": null,
      "metadata": {
        "id": "M27gcVo8f5ei",
        "vscode": {
          "languageId": "python"
        }
      },
      "outputs": [],
      "source": [
        "dataloader = DataLoader(ds, batch_size=64, shuffle=True, num_workers=8)"
      ]
    },
    {
      "cell_type": "code",
      "execution_count": null,
      "metadata": {
        "id": "Pst13pIvf8vy",
        "vscode": {
          "languageId": "python"
        }
      },
      "outputs": [],
      "source": [
        "class Discriminator(nn.Module):\n",
        "    def __init__(self):\n",
        "        super(Discriminator, self).__init__()\n",
        "        self.model = nn.Sequential(\n",
        "            ###################################\n",
        "            ###Please enter your codes here####\n",
        "            ###################################\n",
        "       \n",
        "       \n",
        "\n",
        "\n",
        "\n",
        "\n",
        "\n",
        "\n",
        "            ####################################\n",
        "        )\n",
        "   \n",
        "    def forward(self, input): return self.model(input)"
      ]
    },
    {
      "cell_type": "code",
      "execution_count": null,
      "metadata": {
        "id": "FV_-iDJGf-53",
        "vscode": {
          "languageId": "python"
        }
      },
      "outputs": [],
      "source": [
        "!pip install torch_summary\n",
        "from torchsummary import summary\n",
        "discriminator = Discriminator().to(device)\n",
        "summary(discriminator,torch.zeros(1,3,64,64));"
      ]
    },
    {
      "cell_type": "code",
      "execution_count": null,
      "metadata": {
        "id": "BYZZuAW-gAvU",
        "vscode": {
          "languageId": "python"
        }
      },
      "outputs": [],
      "source": [
        "class Generator(nn.Module):\n",
        "    def __init__(self):\n",
        "        super(Generator,self).__init__()\n",
        "        self.model = nn.Sequential(\n",
        "            ###################################\n",
        "            ###Please enter your codes here####\n",
        "            ###################################\n",
        "\n",
        "\n",
        "\n",
        "\n",
        "\n",
        "\n",
        "\n",
        "\n",
        "            ####################################\n",
        "        )\n",
        "   \n",
        "    def forward(self,input): return self.model(input)"
      ]
    },
    {
      "cell_type": "code",
      "execution_count": null,
      "metadata": {
        "id": "kPLs8OQLgD0-",
        "vscode": {
          "languageId": "python"
        }
      },
      "outputs": [],
      "source": [
        "generator = Generator().to(device)\n",
        "summary(generator,torch.zeros(1,100,1,1))"
      ]
    },
    {
      "cell_type": "code",
      "execution_count": null,
      "metadata": {
        "id": "DMmN1_K8gFr7",
        "vscode": {
          "languageId": "python"
        }
      },
      "outputs": [],
      "source": [
        "def discriminator_train_step(real_data, fake_data):\n",
        "    d_optimizer.zero_grad()\n",
        "    prediction_real = discriminator(real_data)\n",
        "    error_real = loss(prediction_real.squeeze(), torch.ones(len(real_data)).to(device))\n",
        "    error_real.backward()\n",
        "    prediction_fake = discriminator(fake_data)\n",
        "    error_fake = loss(prediction_fake.squeeze(), torch.zeros(len(fake_data)).to(device))\n",
        "    error_fake.backward()\n",
        "    d_optimizer.step()\n",
        "    return error_real + error_fake\n",
        "\n",
        "def generator_train_step(fake_data):\n",
        "    g_optimizer.zero_grad()\n",
        "    prediction = discriminator(fake_data)\n",
        "    error = loss(prediction.squeeze(), torch.ones(len(real_data)).to(device))\n",
        "    error.backward()\n",
        "    g_optimizer.step()\n",
        "    return error"
      ]
    },
    {
      "cell_type": "code",
      "execution_count": null,
      "metadata": {
        "id": "vejwiYhwgIe4",
        "vscode": {
          "languageId": "python"
        }
      },
      "outputs": [],
      "source": [
        "discriminator = Discriminator().to(device)\n",
        "generator = Generator().to(device)\n",
        "loss = nn.BCELoss()\n",
        "d_optimizer = optim.Adam(discriminator.parameters(), lr=0.0002, betas=(0.5, 0.999)) # Feel free to adjust the optimizer hyperparameters\n",
        "g_optimizer = optim.Adam(generator.parameters(), lr=0.0002, betas=(0.5, 0.999)) # Feel free to adjust the optimizer hyperparameters"
      ]
    },
    {
      "cell_type": "code",
      "execution_count": null,
      "metadata": {
        "id": "k4YuDDoLgKOc",
        "vscode": {
          "languageId": "python"
        }
      },
      "outputs": [],
      "source": [
        "log = Report(25)\n",
        "for epoch in range(25):\n",
        "    N = len(dataloader)\n",
        "    for i, images in enumerate(dataloader):\n",
        "        real_data = images.to(device)\n",
        "        fake_data = generator(torch.randn(len(real_data), 100, 1, 1).to(device)).to(device)\n",
        "        fake_data = fake_data.detach()\n",
        "        d_loss = discriminator_train_step(real_data, fake_data)\n",
        "        fake_data = generator(torch.randn(len(real_data), 100, 1, 1).to(device)).to(device)\n",
        "        g_loss = generator_train_step(fake_data)\n",
        "        log.record(epoch+(1+i)/N, d_loss=d_loss.item(), g_loss=g_loss.item(), end='\\r')\n",
        "\n",
        "log.plot_epochs(['d_loss','g_loss'])"
      ]
    },
    {
      "cell_type": "code",
      "execution_count": null,
      "metadata": {
        "id": "blr9dMTOgSZZ",
        "vscode": {
          "languageId": "python"
        }
      },
      "outputs": [],
      "source": [
        "generator.eval()\n",
        "noise = torch.randn(64, 100, 1, 1, device=device)\n",
        "sample_images = generator(noise).detach().cpu()\n",
        "grid = vutils.make_grid(sample_images, nrow=8, normalize=True)\n",
        "show(grid.cpu().detach().permute(1,2,0), sz=10, title='Generated images')"
      ]
    }
  ],
  "metadata": {
    "accelerator": "GPU",
    "colab": {
      "collapsed_sections": [],
      "provenance": []
    },
    "kernelspec": {
      "display_name": "Python 3",
      "name": "python3"
    }
  },
  "nbformat": 4,
  "nbformat_minor": 0
}
