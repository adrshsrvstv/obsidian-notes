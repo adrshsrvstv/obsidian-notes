{
 "cells": [
  {
   "cell_type": "code",
   "execution_count": 10,
   "id": "49577fdc",
   "metadata": {},
   "outputs": [],
   "source": [
    "import math\n",
    "\n",
    "x = 0\n",
    "L = 1\n",
    "\n",
    "beta1 = 0.9\n",
    "beta2 = 0.999\n",
    "e=0\n",
    "m=0\n",
    "v=0\n",
    "t=0\n",
    "alpha=0.001\n",
    "\n",
    "def get_grad(x):\n",
    "    if x<=L:\n",
    "        return -1\n",
    "    if x>L:\n",
    "        return 1\n",
    "    \n",
    "def do_gd_step(t, alpha, x, beta1, beta2, m, v, L):\n",
    "    t=0\n",
    "    ex=list()\n",
    "    while t< 1000000:\n",
    "        t+=1\n",
    "        grad = get_grad(x)\n",
    "        m = beta1*m + (1-beta1)*grad\n",
    "        v = beta2*v + (1-beta2)*(grad*grad)\n",
    "        m_cap = m / (1 - pow(beta1, t))\n",
    "        v_cap = v / (1 - pow(beta2, t))\n",
    "        x = x - alpha * (m_cap/math.sqrt(v_cap))\n",
    "        ex.append(x)\n",
    "    print(max(ex))\n",
    "    return ex"
   ]
  },
  {
   "cell_type": "code",
   "execution_count": 11,
   "id": "bf0eac2e",
   "metadata": {},
   "outputs": [
    {
     "name": "stdout",
     "output_type": "stream",
     "text": [
      "1.0024340620000007\n"
     ]
    }
   ],
   "source": [
    "l = do_gd_step(t, alpha, x, beta1, beta2, m, v, L)"
   ]
  },
  {
   "cell_type": "code",
   "execution_count": 58,
   "id": "de8fb3e1",
   "metadata": {},
   "outputs": [
    {
     "data": {
      "text/plain": [
       "1.0024340620000007"
      ]
     },
     "execution_count": 58,
     "metadata": {},
     "output_type": "execute_result"
    }
   ],
   "source": [
    "max(l)"
   ]
  },
  {
   "cell_type": "code",
   "execution_count": 59,
   "id": "8bcd6917",
   "metadata": {},
   "outputs": [
    {
     "data": {
      "text/plain": [
       "0.999782017994084"
      ]
     },
     "execution_count": 59,
     "metadata": {},
     "output_type": "execute_result"
    }
   ],
   "source": [
    "l[len(l)-1]"
   ]
  },
  {
   "cell_type": "code",
   "execution_count": 1,
   "id": "22186a32",
   "metadata": {},
   "outputs": [
    {
     "name": "stdout",
     "output_type": "stream",
     "text": [
      "/Users/adrshsrvstv/nus/nndl/hw3\r\n"
     ]
    }
   ],
   "source": [
    "!pwd"
   ]
  },
  {
   "cell_type": "code",
   "execution_count": null,
   "id": "80c544a2",
   "metadata": {},
   "outputs": [],
   "source": []
  }
 ],
 "metadata": {
  "kernelspec": {
   "display_name": "Python 3 (ipykernel)",
   "language": "python",
   "name": "python3"
  },
  "language_info": {
   "codemirror_mode": {
    "name": "ipython",
    "version": 3
   },
   "file_extension": ".py",
   "mimetype": "text/x-python",
   "name": "python",
   "nbconvert_exporter": "python",
   "pygments_lexer": "ipython3",
   "version": "3.10.6"
  }
 },
 "nbformat": 4,
 "nbformat_minor": 5
}
