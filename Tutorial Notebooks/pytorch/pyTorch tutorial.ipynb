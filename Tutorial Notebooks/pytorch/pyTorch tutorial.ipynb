{
 "cells": [
  {
   "cell_type": "code",
   "execution_count": 1,
   "id": "6d37484b-2e94-45da-9781-e85a5f193ae1",
   "metadata": {},
   "outputs": [],
   "source": [
    "import torch\n",
    "import numpy as np\n",
    "import matplotlib\n",
    "import pandas\n",
    "\n",
    "import time"
   ]
  },
  {
   "cell_type": "code",
   "execution_count": 2,
   "id": "e3352197-d68f-48e3-a649-08d930f752ea",
   "metadata": {},
   "outputs": [],
   "source": [
    "device = torch.device(\"cpu\")\n",
    "if torch.backends.mps.is_available():\n",
    "    device = torch.device(\"mps\")"
   ]
  },
  {
   "cell_type": "code",
   "execution_count": 3,
   "id": "c08da3e7-a0c9-48fb-ac1f-2673f4a84e8b",
   "metadata": {},
   "outputs": [
    {
     "name": "stdout",
     "output_type": "stream",
     "text": [
      "Shape of tensor: torch.Size([3, 4])\n",
      "Datatype of tensor: torch.float32\n",
      "Device tensor is stored on: cpu\n",
      "Device tensor is stored on: mps:0\n"
     ]
    }
   ],
   "source": [
    "tensor = torch.rand(3, 4)\n",
    "\n",
    "print(f\"Shape of tensor: {tensor.shape}\")\n",
    "print(f\"Datatype of tensor: {tensor.dtype}\")\n",
    "print(f\"Device tensor is stored on: {tensor.device}\")\n",
    "tensor = tensor.to(device)\n",
    "print(f\"Device tensor is stored on: {tensor.device}\")"
   ]
  },
  {
   "cell_type": "code",
   "execution_count": 4,
   "id": "ef34df4c-952f-41b3-9c5e-e27485e080c9",
   "metadata": {},
   "outputs": [
    {
     "data": {
      "text/plain": [
       "tensor([1., 1., 1., 1., 1.], dtype=torch.float64)"
      ]
     },
     "execution_count": 4,
     "metadata": {},
     "output_type": "execute_result"
    }
   ],
   "source": [
    "n = np.ones(5)\n",
    "t = torch.from_numpy(n)\n",
    "t"
   ]
  },
  {
   "cell_type": "code",
   "execution_count": 7,
   "id": "ee67839d-0956-4808-ab9b-049c37e45e76",
   "metadata": {},
   "outputs": [
    {
     "name": "stdout",
     "output_type": "stream",
     "text": [
      "CPU : --- 2.8122100830078125 seconds ---\n",
      "MPS : --- 0.00020503997802734375 seconds ---\n",
      "Speedup on MPS :13715.4\n"
     ]
    }
   ],
   "source": [
    "device = 'mps'\n",
    "\n",
    "torch.manual_seed(1234)\n",
    "TENSOR_A_CPU = torch.rand(5000, 50000)\n",
    "TENSOR_B_CPU = torch.rand(50000, 5000)\n",
    "\n",
    "torch.manual_seed(1234)\n",
    "TENSOR_A_MPS = torch.rand(5000, 50000).to(device)\n",
    "TENSOR_B_MPS = torch.rand(50000, 5000).to(device)\n",
    "\n",
    "# Warm-up\n",
    "for _ in range(100):\n",
    "    torch.matmul(torch.rand(500,500).to(device), torch.rand(500,500).to(device))\n",
    "    \n",
    "start_time = time.time()\n",
    "torch.matmul(TENSOR_A_CPU, TENSOR_B_CPU)\n",
    "cpu = (time.time() - start_time)\n",
    "print(\"CPU : --- %s seconds ---\" % cpu)\n",
    "\n",
    "start_time = time.time()\n",
    "torch.matmul(TENSOR_A_MPS, TENSOR_B_MPS)\n",
    "mps = (time.time() - start_time)\n",
    "print(\"MPS : --- %s seconds ---\" % mps)\n",
    "\n",
    "print(f\"Speedup on MPS :{cpu/mps:.1f}\")\n"
   ]
  },
  {
   "cell_type": "code",
   "execution_count": 8,
   "id": "00f57d17-e339-4666-ab44-c73795f98df3",
   "metadata": {},
   "outputs": [],
   "source": [
    "from torchvision.models import resnet18, ResNet18_Weights\n",
    "model = resnet18(weights=ResNet18_Weights.DEFAULT)\n",
    "data = torch.rand(1, 3, 64, 64)\n",
    "labels = torch.rand(1, 1000)"
   ]
  },
  {
   "cell_type": "code",
   "execution_count": 9,
   "id": "840bdacf-adad-414b-a541-3bd7b4e15f83",
   "metadata": {},
   "outputs": [],
   "source": [
    "prediction = model(data) # forward pass"
   ]
  },
  {
   "cell_type": "code",
   "execution_count": 10,
   "id": "b2262c05-42d3-45c9-82b4-d851ebfb1334",
   "metadata": {},
   "outputs": [],
   "source": [
    "loss = (prediction - labels).sum()\n",
    "loss.backward() # backward pass"
   ]
  },
  {
   "cell_type": "code",
   "execution_count": 11,
   "id": "cfa7e915-23e6-41e6-a78e-c7edbae87542",
   "metadata": {},
   "outputs": [],
   "source": [
    "optim = torch.optim.SGD(model.parameters(), lr=1e-2, momentum=0.9)"
   ]
  },
  {
   "cell_type": "code",
   "execution_count": 12,
   "id": "dd182a02-12ed-4a9b-b56f-7adff317a54b",
   "metadata": {},
   "outputs": [],
   "source": [
    "optim.step() #gradient descent"
   ]
  },
  {
   "cell_type": "markdown",
   "id": "f08eda51-bb80-4b72-90a1-4bbe4f094b9a",
   "metadata": {},
   "source": [
    "# Differentiation in pytorch\n",
    "\n",
    "Let’s take a look at how autograd collects gradients. We create two tensors a and b with requires_grad=True. This signals to autograd that every operation on them should be tracked."
   ]
  },
  {
   "cell_type": "code",
   "execution_count": 19,
   "id": "54c459e1-15b3-4be4-b751-52a567ac542c",
   "metadata": {},
   "outputs": [],
   "source": [
    "a = torch.tensor([2., 3.], requires_grad=True)\n",
    "b = torch.tensor([6., 4.], requires_grad=True)"
   ]
  },
  {
   "cell_type": "markdown",
   "id": "c5d11060-90e7-46b1-a273-664ece8cd80d",
   "metadata": {},
   "source": [
    "We create another tensor `Q` from `a` and `b`.\n",
    "\n",
    "$$Q = 3a^3 - b^2$$\n"
   ]
  },
  {
   "cell_type": "code",
   "execution_count": 20,
   "id": "97913f7d-9d4d-494d-be6a-371cb54a5559",
   "metadata": {},
   "outputs": [],
   "source": [
    "Q = 3*a**3 - b**2"
   ]
  },
  {
   "cell_type": "markdown",
   "id": "86dad804-8ee3-422b-b591-79d8d11b0276",
   "metadata": {},
   "source": [
    "Let\\'s assume `a` and `b` to be parameters of an NN, and `Q` to be the\n",
    "error. In NN training, we want gradients of the error w.r.t. parameters,\n",
    "i.e.\n",
    "\n",
    "$$\\frac{\\partial Q}{\\partial a} = 9a^2$$\n",
    "\n",
    "$$\\frac{\\partial Q}{\\partial b} = -2b$$\n",
    "\n",
    "When we call `.backward()` on `Q`, autograd calculates these gradients\n",
    "and stores them in the respective tensors\\' `.grad` attribute.\n",
    "\n",
    "We need to explicitly pass a `gradient` argument in `Q.backward()`\n",
    "because it is a vector. `gradient` is a tensor of the same shape as `Q`,\n",
    "and it represents the gradient of Q w.r.t. itself, i.e.\n",
    "\n",
    "$$\\frac{dQ}{dQ} = 1$$\n",
    "\n",
    "Equivalently, we can also aggregate Q into a scalar and call backward\n",
    "implicitly, like `Q.sum().backward()`.\n"
   ]
  },
  {
   "cell_type": "code",
   "execution_count": 22,
   "id": "7df332c9-187f-41d1-a9f5-b2fbb701aae1",
   "metadata": {},
   "outputs": [],
   "source": [
    "# Q.backward() # will throw \"RuntimeError: grad can be implicitly created only for scalar outputs\"\n",
    "\n",
    "# So\n",
    "external_grad = torch.tensor([1., 1.])\n",
    "Q.backward(gradient=external_grad)"
   ]
  },
  {
   "cell_type": "markdown",
   "id": "9e4dce9d-389e-401c-aa20-c57533e94056",
   "metadata": {},
   "source": [
    "Gradients are now deposited in `a.grad` and `b.grad`"
   ]
  },
  {
   "cell_type": "code",
   "execution_count": 17,
   "id": "422d5267-fac8-42dc-8684-de837a848cca",
   "metadata": {},
   "outputs": [
    {
     "name": "stdout",
     "output_type": "stream",
     "text": [
      "tensor([True, True])\n",
      "tensor([True, True])\n"
     ]
    }
   ],
   "source": [
    "# check if collected gradients are correct\n",
    "print(9*a**2 == a.grad)\n",
    "print(-2*b == b.grad)"
   ]
  },
  {
   "cell_type": "code",
   "execution_count": 18,
   "id": "a7abcfc9-78ef-4040-a1ca-a465a42bc85d",
   "metadata": {},
   "outputs": [
    {
     "data": {
      "text/plain": [
       "tensor([1., 1.])"
      ]
     },
     "execution_count": 18,
     "metadata": {},
     "output_type": "execute_result"
    }
   ],
   "source": [
    "external_grad"
   ]
  },
  {
   "cell_type": "markdown",
   "id": "6e9f7216-bf7f-4a0d-9d98-12046b285d11",
   "metadata": {},
   "source": [
    "# Some more notes from a youtube series\n",
    "\n"
   ]
  }
 ],
 "metadata": {
  "kernelspec": {
   "display_name": "Python 3 (ipykernel)",
   "language": "python",
   "name": "python3"
  },
  "language_info": {
   "codemirror_mode": {
    "name": "ipython",
    "version": 3
   },
   "file_extension": ".py",
   "mimetype": "text/x-python",
   "name": "python",
   "nbconvert_exporter": "python",
   "pygments_lexer": "ipython3",
   "version": "3.12.8"
  }
 },
 "nbformat": 4,
 "nbformat_minor": 5
}
